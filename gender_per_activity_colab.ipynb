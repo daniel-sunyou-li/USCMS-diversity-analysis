{
  "nbformat": 4,
  "nbformat_minor": 0,
  "metadata": {
    "colab": {
      "name": "gender_per_activity_colab.ipynb",
      "provenance": []
    },
    "kernelspec": {
      "name": "python3",
      "display_name": "Python 3"
    },
    "language_info": {
      "name": "python"
    },
    "widgets": {
      "application/vnd.jupyter.widget-state+json": {
        "69088baa618f408e89cbba9fe21ce6d0": {
          "model_module": "@jupyter-widgets/controls",
          "model_name": "SelectMultipleModel",
          "state": {
            "_options_labels": [
              "2015",
              "2016",
              "2017",
              "2018",
              "2019",
              "2020"
            ],
            "_view_name": "SelectMultipleView",
            "style": "IPY_MODEL_64baacfbfbe14ec99c1eab99cfbcbc23",
            "rows": 5,
            "_dom_classes": [],
            "description": "",
            "_model_name": "SelectMultipleModel",
            "index": [
              0,
              1,
              2,
              3,
              4,
              5
            ],
            "_view_module": "@jupyter-widgets/controls",
            "_model_module_version": "1.5.0",
            "_view_count": null,
            "disabled": false,
            "_view_module_version": "1.5.0",
            "description_tooltip": null,
            "_model_module": "@jupyter-widgets/controls",
            "layout": "IPY_MODEL_101f217085dc410384ef51a23bca99c1"
          }
        },
        "64baacfbfbe14ec99c1eab99cfbcbc23": {
          "model_module": "@jupyter-widgets/controls",
          "model_name": "DescriptionStyleModel",
          "state": {
            "_view_name": "StyleView",
            "_model_name": "DescriptionStyleModel",
            "description_width": "",
            "_view_module": "@jupyter-widgets/base",
            "_model_module_version": "1.5.0",
            "_view_count": null,
            "_view_module_version": "1.2.0",
            "_model_module": "@jupyter-widgets/controls"
          }
        },
        "101f217085dc410384ef51a23bca99c1": {
          "model_module": "@jupyter-widgets/base",
          "model_name": "LayoutModel",
          "state": {
            "_view_name": "LayoutView",
            "grid_template_rows": null,
            "right": null,
            "justify_content": null,
            "_view_module": "@jupyter-widgets/base",
            "overflow": null,
            "_model_module_version": "1.2.0",
            "_view_count": null,
            "flex_flow": null,
            "width": null,
            "min_width": null,
            "border": null,
            "align_items": null,
            "bottom": null,
            "_model_module": "@jupyter-widgets/base",
            "top": null,
            "grid_column": null,
            "overflow_y": null,
            "overflow_x": null,
            "grid_auto_flow": null,
            "grid_area": null,
            "grid_template_columns": null,
            "flex": null,
            "_model_name": "LayoutModel",
            "justify_items": null,
            "grid_row": null,
            "max_height": null,
            "align_content": null,
            "visibility": null,
            "align_self": null,
            "height": null,
            "min_height": null,
            "padding": null,
            "grid_auto_rows": null,
            "grid_gap": null,
            "max_width": null,
            "order": null,
            "_view_module_version": "1.2.0",
            "grid_template_areas": null,
            "object_position": null,
            "object_fit": null,
            "grid_auto_columns": null,
            "margin": null,
            "display": null,
            "left": null
          }
        },
        "bcdeee52b2b14dd9a79bfe8486203f63": {
          "model_module": "@jupyter-widgets/controls",
          "model_name": "SelectMultipleModel",
          "state": {
            "_options_labels": [
              "CERN",
              "CMS",
              "CMS iCMSfor9981_01/01/2019-Author:True",
              "CMSAFFILIATE",
              "CMSASSOC",
              "CMSEMERITUS",
              "CMSEXTENDED",
              "CMSVO",
              "DECEASED",
              "EXMEMBER",
              "NOSHOW",
              "NOTCMS",
              "NOTNAME",
              "RELATED"
            ],
            "_view_name": "SelectMultipleView",
            "style": "IPY_MODEL_e8b15bec9f0641a49ff2369a062fc476",
            "rows": 5,
            "_dom_classes": [],
            "description": "",
            "_model_name": "SelectMultipleModel",
            "index": [
              1,
              3,
              4,
              5,
              6
            ],
            "_view_module": "@jupyter-widgets/controls",
            "_model_module_version": "1.5.0",
            "_view_count": null,
            "disabled": false,
            "_view_module_version": "1.5.0",
            "description_tooltip": null,
            "_model_module": "@jupyter-widgets/controls",
            "layout": "IPY_MODEL_2f73acf5f04a4f9f94380a49b76f3aa6"
          }
        },
        "e8b15bec9f0641a49ff2369a062fc476": {
          "model_module": "@jupyter-widgets/controls",
          "model_name": "DescriptionStyleModel",
          "state": {
            "_view_name": "StyleView",
            "_model_name": "DescriptionStyleModel",
            "description_width": "",
            "_view_module": "@jupyter-widgets/base",
            "_model_module_version": "1.5.0",
            "_view_count": null,
            "_view_module_version": "1.2.0",
            "_model_module": "@jupyter-widgets/controls"
          }
        },
        "2f73acf5f04a4f9f94380a49b76f3aa6": {
          "model_module": "@jupyter-widgets/base",
          "model_name": "LayoutModel",
          "state": {
            "_view_name": "LayoutView",
            "grid_template_rows": null,
            "right": null,
            "justify_content": null,
            "_view_module": "@jupyter-widgets/base",
            "overflow": null,
            "_model_module_version": "1.2.0",
            "_view_count": null,
            "flex_flow": null,
            "width": null,
            "min_width": null,
            "border": null,
            "align_items": null,
            "bottom": null,
            "_model_module": "@jupyter-widgets/base",
            "top": null,
            "grid_column": null,
            "overflow_y": null,
            "overflow_x": null,
            "grid_auto_flow": null,
            "grid_area": null,
            "grid_template_columns": null,
            "flex": null,
            "_model_name": "LayoutModel",
            "justify_items": null,
            "grid_row": null,
            "max_height": null,
            "align_content": null,
            "visibility": null,
            "align_self": null,
            "height": null,
            "min_height": null,
            "padding": null,
            "grid_auto_rows": null,
            "grid_gap": null,
            "max_width": null,
            "order": null,
            "_view_module_version": "1.2.0",
            "grid_template_areas": null,
            "object_position": null,
            "object_fit": null,
            "grid_auto_columns": null,
            "margin": null,
            "display": null,
            "left": null
          }
        },
        "e9ee939025e44d7db3295af1fa6814c2": {
          "model_module": "@jupyter-widgets/controls",
          "model_name": "SelectModel",
          "state": {
            "_options_labels": [
              "AUTHORS",
              "ALL MEMBERS",
              "NON-AUTHORS",
              "REPORTED MEMBERS",
              "UNREPORTED MEMBERS",
              "AUTHORS and UNREPORTED",
              "NON-AUTHORS and UNREPORTED"
            ],
            "_view_name": "SelectView",
            "style": "IPY_MODEL_a77b176126c04aaeba573951ad279ba7",
            "rows": 5,
            "_dom_classes": [],
            "description": "",
            "_model_name": "SelectModel",
            "index": 1,
            "_view_module": "@jupyter-widgets/controls",
            "_model_module_version": "1.5.0",
            "_view_count": null,
            "disabled": false,
            "_view_module_version": "1.5.0",
            "description_tooltip": null,
            "_model_module": "@jupyter-widgets/controls",
            "layout": "IPY_MODEL_86f77d7ab19a438ead26e81f6cc72479"
          }
        },
        "a77b176126c04aaeba573951ad279ba7": {
          "model_module": "@jupyter-widgets/controls",
          "model_name": "DescriptionStyleModel",
          "state": {
            "_view_name": "StyleView",
            "_model_name": "DescriptionStyleModel",
            "description_width": "",
            "_view_module": "@jupyter-widgets/base",
            "_model_module_version": "1.5.0",
            "_view_count": null,
            "_view_module_version": "1.2.0",
            "_model_module": "@jupyter-widgets/controls"
          }
        },
        "86f77d7ab19a438ead26e81f6cc72479": {
          "model_module": "@jupyter-widgets/base",
          "model_name": "LayoutModel",
          "state": {
            "_view_name": "LayoutView",
            "grid_template_rows": null,
            "right": null,
            "justify_content": null,
            "_view_module": "@jupyter-widgets/base",
            "overflow": null,
            "_model_module_version": "1.2.0",
            "_view_count": null,
            "flex_flow": null,
            "width": null,
            "min_width": null,
            "border": null,
            "align_items": null,
            "bottom": null,
            "_model_module": "@jupyter-widgets/base",
            "top": null,
            "grid_column": null,
            "overflow_y": null,
            "overflow_x": null,
            "grid_auto_flow": null,
            "grid_area": null,
            "grid_template_columns": null,
            "flex": null,
            "_model_name": "LayoutModel",
            "justify_items": null,
            "grid_row": null,
            "max_height": null,
            "align_content": null,
            "visibility": null,
            "align_self": null,
            "height": null,
            "min_height": null,
            "padding": null,
            "grid_auto_rows": null,
            "grid_gap": null,
            "max_width": null,
            "order": null,
            "_view_module_version": "1.2.0",
            "grid_template_areas": null,
            "object_position": null,
            "object_fit": null,
            "grid_auto_columns": null,
            "margin": null,
            "display": null,
            "left": null
          }
        },
        "d05216673066463297106dc094da0230": {
          "model_module": "@jupyter-widgets/controls",
          "model_name": "SelectMultipleModel",
          "state": {
            "_options_labels": [
              "Administrative",
              "Doctoral Student",
              "Engineer Software",
              "Engineer/Technician",
              "Non-Doctoral Student",
              "Other",
              "Physicist",
              "Theoretical Physicist"
            ],
            "_view_name": "SelectMultipleView",
            "style": "IPY_MODEL_8768b632fac146b29e4fc87cd0153277",
            "rows": 5,
            "_dom_classes": [],
            "description": "",
            "_model_name": "SelectMultipleModel",
            "index": [
              1,
              2,
              3,
              4,
              6
            ],
            "_view_module": "@jupyter-widgets/controls",
            "_model_module_version": "1.5.0",
            "_view_count": null,
            "disabled": false,
            "_view_module_version": "1.5.0",
            "description_tooltip": null,
            "_model_module": "@jupyter-widgets/controls",
            "layout": "IPY_MODEL_1522bad609414454b7baca03e695f7a4"
          }
        },
        "8768b632fac146b29e4fc87cd0153277": {
          "model_module": "@jupyter-widgets/controls",
          "model_name": "DescriptionStyleModel",
          "state": {
            "_view_name": "StyleView",
            "_model_name": "DescriptionStyleModel",
            "description_width": "",
            "_view_module": "@jupyter-widgets/base",
            "_model_module_version": "1.5.0",
            "_view_count": null,
            "_view_module_version": "1.2.0",
            "_model_module": "@jupyter-widgets/controls"
          }
        },
        "1522bad609414454b7baca03e695f7a4": {
          "model_module": "@jupyter-widgets/base",
          "model_name": "LayoutModel",
          "state": {
            "_view_name": "LayoutView",
            "grid_template_rows": null,
            "right": null,
            "justify_content": null,
            "_view_module": "@jupyter-widgets/base",
            "overflow": null,
            "_model_module_version": "1.2.0",
            "_view_count": null,
            "flex_flow": null,
            "width": null,
            "min_width": null,
            "border": null,
            "align_items": null,
            "bottom": null,
            "_model_module": "@jupyter-widgets/base",
            "top": null,
            "grid_column": null,
            "overflow_y": null,
            "overflow_x": null,
            "grid_auto_flow": null,
            "grid_area": null,
            "grid_template_columns": null,
            "flex": null,
            "_model_name": "LayoutModel",
            "justify_items": null,
            "grid_row": null,
            "max_height": null,
            "align_content": null,
            "visibility": null,
            "align_self": null,
            "height": null,
            "min_height": null,
            "padding": null,
            "grid_auto_rows": null,
            "grid_gap": null,
            "max_width": null,
            "order": null,
            "_view_module_version": "1.2.0",
            "grid_template_areas": null,
            "object_position": null,
            "object_fit": null,
            "grid_auto_columns": null,
            "margin": null,
            "display": null,
            "left": null
          }
        },
        "3ff64ec4741a49e8b8fb556d20ee8c5d": {
          "model_module": "@jupyter-widgets/controls",
          "model_name": "SelectModel",
          "state": {
            "_options_labels": [
              "FRANCE",
              "GERMANY",
              "ITALY",
              "SWITZERLAND",
              "UNITED KINGDOM",
              "USCMS",
              "CERN",
              "RDMS",
              "CERN OTHER",
              "OTHER A",
              "OTHER B",
              "OTHER C"
            ],
            "_view_name": "SelectView",
            "style": "IPY_MODEL_aba97059954645929a6d659d769d1c78",
            "rows": 5,
            "_dom_classes": [],
            "description": "",
            "_model_name": "SelectModel",
            "index": 5,
            "_view_module": "@jupyter-widgets/controls",
            "_model_module_version": "1.5.0",
            "_view_count": null,
            "disabled": false,
            "_view_module_version": "1.5.0",
            "description_tooltip": null,
            "_model_module": "@jupyter-widgets/controls",
            "layout": "IPY_MODEL_cd703fcc47034699a05f9a20e3a2c5cb"
          }
        },
        "aba97059954645929a6d659d769d1c78": {
          "model_module": "@jupyter-widgets/controls",
          "model_name": "DescriptionStyleModel",
          "state": {
            "_view_name": "StyleView",
            "_model_name": "DescriptionStyleModel",
            "description_width": "",
            "_view_module": "@jupyter-widgets/base",
            "_model_module_version": "1.5.0",
            "_view_count": null,
            "_view_module_version": "1.2.0",
            "_model_module": "@jupyter-widgets/controls"
          }
        },
        "cd703fcc47034699a05f9a20e3a2c5cb": {
          "model_module": "@jupyter-widgets/base",
          "model_name": "LayoutModel",
          "state": {
            "_view_name": "LayoutView",
            "grid_template_rows": null,
            "right": null,
            "justify_content": null,
            "_view_module": "@jupyter-widgets/base",
            "overflow": null,
            "_model_module_version": "1.2.0",
            "_view_count": null,
            "flex_flow": null,
            "width": null,
            "min_width": null,
            "border": null,
            "align_items": null,
            "bottom": null,
            "_model_module": "@jupyter-widgets/base",
            "top": null,
            "grid_column": null,
            "overflow_y": null,
            "overflow_x": null,
            "grid_auto_flow": null,
            "grid_area": null,
            "grid_template_columns": null,
            "flex": null,
            "_model_name": "LayoutModel",
            "justify_items": null,
            "grid_row": null,
            "max_height": null,
            "align_content": null,
            "visibility": null,
            "align_self": null,
            "height": null,
            "min_height": null,
            "padding": null,
            "grid_auto_rows": null,
            "grid_gap": null,
            "max_width": null,
            "order": null,
            "_view_module_version": "1.2.0",
            "grid_template_areas": null,
            "object_position": null,
            "object_fit": null,
            "grid_auto_columns": null,
            "margin": null,
            "display": null,
            "left": null
          }
        }
      }
    }
  },
  "cells": [
    {
      "cell_type": "code",
      "metadata": {
        "colab": {
          "base_uri": "https://localhost:8080/"
        },
        "cellView": "form",
        "id": "JkB8WqxasALQ",
        "outputId": "b74efde7-4c43-4e99-871a-12d096f2ccff"
      },
      "source": [
        "#@markdown #USCMS Diveristy Data: Gender Count per Activity\n",
        "#@markdown Count gender per professional activity for various years\n",
        "\n",
        "#@markdown ### Import `python` libraries\n",
        "\n",
        "import os, json\n",
        "import numpy as np\n",
        "import pandas as pd\n",
        "from scipy import stats\n",
        "import matplotlib.pyplot as plt\n",
        "from matplotlib.colors import ListedColormap\n",
        "from matplotlib.lines import Line2D\n",
        "import ipywidgets as widgets\n",
        "\n",
        "from google.colab import drive\n",
        "drive.mount( '/content/drive' )\n",
        "\n",
        "%cd /content/drive/My Drive/Physics Research/CMS/Analysis/USCMS-diversity-analysis-main/"
      ],
      "execution_count": 2,
      "outputs": [
        {
          "output_type": "stream",
          "text": [
            "Mounted at /content/drive\n",
            "/content/drive/My Drive/Physics Research/CMS/Analysis/USCMS-diversity-analysis-main\n"
          ],
          "name": "stdout"
        }
      ]
    },
    {
      "cell_type": "code",
      "metadata": {
        "colab": {
          "base_uri": "https://localhost:8080/",
          "height": 111,
          "referenced_widgets": [
            "69088baa618f408e89cbba9fe21ce6d0",
            "64baacfbfbe14ec99c1eab99cfbcbc23",
            "101f217085dc410384ef51a23bca99c1"
          ]
        },
        "cellView": "form",
        "id": "YVrtwDvAsLcZ",
        "outputId": "3ecb3258-a268-4b08-f252-83f55ee8e97e"
      },
      "source": [
        "#@markdown ### Select and Load in the Relevant `json` Files\n",
        "#@markdown Choose the years to consolidate\n",
        "people_stats = [ option for option in os.listdir( \"./Data/\" ) if \"people_stats\" in option ]\n",
        "work = [ option for option in os.listdir( \"./Data/\" ) if \"work\" in option ]\n",
        "people_stats_years = [ name.split(\".\")[0].split(\"_\")[2][:4] for name in people_stats ]\n",
        "work_years = [ name.split(\".\")[0].split(\"_\")[1][:4] for name in work ]\n",
        "valid_years = list( set(people_stats_years).intersection(work_years) )\n",
        "yearlist = widgets.SelectMultiple( options = sorted(valid_years) )\n",
        "yearlist"
      ],
      "execution_count": 3,
      "outputs": [
        {
          "output_type": "display_data",
          "data": {
            "application/vnd.jupyter.widget-view+json": {
              "model_id": "69088baa618f408e89cbba9fe21ce6d0",
              "version_minor": 0,
              "version_major": 2
            },
            "text/plain": [
              "SelectMultiple(options=('2015', '2016', '2017', '2018', '2019', '2020'), value=())"
            ]
          },
          "metadata": {
            "tags": []
          }
        }
      ]
    },
    {
      "cell_type": "code",
      "metadata": {
        "colab": {
          "base_uri": "https://localhost:8080/"
        },
        "cellView": "form",
        "id": "svd4X__FsXDY",
        "outputId": "4291213b-35f7-42d7-e1ef-8730495f24ac"
      },
      "source": [
        "#@markdown Load in the `json` files\n",
        "region_key = {\n",
        "    \"FRANCE\": [\"FRANCE\"],\n",
        "    \"GERMANY\": [\"GERMANY\"],\n",
        "    \"ITALY\": [\"ITALY\"],\n",
        "    \"SWITZERLAND\": [\"SWITZERLAND\"],\n",
        "    \"UNITED KINGDOM\": [\"UNITED KINGDOM\"],\n",
        "    \"USCMS\": [\"USA\"],\n",
        "    \"CERN\":[\"CERN\",\"CERN-BASED\"],\n",
        "    \"RDMS\":[\"RUSSIA\",\"ARMENIA\",\"BELARUS\",\"GEORGIA\",\"UZBEKISTAN\"],\n",
        "    \"CERN OTHER\":[\"AUSTRIA\",\"BELGIUM\",\"BULGARIA\",\"FINLAND\",\"GREECE\",\"HUNGARY\",\"POLAND\",\"PORTUGAL\",\"SERBIA\",\"SPAIN\"],\n",
        "    \"OTHER A\":[\"CHINA\",\"INDIA\",\"IRAN\",\"KOREA\",\"MALAYSIA\",\"NEW ZEALAND\",\"PAKISTAN\",\"SRI LANKA\",\"TAIWAN\",\"THAILAND\"],\n",
        "    \"OTHER B\":[\"BAHRAIN\",\"BRAZIL\",\"COLOMBIA\",\"CROATIA\",\"CYPRUS\",\"ECUADOR\",\"EGYPT\",\"ESTONIA\",\"IRELAND\",\"KUWAIT\",\"LEBANON\",\"LATVIA\",\"LITHUANIA\",\"MEXICO\",\"MONTENEGRO\",\"OMAN\",\"QATAR\",\"SAUDI ARABIA\",\"TURKEY\",\"UKRAINE\"],\n",
        "    \"OTHER C\":[]\n",
        "}\n",
        "\n",
        "json_files = {\n",
        "    \"people_new\": json.load( open( \"Data/people_new.json\" ) ),\n",
        "    \"institutes_new\": json.load( open( \"Data/institutes_new.json\" ) ),\n",
        "    \"people_stats\": { year: json.load( open( \"Data/people_stats_{}1231.json\".format( year ) ) ) for year in yearlist.value }\n",
        "}\n",
        "\n",
        "institute_list = np.array( [ list( institute.values() ) for institute in json_files[ \"institutes_new\" ] ] )\n",
        "\n",
        "id_info = {}\n",
        "for person in json_files[ \"people_new\" ]:\n",
        "  id_info[ str( person[ \"cmsId\" ] ) ] = { \n",
        "    \"BIRTHYEAR\": person[ \"birthYear\" ],\n",
        "    \"GENDER\": person[ \"gender\" ]   \n",
        "  }\n",
        "\n",
        "data = {\n",
        "    year: {} for year in yearlist.value\n",
        "}\n",
        "\n",
        "for year in yearlist.value:\n",
        "  for person in json_files[ \"people_stats\" ][ year ]:\n",
        "    data[ year ][ str( person[ \"cms_id\" ] ) ] = {\n",
        "        \"ACTIVITY\": person[ \"activity_cms\" ],\n",
        "        \"INSTITUTE\": person[ \"inst_code\" ],\n",
        "        \"AUTHOR\": person[ \"is_author\" ],\n",
        "        \"STATUS\": person[ \"status_cms\" ],\n",
        "        \"GENDER\": id_info[ str( person[ \"cms_id\" ] ) ][ \"GENDER\" ],\n",
        "        \"BIRTHYEAR\": id_info[ str( person[ \"cms_id\" ] ) ][ \"GENDER\" ]\n",
        "    }\n",
        "    if person[ \"activity_cms\" ] != None:\n",
        "      if ( \"Engineer\" in person[ \"activity_cms\" ] and \"Software\" not in person[ \"activity_cms\" ] ) or person[ \"activity_cms\" ] == \"Technician\":\n",
        "        data[ year ][ str( person[ \"cms_id\" ] ) ][ \"ACTIVITY\" ] = \"Engineer/Technician\"\n",
        "\n",
        "  print( \"Adding regions for {}\".format( year ) )\n",
        "  for cms_id in data[ year ]:\n",
        "    this_index = np.argwhere( institute_list[:,0] == data[ year ][ cms_id ][ \"INSTITUTE\" ] )[0,0]\n",
        "    this_country = institute_list[ this_index, 1 ].upper()\n",
        "    if data[ year ][ cms_id ][ \"INSTITUTE\" ].upper() in [ \"CERN\", \"CERN-BASED\" ]:\n",
        "      this_country = \"CERN\"\n",
        "    has_region = False\n",
        "    for region in region_key.keys():\n",
        "      if this_country in region_key[ region ]:\n",
        "        data[ year ][ cms_id ][ \"REGION\" ] = region\n",
        "        has_region = True\n",
        "        continue\n",
        "    if has_region == False:\n",
        "      data[ year ][ cms_id ][ \"REGION\" ] = \"OTHER C\"\n",
        "      if this_country not in region_key[\"OTHER C\"]: \n",
        "        print( \">> Adding {} to Other C\".format( this_country ) )\n",
        "        region_key[\"OTHER C\"].append( this_country )"
      ],
      "execution_count": 51,
      "outputs": [
        {
          "output_type": "stream",
          "text": [
            "Adding regions for 2015\n",
            ">> Adding ZZ to Other C\n",
            ">> Adding SINGAPORE to Other C\n",
            ">> Adding SLOVAK REPUBLIC to Other C\n",
            ">> Adding CZECH REPUBLIC to Other C\n",
            ">> Adding NETHERLANDS to Other C\n",
            ">> Adding CANADA to Other C\n",
            ">> Adding PHILIPPINES to Other C\n",
            ">> Adding ROMANIA to Other C\n",
            ">> Adding JAPAN to Other C\n",
            ">> Adding NORWAY to Other C\n",
            ">> Adding TUNISIA to Other C\n",
            "Adding regions for 2016\n",
            "Adding regions for 2017\n",
            "Adding regions for 2018\n",
            "Adding regions for 2019\n",
            "Adding regions for 2020\n",
            ">> Adding JORDAN to Other C\n"
          ],
          "name": "stdout"
        }
      ]
    },
    {
      "cell_type": "code",
      "metadata": {
        "cellView": "form",
        "colab": {
          "base_uri": "https://localhost:8080/",
          "height": 111,
          "referenced_widgets": [
            "bcdeee52b2b14dd9a79bfe8486203f63",
            "e8b15bec9f0641a49ff2369a062fc476",
            "2f73acf5f04a4f9f94380a49b76f3aa6"
          ]
        },
        "id": "KWWNcxRzs389",
        "outputId": "273b2914-6a3b-4812-b538-ba1a2c59e98c"
      },
      "source": [
        "#@markdown Choose a CMS Status to report\n",
        "\n",
        "status_options = []\n",
        "\n",
        "for year in yearlist.value:\n",
        "  for person in json_files[ \"people_stats\" ][ year ]:\n",
        "    if person[ \"status_cms\" ] not in status_options:\n",
        "      if person[ \"status_cms\" ] != None and person[ \"status_cms\" ] != \"\":\n",
        "        status_options.append( person[ \"status_cms\" ] )\n",
        "\n",
        "status = widgets.SelectMultiple( options = sorted( status_options ), value = [ \"CMS\", \"CMSAFFILIATE\", \"CMSASSOC\", \"CMSEMERITUS\", \"CMSEXTENDED\" ] )\n",
        "status"
      ],
      "execution_count": 52,
      "outputs": [
        {
          "output_type": "display_data",
          "data": {
            "application/vnd.jupyter.widget-view+json": {
              "model_id": "bcdeee52b2b14dd9a79bfe8486203f63",
              "version_minor": 0,
              "version_major": 2
            },
            "text/plain": [
              "SelectMultiple(index=(1, 3, 4, 5, 6), options=('CERN', 'CMS', 'CMS iCMSfor9981_01/01/2019-Author:True', 'CMSAF…"
            ]
          },
          "metadata": {
            "tags": []
          }
        }
      ]
    },
    {
      "cell_type": "code",
      "metadata": {
        "cellView": "form",
        "colab": {
          "base_uri": "https://localhost:8080/",
          "height": 111,
          "referenced_widgets": [
            "e9ee939025e44d7db3295af1fa6814c2",
            "a77b176126c04aaeba573951ad279ba7",
            "86f77d7ab19a438ead26e81f6cc72479"
          ]
        },
        "id": "h93ZMLHrs4ce",
        "outputId": "7c2d788d-dbe0-41d8-af1d-a5932d7f18c0"
      },
      "source": [
        "#@markdown Select authorship status to report:\n",
        "author_legend = {\n",
        "    \"AUTHORS\": [ True ],\n",
        "    \"ALL MEMBERS\": [ True, False, None ],\n",
        "    \"NON-AUTHORS\": [ False ],\n",
        "    \"REPORTED MEMBERS\": [ True, False ],\n",
        "    \"UNREPORTED MEMBERS\": [ None ],\n",
        "    \"AUTHORS and UNREPORTED\": [ True, None ],\n",
        "    \"NON-AUTHORS and UNREPORTED\": [ False, None ]\n",
        "}\n",
        "author = widgets.Select( options = author_legend.keys(), value = \"AUTHORS\" )\n",
        "author"
      ],
      "execution_count": 53,
      "outputs": [
        {
          "output_type": "display_data",
          "data": {
            "application/vnd.jupyter.widget-view+json": {
              "model_id": "e9ee939025e44d7db3295af1fa6814c2",
              "version_minor": 0,
              "version_major": 2
            },
            "text/plain": [
              "Select(options=('AUTHORS', 'ALL MEMBERS', 'NON-AUTHORS', 'REPORTED MEMBERS', 'UNREPORTED MEMBERS', 'AUTHORS an…"
            ]
          },
          "metadata": {
            "tags": []
          }
        }
      ]
    },
    {
      "cell_type": "code",
      "metadata": {
        "colab": {
          "base_uri": "https://localhost:8080/",
          "height": 111,
          "referenced_widgets": [
            "d05216673066463297106dc094da0230",
            "8768b632fac146b29e4fc87cd0153277",
            "1522bad609414454b7baca03e695f7a4"
          ]
        },
        "cellView": "form",
        "id": "1oyxrHFas7c5",
        "outputId": "21494749-f71c-4051-8aa7-e5c5c42a5554"
      },
      "source": [
        "#@markdown Select professional activities to report\n",
        "activity_options = []\n",
        "for year in yearlist.value:\n",
        "  for cmsID in data[ year ]:\n",
        "    if data[ year ][ cmsID ][ \"ACTIVITY\" ] not in activity_options and data[ year ][ cmsID ][ \"ACTIVITY\" ] != None : \n",
        "      activity_options.append( data[ year ][ cmsID ][ \"ACTIVITY\" ] )\n",
        "\n",
        "activities = widgets.SelectMultiple( options = sorted( activity_options ) )\n",
        "activities"
      ],
      "execution_count": 54,
      "outputs": [
        {
          "output_type": "display_data",
          "data": {
            "application/vnd.jupyter.widget-view+json": {
              "model_id": "d05216673066463297106dc094da0230",
              "version_minor": 0,
              "version_major": 2
            },
            "text/plain": [
              "SelectMultiple(options=('Administrative', 'Doctoral Student', 'Engineer Software', 'Engineer/Technician', 'Non…"
            ]
          },
          "metadata": {
            "tags": []
          }
        }
      ]
    },
    {
      "cell_type": "code",
      "metadata": {
        "colab": {
          "base_uri": "https://localhost:8080/",
          "height": 111,
          "referenced_widgets": [
            "3ff64ec4741a49e8b8fb556d20ee8c5d",
            "aba97059954645929a6d659d769d1c78",
            "cd703fcc47034699a05f9a20e3a2c5cb"
          ]
        },
        "cellView": "form",
        "id": "CD8dvg_zuNFp",
        "outputId": "7aa377f0-cf3b-4547-ac75-c7a72379acb3"
      },
      "source": [
        "#@markdown Select region to report\n",
        "regions = widgets.Select( options = region_key.keys(), value = \"USCMS\" )\n",
        "regions "
      ],
      "execution_count": 55,
      "outputs": [
        {
          "output_type": "display_data",
          "data": {
            "application/vnd.jupyter.widget-view+json": {
              "model_id": "3ff64ec4741a49e8b8fb556d20ee8c5d",
              "version_minor": 0,
              "version_major": 2
            },
            "text/plain": [
              "Select(index=5, options=('FRANCE', 'GERMANY', 'ITALY', 'SWITZERLAND', 'UNITED KINGDOM', 'USCMS', 'CERN', 'RDMS…"
            ]
          },
          "metadata": {
            "tags": []
          }
        }
      ]
    },
    {
      "cell_type": "code",
      "metadata": {
        "colab": {
          "base_uri": "https://localhost:8080/"
        },
        "cellView": "form",
        "id": "ALf1R0uRvyB_",
        "outputId": "72d267ca-07c4-48ec-8806-b820ee291bbf"
      },
      "source": [
        "#@markdown Count the genders for each activity\n",
        "count_activity = {\n",
        "    year: {\n",
        "        category: {\n",
        "            activity: 0 for activity in activities.value\n",
        "        } for category in [ \"MALE\", \"FEMALE\", \"TOTAL\", \"FRACTION_F\", \"FRACTION_M\" ]\n",
        "    } for year in yearlist.value\n",
        "}\n",
        "\n",
        "for year in yearlist.value:\n",
        "  print( \"Counting for {}...\".format( year ) ) \n",
        "  for cmsID in data[ year ]:\n",
        "    if data[ year ][ cmsID ][ \"REGION\" ] != regions.value: continue\n",
        "    if data[ year ][ cmsID ][ \"AUTHOR\" ] in author_legend[ author.value ]:\n",
        "      for activity in activities.value:\n",
        "        if data[ year ][ cmsID ][ \"ACTIVITY\" ] == activity:\n",
        "          if data[ year ][ cmsID ][ \"GENDER\" ] == \"M\": count_activity[ year ][ \"MALE\" ][ activity ] += 1\n",
        "          elif data[ year ][ cmsID ][ \"GENDER\" ] == \"F\": count_activity[ year ][ \"FEMALE\" ][ activity ] += 1\n",
        "          count_activity[ year ][ \"TOTAL\" ][ activity ] += 1\n",
        "  for activity in activities.value:\n",
        "    if count_activity[ year ][ \"TOTAL\" ][ activity ] > 0:\n",
        "      count_activity[ year ][ \"FRACTION_F\" ][ activity ] = float( count_activity[ year ][ \"FEMALE\" ][ activity ] ) / float( count_activity[ year ][ \"TOTAL\" ][ activity ] )\n",
        "      count_activity[ year ][ \"FRACTION_M\" ][ activity ] = float( count_activity[ year ][ \"MALE\" ][ activity ] ) / float( count_activity[ year ][ \"TOTAL\" ][ activity ] )\n",
        "    else:\n",
        "      print( \">> {} has no entries\".format( activity ) ) "
      ],
      "execution_count": 61,
      "outputs": [
        {
          "output_type": "stream",
          "text": [
            "Counting for 2015...\n",
            "Counting for 2016...\n",
            "Counting for 2017...\n",
            "Counting for 2018...\n",
            "Counting for 2019...\n",
            "Counting for 2020...\n"
          ],
          "name": "stdout"
        }
      ]
    },
    {
      "cell_type": "code",
      "metadata": {
        "colab": {
          "base_uri": "https://localhost:8080/",
          "height": 720
        },
        "cellView": "form",
        "id": "aND94gSpv9kC",
        "outputId": "c4105437-7e3c-48c6-ef76-e234f1910370"
      },
      "source": [
        "#@markdown ### Plot the Gender Counts by Region per Year\n",
        "\n",
        "width = 0.8 / len( yearlist.value )\n",
        "x = np.arange( len( activities.value ) )\n",
        "\n",
        "plt.figure( figsize = (3 * len(x) , 10) )\n",
        "ax = plt.subplot(111)\n",
        "\n",
        "for i, year in enumerate( list( yearlist.value ) ):\n",
        "    ax.bar( x + width * i, list( count_activity[ year ][ \"FEMALE\" ].values() )[-len(x):], width,\n",
        "           color = \"lightgreen\", zorder=3 )\n",
        "    ax.bar( x + width * i, list( count_activity[ year ][ \"MALE\" ].values() )[-len(x):], width,\n",
        "           bottom = list( count_activity[ year ][ \"FEMALE\" ].values() )[-len(x):],\n",
        "           color = \"dodgerblue\", zorder=3 )\n",
        "\n",
        "    \n",
        "ax.set_title( \"Yearly {} CMS {} Gender Counts by Activity from {} to {}\".format( \n",
        "    regions.value, author.value, yearlist.value[0], yearlist.value[-1]\n",
        " ), fontsize = 20 )\n",
        "ax.set_ylabel( \"Count\", y = 1.0, ha = \"right\", fontsize = 14 )\n",
        "ax.set_xticks( x )\n",
        "ax.set_xticklabels( activities.value[-len(x):], fontsize = 14, rotation = 45 )\n",
        "\n",
        "custom_legend = [\n",
        "  Line2D( [0], [0], color = \"lightgreen\", lw = 5 ),\n",
        "  Line2D( [0], [0], color = \"dodgerblue\", lw = 5 )\n",
        "]\n",
        "ax.legend( custom_legend, [ \"Women\", \"Men\" ], loc = 2 )\n",
        "\n",
        "ax.set_facecolor(\"white\")\n",
        "ax.grid( b=True, which=\"major\", axis=\"y\", color = [0.7,0.7,0.7], \n",
        "        linestyle = \":\", linewidth = 1, zorder=0)\n",
        "plt.show()"
      ],
      "execution_count": 62,
      "outputs": [
        {
          "output_type": "display_data",
          "data": {
            "image/png": "[encoded data removed]",
            "text/plain": [
              "<Figure size 1080x720 with 1 Axes>"
            ]
          },
          "metadata": {
            "tags": [],
            "needs_background": "light"
          }
        }
      ]
    },
    {
      "cell_type": "code",
      "metadata": {
        "colab": {
          "base_uri": "https://localhost:8080/",
          "height": 720
        },
        "cellView": "form",
        "id": "KpmizjUoyKcz",
        "outputId": "b8bbe8d8-3a27-41c3-94db-f12235f51e18"
      },
      "source": [
        "#@markdown ### Plot the Gender Counts by Region per Year\n",
        "\n",
        "width = 0.8 / len( yearlist.value )\n",
        "x = np.arange( len( activities.value ) )\n",
        "\n",
        "plt.figure( figsize = (3 * len(x) , 10) )\n",
        "ax = plt.subplot(111)\n",
        "\n",
        "cmap = plt.get_cmap(\"Paired\")\n",
        "\n",
        "for i, year in enumerate( list( yearlist.value ) ):\n",
        "    ax.bar( x + width * i, list( count_activity[ year ][ \"FRACTION_F\" ].values() )[-len(x):], width,\n",
        "           color = cmap.colors[i], zorder=3, label = year )\n",
        "\n",
        "    \n",
        "ax.set_title( \"Yearly {} CMS {} Gender Ratio by Activity from {} to {}\".format( \n",
        "    regions.value, author.value, yearlist.value[0], yearlist.value[-1]\n",
        " ), fontsize = 20 )\n",
        "ax.set_ylabel( \"Ratio\", y = 1.0, ha = \"right\", fontsize = 14 )\n",
        "ax.set_ylim( 0, 0.4 )\n",
        "ax.set_xticks( x )\n",
        "ax.set_xticklabels( activities.value[-len(x):], fontsize = 14, rotation = 45 )\n",
        "\n",
        "ax.legend( loc = 2 )\n",
        "\n",
        "ax.set_facecolor(\"white\")\n",
        "ax.grid( b=True, which=\"major\", axis=\"y\", color = [0.7,0.7,0.7], \n",
        "        linestyle = \":\", linewidth = 1, zorder=0)\n",
        "plt.show()"
      ],
      "execution_count": 63,
      "outputs": [
        {
          "output_type": "display_data",
          "data": {
            "image/png": "[encoded data removed]",
            "text/plain": [
              "<Figure size 1080x720 with 1 Axes>"
            ]
          },
          "metadata": {
            "tags": [],
            "needs_background": "light"
          }
        }
      ]
    },
    {
      "cell_type": "code",
      "metadata": {
        "id": "sy_c2shtyxA_"
      },
      "source": [
        ""
      ],
      "execution_count": null,
      "outputs": []
    }
  ]
}