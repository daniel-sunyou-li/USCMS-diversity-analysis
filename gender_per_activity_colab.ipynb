{
  "nbformat": 4,
  "nbformat_minor": 0,
  "metadata": {
    "colab": {
      "name": "gender_per_activity_colab.ipynb",
      "provenance": []
    },
    "kernelspec": {
      "name": "python3",
      "display_name": "Python 3"
    },
    "language_info": {
      "name": "python"
    },
    "widgets": {
      "application/vnd.jupyter.widget-state+json": {
        "bf2da30583a842fbaf0418f684337a62": {
          "model_module": "@jupyter-widgets/controls",
          "model_name": "SelectMultipleModel",
          "state": {
            "_options_labels": [
              "2015",
              "2016",
              "2017",
              "2018",
              "2019",
              "2020"
            ],
            "_view_name": "SelectMultipleView",
            "style": "IPY_MODEL_5d0388b3399f4fd394c7ba470430b27c",
            "rows": 5,
            "_dom_classes": [],
            "description": "",
            "_model_name": "SelectMultipleModel",
            "index": [
              0,
              1,
              2,
              3,
              4,
              5
            ],
            "_view_module": "@jupyter-widgets/controls",
            "_model_module_version": "1.5.0",
            "_view_count": null,
            "disabled": false,
            "_view_module_version": "1.5.0",
            "description_tooltip": null,
            "_model_module": "@jupyter-widgets/controls",
            "layout": "IPY_MODEL_2e45f79661e343e6a06e46447fe7ae68"
          }
        },
        "5d0388b3399f4fd394c7ba470430b27c": {
          "model_module": "@jupyter-widgets/controls",
          "model_name": "DescriptionStyleModel",
          "state": {
            "_view_name": "StyleView",
            "_model_name": "DescriptionStyleModel",
            "description_width": "",
            "_view_module": "@jupyter-widgets/base",
            "_model_module_version": "1.5.0",
            "_view_count": null,
            "_view_module_version": "1.2.0",
            "_model_module": "@jupyter-widgets/controls"
          }
        },
        "2e45f79661e343e6a06e46447fe7ae68": {
          "model_module": "@jupyter-widgets/base",
          "model_name": "LayoutModel",
          "state": {
            "_view_name": "LayoutView",
            "grid_template_rows": null,
            "right": null,
            "justify_content": null,
            "_view_module": "@jupyter-widgets/base",
            "overflow": null,
            "_model_module_version": "1.2.0",
            "_view_count": null,
            "flex_flow": null,
            "width": null,
            "min_width": null,
            "border": null,
            "align_items": null,
            "bottom": null,
            "_model_module": "@jupyter-widgets/base",
            "top": null,
            "grid_column": null,
            "overflow_y": null,
            "overflow_x": null,
            "grid_auto_flow": null,
            "grid_area": null,
            "grid_template_columns": null,
            "flex": null,
            "_model_name": "LayoutModel",
            "justify_items": null,
            "grid_row": null,
            "max_height": null,
            "align_content": null,
            "visibility": null,
            "align_self": null,
            "height": null,
            "min_height": null,
            "padding": null,
            "grid_auto_rows": null,
            "grid_gap": null,
            "max_width": null,
            "order": null,
            "_view_module_version": "1.2.0",
            "grid_template_areas": null,
            "object_position": null,
            "object_fit": null,
            "grid_auto_columns": null,
            "margin": null,
            "display": null,
            "left": null
          }
        },
        "cf3093ae3ebe4029b3d5a9d0a85b8030": {
          "model_module": "@jupyter-widgets/controls",
          "model_name": "SelectMultipleModel",
          "state": {
            "_options_labels": [
              "CERN",
              "CMS",
              "CMS iCMSfor9981_01/01/2019-Author:True",
              "CMSAFFILIATE",
              "CMSASSOC",
              "CMSEMERITUS",
              "CMSEXTENDED",
              "CMSVO",
              "DECEASED",
              "EXMEMBER",
              "NOSHOW",
              "NOTCMS",
              "NOTNAME",
              "RELATED"
            ],
            "_view_name": "SelectMultipleView",
            "style": "IPY_MODEL_da103271bb784e3883713ec034b77db8",
            "rows": 5,
            "_dom_classes": [],
            "description": "",
            "_model_name": "SelectMultipleModel",
            "index": [
              1,
              3,
              4,
              5,
              6
            ],
            "_view_module": "@jupyter-widgets/controls",
            "_model_module_version": "1.5.0",
            "_view_count": null,
            "disabled": false,
            "_view_module_version": "1.5.0",
            "description_tooltip": null,
            "_model_module": "@jupyter-widgets/controls",
            "layout": "IPY_MODEL_714e95412dfc48499b8b8aaeb935a16b"
          }
        },
        "da103271bb784e3883713ec034b77db8": {
          "model_module": "@jupyter-widgets/controls",
          "model_name": "DescriptionStyleModel",
          "state": {
            "_view_name": "StyleView",
            "_model_name": "DescriptionStyleModel",
            "description_width": "",
            "_view_module": "@jupyter-widgets/base",
            "_model_module_version": "1.5.0",
            "_view_count": null,
            "_view_module_version": "1.2.0",
            "_model_module": "@jupyter-widgets/controls"
          }
        },
        "714e95412dfc48499b8b8aaeb935a16b": {
          "model_module": "@jupyter-widgets/base",
          "model_name": "LayoutModel",
          "state": {
            "_view_name": "LayoutView",
            "grid_template_rows": null,
            "right": null,
            "justify_content": null,
            "_view_module": "@jupyter-widgets/base",
            "overflow": null,
            "_model_module_version": "1.2.0",
            "_view_count": null,
            "flex_flow": null,
            "width": null,
            "min_width": null,
            "border": null,
            "align_items": null,
            "bottom": null,
            "_model_module": "@jupyter-widgets/base",
            "top": null,
            "grid_column": null,
            "overflow_y": null,
            "overflow_x": null,
            "grid_auto_flow": null,
            "grid_area": null,
            "grid_template_columns": null,
            "flex": null,
            "_model_name": "LayoutModel",
            "justify_items": null,
            "grid_row": null,
            "max_height": null,
            "align_content": null,
            "visibility": null,
            "align_self": null,
            "height": null,
            "min_height": null,
            "padding": null,
            "grid_auto_rows": null,
            "grid_gap": null,
            "max_width": null,
            "order": null,
            "_view_module_version": "1.2.0",
            "grid_template_areas": null,
            "object_position": null,
            "object_fit": null,
            "grid_auto_columns": null,
            "margin": null,
            "display": null,
            "left": null
          }
        },
        "c28c1c68212d4d279f7273eee0a32d62": {
          "model_module": "@jupyter-widgets/controls",
          "model_name": "SelectModel",
          "state": {
            "_options_labels": [
              "AUTHORS",
              "ALL MEMBERS",
              "NON-AUTHORS",
              "REPORTED MEMBERS",
              "UNREPORTED MEMBERS",
              "AUTHORS and UNREPORTED",
              "NON-AUTHORS and UNREPORTED"
            ],
            "_view_name": "SelectView",
            "style": "IPY_MODEL_fa8715f76c534dbb94590d7debe3fff8",
            "rows": 5,
            "_dom_classes": [],
            "description": "",
            "_model_name": "SelectModel",
            "index": 1,
            "_view_module": "@jupyter-widgets/controls",
            "_model_module_version": "1.5.0",
            "_view_count": null,
            "disabled": false,
            "_view_module_version": "1.5.0",
            "description_tooltip": null,
            "_model_module": "@jupyter-widgets/controls",
            "layout": "IPY_MODEL_1b4eb5a76db045abaeacedbe463d1a50"
          }
        },
        "fa8715f76c534dbb94590d7debe3fff8": {
          "model_module": "@jupyter-widgets/controls",
          "model_name": "DescriptionStyleModel",
          "state": {
            "_view_name": "StyleView",
            "_model_name": "DescriptionStyleModel",
            "description_width": "",
            "_view_module": "@jupyter-widgets/base",
            "_model_module_version": "1.5.0",
            "_view_count": null,
            "_view_module_version": "1.2.0",
            "_model_module": "@jupyter-widgets/controls"
          }
        },
        "1b4eb5a76db045abaeacedbe463d1a50": {
          "model_module": "@jupyter-widgets/base",
          "model_name": "LayoutModel",
          "state": {
            "_view_name": "LayoutView",
            "grid_template_rows": null,
            "right": null,
            "justify_content": null,
            "_view_module": "@jupyter-widgets/base",
            "overflow": null,
            "_model_module_version": "1.2.0",
            "_view_count": null,
            "flex_flow": null,
            "width": null,
            "min_width": null,
            "border": null,
            "align_items": null,
            "bottom": null,
            "_model_module": "@jupyter-widgets/base",
            "top": null,
            "grid_column": null,
            "overflow_y": null,
            "overflow_x": null,
            "grid_auto_flow": null,
            "grid_area": null,
            "grid_template_columns": null,
            "flex": null,
            "_model_name": "LayoutModel",
            "justify_items": null,
            "grid_row": null,
            "max_height": null,
            "align_content": null,
            "visibility": null,
            "align_self": null,
            "height": null,
            "min_height": null,
            "padding": null,
            "grid_auto_rows": null,
            "grid_gap": null,
            "max_width": null,
            "order": null,
            "_view_module_version": "1.2.0",
            "grid_template_areas": null,
            "object_position": null,
            "object_fit": null,
            "grid_auto_columns": null,
            "margin": null,
            "display": null,
            "left": null
          }
        },
        "0172ed39faa74953a6ff0297d5d3c7fc": {
          "model_module": "@jupyter-widgets/controls",
          "model_name": "SelectMultipleModel",
          "state": {
            "_options_labels": [
              "Administrative",
              "Doctoral Student",
              "Engineer Software",
              "Engineer/Technician",
              "Non-Doctoral Student",
              "Other",
              "Physicist",
              "Theoretical Physicist"
            ],
            "_view_name": "SelectMultipleView",
            "style": "IPY_MODEL_837f571848a9453eb1fd0b76ca3bfb27",
            "rows": 5,
            "_dom_classes": [],
            "description": "",
            "_model_name": "SelectMultipleModel",
            "index": [
              1,
              2,
              3,
              4,
              6
            ],
            "_view_module": "@jupyter-widgets/controls",
            "_model_module_version": "1.5.0",
            "_view_count": null,
            "disabled": false,
            "_view_module_version": "1.5.0",
            "description_tooltip": null,
            "_model_module": "@jupyter-widgets/controls",
            "layout": "IPY_MODEL_710a182b5090430db9bfc563d271feac"
          }
        },
        "837f571848a9453eb1fd0b76ca3bfb27": {
          "model_module": "@jupyter-widgets/controls",
          "model_name": "DescriptionStyleModel",
          "state": {
            "_view_name": "StyleView",
            "_model_name": "DescriptionStyleModel",
            "description_width": "",
            "_view_module": "@jupyter-widgets/base",
            "_model_module_version": "1.5.0",
            "_view_count": null,
            "_view_module_version": "1.2.0",
            "_model_module": "@jupyter-widgets/controls"
          }
        },
        "710a182b5090430db9bfc563d271feac": {
          "model_module": "@jupyter-widgets/base",
          "model_name": "LayoutModel",
          "state": {
            "_view_name": "LayoutView",
            "grid_template_rows": null,
            "right": null,
            "justify_content": null,
            "_view_module": "@jupyter-widgets/base",
            "overflow": null,
            "_model_module_version": "1.2.0",
            "_view_count": null,
            "flex_flow": null,
            "width": null,
            "min_width": null,
            "border": null,
            "align_items": null,
            "bottom": null,
            "_model_module": "@jupyter-widgets/base",
            "top": null,
            "grid_column": null,
            "overflow_y": null,
            "overflow_x": null,
            "grid_auto_flow": null,
            "grid_area": null,
            "grid_template_columns": null,
            "flex": null,
            "_model_name": "LayoutModel",
            "justify_items": null,
            "grid_row": null,
            "max_height": null,
            "align_content": null,
            "visibility": null,
            "align_self": null,
            "height": null,
            "min_height": null,
            "padding": null,
            "grid_auto_rows": null,
            "grid_gap": null,
            "max_width": null,
            "order": null,
            "_view_module_version": "1.2.0",
            "grid_template_areas": null,
            "object_position": null,
            "object_fit": null,
            "grid_auto_columns": null,
            "margin": null,
            "display": null,
            "left": null
          }
        },
        "a5e7fb828c534a42928c644eab8f14c4": {
          "model_module": "@jupyter-widgets/controls",
          "model_name": "SelectModel",
          "state": {
            "_options_labels": [
              "FRANCE",
              "GERMANY",
              "ITALY",
              "SWITZERLAND",
              "UNITED KINGDOM",
              "USCMS",
              "CERN",
              "RDMS",
              "CERN OTHER",
              "OTHER A",
              "OTHER B",
              "OTHER C"
            ],
            "_view_name": "SelectView",
            "style": "IPY_MODEL_bd7368b8842c470b949f083ba2987904",
            "rows": 5,
            "_dom_classes": [],
            "description": "",
            "_model_name": "SelectModel",
            "index": 5,
            "_view_module": "@jupyter-widgets/controls",
            "_model_module_version": "1.5.0",
            "_view_count": null,
            "disabled": false,
            "_view_module_version": "1.5.0",
            "description_tooltip": null,
            "_model_module": "@jupyter-widgets/controls",
            "layout": "IPY_MODEL_585829ee960b447ea9200ef8d07bff75"
          }
        },
        "bd7368b8842c470b949f083ba2987904": {
          "model_module": "@jupyter-widgets/controls",
          "model_name": "DescriptionStyleModel",
          "state": {
            "_view_name": "StyleView",
            "_model_name": "DescriptionStyleModel",
            "description_width": "",
            "_view_module": "@jupyter-widgets/base",
            "_model_module_version": "1.5.0",
            "_view_count": null,
            "_view_module_version": "1.2.0",
            "_model_module": "@jupyter-widgets/controls"
          }
        },
        "585829ee960b447ea9200ef8d07bff75": {
          "model_module": "@jupyter-widgets/base",
          "model_name": "LayoutModel",
          "state": {
            "_view_name": "LayoutView",
            "grid_template_rows": null,
            "right": null,
            "justify_content": null,
            "_view_module": "@jupyter-widgets/base",
            "overflow": null,
            "_model_module_version": "1.2.0",
            "_view_count": null,
            "flex_flow": null,
            "width": null,
            "min_width": null,
            "border": null,
            "align_items": null,
            "bottom": null,
            "_model_module": "@jupyter-widgets/base",
            "top": null,
            "grid_column": null,
            "overflow_y": null,
            "overflow_x": null,
            "grid_auto_flow": null,
            "grid_area": null,
            "grid_template_columns": null,
            "flex": null,
            "_model_name": "LayoutModel",
            "justify_items": null,
            "grid_row": null,
            "max_height": null,
            "align_content": null,
            "visibility": null,
            "align_self": null,
            "height": null,
            "min_height": null,
            "padding": null,
            "grid_auto_rows": null,
            "grid_gap": null,
            "max_width": null,
            "order": null,
            "_view_module_version": "1.2.0",
            "grid_template_areas": null,
            "object_position": null,
            "object_fit": null,
            "grid_auto_columns": null,
            "margin": null,
            "display": null,
            "left": null
          }
        }
      }
    }
  },
  "cells": [
    {
      "cell_type": "code",
      "metadata": {
        "colab": {
          "base_uri": "https://localhost:8080/"
        },
        "cellView": "form",
        "id": "JkB8WqxasALQ",
        "outputId": "6a5cb3cc-7497-4240-9cad-af2217ae20de"
      },
      "source": [
        "#@markdown #USCMS Diveristy Data: Gender Count per Activity\n",
        "#@markdown Count gender per professional activity for various years\n",
        "\n",
        "#@markdown ### Import `python` libraries\n",
        "\n",
        "import os, json\n",
        "import numpy as np\n",
        "import pandas as pd\n",
        "from scipy import stats\n",
        "import matplotlib.pyplot as plt\n",
        "from matplotlib.colors import ListedColormap\n",
        "from matplotlib.lines import Line2D\n",
        "import ipywidgets as widgets\n",
        "\n",
        "from google.colab import drive\n",
        "drive.mount( '/content/drive' )\n",
        "\n",
        "%cd /content/drive/My Drive/Physics Research/CMS/Analysis/USCMS-diversity-analysis-main/"
      ],
      "execution_count": 1,
      "outputs": [
        {
          "output_type": "stream",
          "text": [
            "Mounted at /content/drive\n",
            "/content/drive/My Drive/Physics Research/CMS/Analysis/USCMS-diversity-analysis-main\n"
          ],
          "name": "stdout"
        }
      ]
    },
    {
      "cell_type": "code",
      "metadata": {
        "colab": {
          "base_uri": "https://localhost:8080/",
          "height": 111,
          "referenced_widgets": [
            "bf2da30583a842fbaf0418f684337a62",
            "5d0388b3399f4fd394c7ba470430b27c",
            "2e45f79661e343e6a06e46447fe7ae68"
          ]
        },
        "cellView": "form",
        "id": "YVrtwDvAsLcZ",
        "outputId": "5ed6e592-c8cc-408e-b351-7b3d09288f19"
      },
      "source": [
        "#@markdown ### Select and Load in the Relevant `json` Files\n",
        "#@markdown Choose the years to consolidate\n",
        "people_stats = [ option for option in os.listdir( \"./Data/\" ) if \"people_stats\" in option ]\n",
        "work = [ option for option in os.listdir( \"./Data/\" ) if \"work\" in option ]\n",
        "people_stats_years = [ name.split(\".\")[0].split(\"_\")[2][:4] for name in people_stats ]\n",
        "work_years = [ name.split(\".\")[0].split(\"_\")[1][:4] for name in work ]\n",
        "valid_years = list( set(people_stats_years).intersection(work_years) )\n",
        "yearlist = widgets.SelectMultiple( options = sorted(valid_years) )\n",
        "yearlist"
      ],
      "execution_count": 13,
      "outputs": [
        {
          "output_type": "display_data",
          "data": {
            "application/vnd.jupyter.widget-view+json": {
              "model_id": "bf2da30583a842fbaf0418f684337a62",
              "version_minor": 0,
              "version_major": 2
            },
            "text/plain": [
              "SelectMultiple(options=('2015', '2016', '2017', '2018', '2019', '2020'), value=())"
            ]
          },
          "metadata": {
            "tags": []
          }
        }
      ]
    },
    {
      "cell_type": "code",
      "metadata": {
        "colab": {
          "base_uri": "https://localhost:8080/"
        },
        "id": "svd4X__FsXDY",
        "cellView": "form",
        "outputId": "2ef96955-2aa9-47e6-9f16-48907758dea9"
      },
      "source": [
        "#@markdown Load in the `json` files\n",
        "region_key = {\n",
        "    \"FRANCE\": [\"FRANCE\"],\n",
        "    \"GERMANY\": [\"GERMANY\"],\n",
        "    \"ITALY\": [\"ITALY\"],\n",
        "    \"SWITZERLAND\": [\"SWITZERLAND\"],\n",
        "    \"UNITED KINGDOM\": [\"UNITED KINGDOM\"],\n",
        "    \"USCMS\": [\"USA\"],\n",
        "    \"CERN\":[\"CERN\",\"CERN-BASED\"],\n",
        "    \"RDMS\":[\"RUSSIA\",\"ARMENIA\",\"BELARUS\",\"GEORGIA\",\"UZBEKISTAN\"],\n",
        "    \"CERN OTHER\":[\"AUSTRIA\",\"BELGIUM\",\"BULGARIA\",\"FINLAND\",\"GREECE\",\"HUNGARY\",\"POLAND\",\"PORTUGAL\",\"SERBIA\",\"SPAIN\"],\n",
        "    \"OTHER A\":[\"CHINA\",\"INDIA\",\"IRAN\",\"KOREA\",\"MALAYSIA\",\"NEW ZEALAND\",\"PAKISTAN\",\"SRI LANKA\",\"TAIWAN\",\"THAILAND\"],\n",
        "    \"OTHER B\":[\"BAHRAIN\",\"BRAZIL\",\"COLOMBIA\",\"CROATIA\",\"CYPRUS\",\"ECUADOR\",\"EGYPT\",\"ESTONIA\",\"IRELAND\",\"KUWAIT\",\"LEBANON\",\"LATVIA\",\"LITHUANIA\",\"MEXICO\",\"MONTENEGRO\",\"OMAN\",\"QATAR\",\"SAUDI ARABIA\",\"TURKEY\",\"UKRAINE\"],\n",
        "    \"OTHER C\":[]\n",
        "}\n",
        "\n",
        "json_files = {\n",
        "    \"people_new\": json.load( open( \"Data/people_new.json\" ) ),\n",
        "    \"institutes_new\": json.load( open( \"Data/institutes_new.json\" ) ),\n",
        "    \"people_stats\": { year: json.load( open( \"Data/people_stats_{}1231.json\".format( year ) ) ) for year in yearlist.value }\n",
        "}\n",
        "\n",
        "institute_list = np.array( [ list( institute.values() ) for institute in json_files[ \"institutes_new\" ] ] )\n",
        "\n",
        "id_info = {}\n",
        "for person in json_files[ \"people_new\" ]:\n",
        "  id_info[ str( person[ \"cmsId\" ] ) ] = { \n",
        "    \"BIRTHYEAR\": person[ \"birthYear\" ],\n",
        "    \"GENDER\": person[ \"gender\" ]   \n",
        "  }\n",
        "\n",
        "data = {\n",
        "    year: {} for year in yearlist.value\n",
        "}\n",
        "\n",
        "for year in yearlist.value:\n",
        "  for person in json_files[ \"people_stats\" ][ year ]:\n",
        "    data[ year ][ str( person[ \"cms_id\" ] ) ] = {\n",
        "        \"ACTIVITY\": person[ \"activity_cms\" ],\n",
        "        \"INSTITUTE\": person[ \"inst_code\" ],\n",
        "        \"AUTHOR\": person[ \"is_author\" ],\n",
        "        \"STATUS\": person[ \"status_cms\" ],\n",
        "        \"GENDER\": id_info[ str( person[ \"cms_id\" ] ) ][ \"GENDER\" ],\n",
        "        \"BIRTHYEAR\": id_info[ str( person[ \"cms_id\" ] ) ][ \"GENDER\" ]\n",
        "    }\n",
        "    if person[ \"activity_cms\" ] != None:\n",
        "      if ( \"Engineer\" in person[ \"activity_cms\" ] and \"Software\" not in person[ \"activity_cms\" ] ) or person[ \"activity_cms\" ] == \"Technician\":\n",
        "        data[ year ][ str( person[ \"cms_id\" ] ) ][ \"ACTIVITY\" ] = \"Engineer/Technician\"\n",
        "\n",
        "  print( \"Adding regions for {}\".format( year ) )\n",
        "  for cms_id in data[ year ]:\n",
        "    this_index = np.argwhere( institute_list[:,0] == data[ year ][ cms_id ][ \"INSTITUTE\" ] )[0,0]\n",
        "    this_country = institute_list[ this_index, 1 ].upper()\n",
        "    if data[ year ][ cms_id ][ \"INSTITUTE\" ].upper() in [ \"CERN\", \"CERN-BASED\" ]:\n",
        "      this_country = \"CERN\"\n",
        "    has_region = False\n",
        "    for region in region_key.keys():\n",
        "      if this_country in region_key[ region ]:\n",
        "        data[ year ][ cms_id ][ \"REGION\" ] = region\n",
        "        has_region = True\n",
        "        continue\n",
        "    if has_region == False:\n",
        "      data[ year ][ cms_id ][ \"REGION\" ] = \"OTHER C\"\n",
        "      if this_country not in region_key[\"OTHER C\"]: \n",
        "        print( \">> Adding {} to Other C\".format( this_country ) )\n",
        "        region_key[\"OTHER C\"].append( this_country )"
      ],
      "execution_count": 14,
      "outputs": [
        {
          "output_type": "stream",
          "text": [
            "Adding regions for 2015\n",
            ">> Adding ZZ to Other C\n",
            ">> Adding SINGAPORE to Other C\n",
            ">> Adding SLOVAK REPUBLIC to Other C\n",
            ">> Adding CZECH REPUBLIC to Other C\n",
            ">> Adding NETHERLANDS to Other C\n",
            ">> Adding CANADA to Other C\n",
            ">> Adding PHILIPPINES to Other C\n",
            ">> Adding ROMANIA to Other C\n",
            ">> Adding JAPAN to Other C\n",
            ">> Adding NORWAY to Other C\n",
            ">> Adding TUNISIA to Other C\n",
            "Adding regions for 2016\n",
            "Adding regions for 2017\n",
            "Adding regions for 2018\n",
            "Adding regions for 2019\n",
            "Adding regions for 2020\n",
            ">> Adding JORDAN to Other C\n"
          ],
          "name": "stdout"
        }
      ]
    },
    {
      "cell_type": "code",
      "metadata": {
        "colab": {
          "base_uri": "https://localhost:8080/",
          "height": 111,
          "referenced_widgets": [
            "cf3093ae3ebe4029b3d5a9d0a85b8030",
            "da103271bb784e3883713ec034b77db8",
            "714e95412dfc48499b8b8aaeb935a16b"
          ]
        },
        "id": "KWWNcxRzs389",
        "cellView": "form",
        "outputId": "b61b0e79-c6ed-4b17-fe25-fcf2d21dc9fa"
      },
      "source": [
        "#@markdown Choose a CMS Status to report\n",
        "\n",
        "status_options = []\n",
        "\n",
        "for year in yearlist.value:\n",
        "  for person in json_files[ \"people_stats\" ][ year ]:\n",
        "    if person[ \"status_cms\" ] not in status_options:\n",
        "      if person[ \"status_cms\" ] != None and person[ \"status_cms\" ] != \"\":\n",
        "        status_options.append( person[ \"status_cms\" ] )\n",
        "\n",
        "status = widgets.SelectMultiple( options = sorted( status_options ), value = [ \"CMS\", \"CMSAFFILIATE\", \"CMSASSOC\", \"CMSEMERITUS\", \"CMSEXTENDED\" ] )\n",
        "status"
      ],
      "execution_count": 16,
      "outputs": [
        {
          "output_type": "display_data",
          "data": {
            "application/vnd.jupyter.widget-view+json": {
              "model_id": "cf3093ae3ebe4029b3d5a9d0a85b8030",
              "version_minor": 0,
              "version_major": 2
            },
            "text/plain": [
              "SelectMultiple(index=(1, 3, 4, 5, 6), options=('CERN', 'CMS', 'CMS iCMSfor9981_01/01/2019-Author:True', 'CMSAF…"
            ]
          },
          "metadata": {
            "tags": []
          }
        }
      ]
    },
    {
      "cell_type": "code",
      "metadata": {
        "cellView": "form",
        "colab": {
          "base_uri": "https://localhost:8080/",
          "height": 111,
          "referenced_widgets": [
            "c28c1c68212d4d279f7273eee0a32d62",
            "fa8715f76c534dbb94590d7debe3fff8",
            "1b4eb5a76db045abaeacedbe463d1a50"
          ]
        },
        "id": "h93ZMLHrs4ce",
        "outputId": "675a6f08-0000-4d55-d7c7-fa2b59873d0f"
      },
      "source": [
        "#@markdown Select authorship status to report:\n",
        "author_legend = {\n",
        "    \"AUTHORS\": [ True ],\n",
        "    \"ALL MEMBERS\": [ True, False, None ],\n",
        "    \"NON-AUTHORS\": [ False ],\n",
        "    \"REPORTED MEMBERS\": [ True, False ],\n",
        "    \"UNREPORTED MEMBERS\": [ None ],\n",
        "    \"AUTHORS and UNREPORTED\": [ True, None ],\n",
        "    \"NON-AUTHORS and UNREPORTED\": [ False, None ]\n",
        "}\n",
        "author = widgets.Select( options = author_legend.keys(), value = \"AUTHORS\" )\n",
        "author"
      ],
      "execution_count": 17,
      "outputs": [
        {
          "output_type": "display_data",
          "data": {
            "application/vnd.jupyter.widget-view+json": {
              "model_id": "c28c1c68212d4d279f7273eee0a32d62",
              "version_minor": 0,
              "version_major": 2
            },
            "text/plain": [
              "Select(options=('AUTHORS', 'ALL MEMBERS', 'NON-AUTHORS', 'REPORTED MEMBERS', 'UNREPORTED MEMBERS', 'AUTHORS an…"
            ]
          },
          "metadata": {
            "tags": []
          }
        }
      ]
    },
    {
      "cell_type": "code",
      "metadata": {
        "colab": {
          "base_uri": "https://localhost:8080/",
          "height": 111,
          "referenced_widgets": [
            "0172ed39faa74953a6ff0297d5d3c7fc",
            "837f571848a9453eb1fd0b76ca3bfb27",
            "710a182b5090430db9bfc563d271feac"
          ]
        },
        "cellView": "form",
        "id": "1oyxrHFas7c5",
        "outputId": "54495cd5-e3ad-49df-b0e0-10f740bb813d"
      },
      "source": [
        "#@markdown Select professional activities to report\n",
        "activity_options = []\n",
        "for year in yearlist.value:\n",
        "  for cmsID in data[ year ]:\n",
        "    if data[ year ][ cmsID ][ \"ACTIVITY\" ] not in activity_options and data[ year ][ cmsID ][ \"ACTIVITY\" ] != None : \n",
        "      activity_options.append( data[ year ][ cmsID ][ \"ACTIVITY\" ] )\n",
        "\n",
        "activities = widgets.SelectMultiple( options = sorted( activity_options ) )\n",
        "activities"
      ],
      "execution_count": 18,
      "outputs": [
        {
          "output_type": "display_data",
          "data": {
            "application/vnd.jupyter.widget-view+json": {
              "model_id": "0172ed39faa74953a6ff0297d5d3c7fc",
              "version_minor": 0,
              "version_major": 2
            },
            "text/plain": [
              "SelectMultiple(options=('Administrative', 'Doctoral Student', 'Engineer Software', 'Engineer/Technician', 'Non…"
            ]
          },
          "metadata": {
            "tags": []
          }
        }
      ]
    },
    {
      "cell_type": "code",
      "metadata": {
        "colab": {
          "base_uri": "https://localhost:8080/",
          "height": 111,
          "referenced_widgets": [
            "a5e7fb828c534a42928c644eab8f14c4",
            "bd7368b8842c470b949f083ba2987904",
            "585829ee960b447ea9200ef8d07bff75"
          ]
        },
        "cellView": "form",
        "id": "CD8dvg_zuNFp",
        "outputId": "bf436713-c88c-4877-f14b-edb4c5a6d54f"
      },
      "source": [
        "#@markdown Select region to report\n",
        "regions = widgets.Select( options = region_key.keys(), value = \"USCMS\" )\n",
        "regions "
      ],
      "execution_count": 19,
      "outputs": [
        {
          "output_type": "display_data",
          "data": {
            "application/vnd.jupyter.widget-view+json": {
              "model_id": "a5e7fb828c534a42928c644eab8f14c4",
              "version_minor": 0,
              "version_major": 2
            },
            "text/plain": [
              "Select(index=5, options=('FRANCE', 'GERMANY', 'ITALY', 'SWITZERLAND', 'UNITED KINGDOM', 'USCMS', 'CERN', 'RDMS…"
            ]
          },
          "metadata": {
            "tags": []
          }
        }
      ]
    },
    {
      "cell_type": "code",
      "metadata": {
        "colab": {
          "base_uri": "https://localhost:8080/"
        },
        "id": "ALf1R0uRvyB_",
        "cellView": "form",
        "outputId": "f851e5a5-f7f5-416b-d711-93589312d3c3"
      },
      "source": [
        "#@markdown Count the genders for each activity\n",
        "count_activity = {\n",
        "    year: {\n",
        "        category: {\n",
        "            activity: 0 for activity in activities.value\n",
        "        } for category in [ \"MALE\", \"FEMALE\", \"TOTAL\", \"FRACTION_F\", \"FRACTION_M\" ]\n",
        "    } for year in yearlist.value\n",
        "}\n",
        "\n",
        "for year in yearlist.value:\n",
        "  print( \"Counting for {}...\".format( year ) ) \n",
        "  for cmsID in data[ year ]:\n",
        "    if data[ year ][ cmsID ][ \"REGION\" ] != regions.value: continue\n",
        "    if data[ year ][ cmsID ][ \"AUTHOR\" ] in author_legend[ author.value ] and data[ year ][ cmsID ][ \"STATUS\" ] in status.value:\n",
        "      for activity in activities.value:\n",
        "        if data[ year ][ cmsID ][ \"ACTIVITY\" ] == activity:\n",
        "          if data[ year ][ cmsID ][ \"GENDER\" ] == \"M\": count_activity[ year ][ \"MALE\" ][ activity ] += 1\n",
        "          elif data[ year ][ cmsID ][ \"GENDER\" ] == \"F\": count_activity[ year ][ \"FEMALE\" ][ activity ] += 1\n",
        "          count_activity[ year ][ \"TOTAL\" ][ activity ] += 1\n",
        "  for activity in activities.value:\n",
        "    if count_activity[ year ][ \"TOTAL\" ][ activity ] > 0:\n",
        "      count_activity[ year ][ \"FRACTION_F\" ][ activity ] = float( count_activity[ year ][ \"FEMALE\" ][ activity ] ) / float( count_activity[ year ][ \"TOTAL\" ][ activity ] )\n",
        "      count_activity[ year ][ \"FRACTION_M\" ][ activity ] = float( count_activity[ year ][ \"MALE\" ][ activity ] ) / float( count_activity[ year ][ \"TOTAL\" ][ activity ] )\n",
        "    else:\n",
        "      print( \">> {} has no entries\".format( activity ) ) "
      ],
      "execution_count": 33,
      "outputs": [
        {
          "output_type": "stream",
          "text": [
            "Counting for 2015...\n",
            "Counting for 2016...\n",
            "Counting for 2017...\n",
            "Counting for 2018...\n",
            "Counting for 2019...\n",
            "Counting for 2020...\n"
          ],
          "name": "stdout"
        }
      ]
    },
    {
      "cell_type": "code",
      "metadata": {
        "colab": {
          "base_uri": "https://localhost:8080/",
          "height": 720
        },
        "id": "aND94gSpv9kC",
        "cellView": "form",
        "outputId": "5608d9a3-a651-4a64-94fd-f3d80c566971"
      },
      "source": [
        "#@markdown ### Plot the Activity Counts by Region per Year\n",
        "\n",
        "width = 0.8 / len( yearlist.value )\n",
        "x = np.arange( len( activities.value ) )\n",
        "\n",
        "plt.figure( figsize = (3 * len(x) , 10) )\n",
        "ax = plt.subplot(111)\n",
        "\n",
        "for i, year in enumerate( list( yearlist.value ) ):\n",
        "    ax.bar( x + width * i, list( count_activity[ year ][ \"FEMALE\" ].values() )[-len(x):], width,\n",
        "           color = \"lightgreen\", zorder=3 )\n",
        "    ax.bar( x + width * i, list( count_activity[ year ][ \"MALE\" ].values() )[-len(x):], width,\n",
        "           bottom = list( count_activity[ year ][ \"FEMALE\" ].values() )[-len(x):],\n",
        "           color = \"dodgerblue\", zorder=3 )\n",
        "\n",
        "    \n",
        "ax.set_title( \"Yearly {} CMS {} Gender Counts by Activity from {} to {}\".format( \n",
        "    regions.value, author.value, yearlist.value[0], yearlist.value[-1]\n",
        " ), fontsize = 20 )\n",
        "ax.set_ylabel( \"Count\", y = 1.0, ha = \"right\", fontsize = 14 )\n",
        "ax.set_xticks( x )\n",
        "ax.set_xticklabels( activities.value[-len(x):], fontsize = 14, rotation = 45 )\n",
        "\n",
        "custom_legend = [\n",
        "  Line2D( [0], [0], color = \"lightgreen\", lw = 5 ),\n",
        "  Line2D( [0], [0], color = \"dodgerblue\", lw = 5 )\n",
        "]\n",
        "ax.legend( custom_legend, [ \"Women\", \"Men\" ], loc = 2 )\n",
        "\n",
        "ax.set_facecolor(\"white\")\n",
        "ax.grid( b=True, which=\"major\", axis=\"y\", color = [0.7,0.7,0.7], \n",
        "        linestyle = \":\", linewidth = 1, zorder=0)\n",
        "\n",
        "if not os.path.exists( os.getcwd() + \"/Plots/ \") != True: os.makedirs( os.getcwd() + \"/Plots/\" )\n",
        "plt.savefig( \"./Plots/Gender by Activity {} {}-{}.png\".format( author.value, yearlist.value[0], yearlist.value[-1] ) )\n",
        "plt.show()"
      ],
      "execution_count": 34,
      "outputs": [
        {
          "output_type": "display_data",
          "data": {
            "image/png": "[encoded data removed]",
            "text/plain": [
              "<Figure size 1080x720 with 1 Axes>"
            ]
          },
          "metadata": {
            "tags": [],
            "needs_background": "light"
          }
        }
      ]
    },
    {
      "cell_type": "code",
      "metadata": {
        "colab": {
          "base_uri": "https://localhost:8080/",
          "height": 720
        },
        "id": "KpmizjUoyKcz",
        "cellView": "form",
        "outputId": "af760b3e-11eb-4985-8c5b-4670702ddd38"
      },
      "source": [
        "#@markdown ### Plot the Gender Counts by Region per Year\n",
        "\n",
        "width = 0.8 / len( yearlist.value )\n",
        "x = np.arange( len( activities.value ) )\n",
        "\n",
        "plt.figure( figsize = (3 * len(x) , 10) )\n",
        "ax = plt.subplot(111)\n",
        "\n",
        "cmap = plt.get_cmap(\"Paired\")\n",
        "\n",
        "for i, year in enumerate( list( yearlist.value ) ):\n",
        "    ax.bar( x + width * i, list( count_activity[ year ][ \"FRACTION_F\" ].values() )[-len(x):], width,\n",
        "           color = cmap.colors[i], zorder=3, label = year )\n",
        "\n",
        "    \n",
        "ax.set_title( \"Yearly {} CMS {} Gender Ratio by Activity from {} to {}\".format( \n",
        "    regions.value, author.value, yearlist.value[0], yearlist.value[-1]\n",
        " ), fontsize = 20 )\n",
        "ax.set_ylabel( \"Ratio\", y = 1.0, ha = \"right\", fontsize = 14 )\n",
        "ax.set_ylim( 0, 0.4 )\n",
        "ax.set_xticks( x )\n",
        "ax.set_xticklabels( activities.value[-len(x):], fontsize = 14, rotation = 45 )\n",
        "\n",
        "ax.legend( loc = 2 )\n",
        "\n",
        "ax.set_facecolor(\"white\")\n",
        "ax.grid( b=True, which=\"major\", axis=\"y\", color = [0.7,0.7,0.7], \n",
        "        linestyle = \":\", linewidth = 1, zorder=0)\n",
        "\n",
        "if not os.path.exists( os.getcwd() + \"/Plots/ \") != True: os.makedirs( os.getcwd() + \"/Plots/\" )\n",
        "plt.savefig( \"./Plots/Gender by Activity Ratio {} {}-{}.png\".format( author.value, yearlist.value[0], yearlist.value[-1] ) )\n",
        "plt.show()"
      ],
      "execution_count": 35,
      "outputs": [
        {
          "output_type": "display_data",
          "data": {
            "image/png": "[encoded data removed]",
            "text/plain": [
              "<Figure size 1080x720 with 1 Axes>"
            ]
          },
          "metadata": {
            "tags": [],
            "needs_background": "light"
          }
        }
      ]
    },
    {
      "cell_type": "code",
      "metadata": {
        "id": "sy_c2shtyxA_"
      },
      "source": [
        ""
      ],
      "execution_count": null,
      "outputs": []
    }
  ]
}