{
  "nbformat": 4,
  "nbformat_minor": 0,
  "metadata": {
    "colab": {
      "name": "combine_json_colab.ipynb",
      "provenance": []
    },
    "kernelspec": {
      "name": "python3",
      "display_name": "Python 3"
    },
    "language_info": {
      "name": "python"
    },
    "widgets": {
      "application/vnd.jupyter.widget-state+json": {
        "48da01b5128d4fb8be61b340ac1cd596": {
          "model_module": "@jupyter-widgets/controls",
          "model_name": "SelectMultipleModel",
          "state": {
            "_options_labels": [
              "2015",
              "2016",
              "2017",
              "2018",
              "2019",
              "2020"
            ],
            "_view_name": "SelectMultipleView",
            "style": "IPY_MODEL_ae58e3f8ac8c440196d3da12533346bd",
            "rows": 5,
            "_dom_classes": [],
            "description": "",
            "_model_name": "SelectMultipleModel",
            "index": [
              0,
              1,
              2,
              3,
              4,
              5
            ],
            "_view_module": "@jupyter-widgets/controls",
            "_model_module_version": "1.5.0",
            "_view_count": null,
            "disabled": false,
            "_view_module_version": "1.5.0",
            "description_tooltip": null,
            "_model_module": "@jupyter-widgets/controls",
            "layout": "IPY_MODEL_9422ea82e888433e80e6847e03806c91"
          }
        },
        "ae58e3f8ac8c440196d3da12533346bd": {
          "model_module": "@jupyter-widgets/controls",
          "model_name": "DescriptionStyleModel",
          "state": {
            "_view_name": "StyleView",
            "_model_name": "DescriptionStyleModel",
            "description_width": "",
            "_view_module": "@jupyter-widgets/base",
            "_model_module_version": "1.5.0",
            "_view_count": null,
            "_view_module_version": "1.2.0",
            "_model_module": "@jupyter-widgets/controls"
          }
        },
        "9422ea82e888433e80e6847e03806c91": {
          "model_module": "@jupyter-widgets/base",
          "model_name": "LayoutModel",
          "state": {
            "_view_name": "LayoutView",
            "grid_template_rows": null,
            "right": null,
            "justify_content": null,
            "_view_module": "@jupyter-widgets/base",
            "overflow": null,
            "_model_module_version": "1.2.0",
            "_view_count": null,
            "flex_flow": null,
            "width": null,
            "min_width": null,
            "border": null,
            "align_items": null,
            "bottom": null,
            "_model_module": "@jupyter-widgets/base",
            "top": null,
            "grid_column": null,
            "overflow_y": null,
            "overflow_x": null,
            "grid_auto_flow": null,
            "grid_area": null,
            "grid_template_columns": null,
            "flex": null,
            "_model_name": "LayoutModel",
            "justify_items": null,
            "grid_row": null,
            "max_height": null,
            "align_content": null,
            "visibility": null,
            "align_self": null,
            "height": null,
            "min_height": null,
            "padding": null,
            "grid_auto_rows": null,
            "grid_gap": null,
            "max_width": null,
            "order": null,
            "_view_module_version": "1.2.0",
            "grid_template_areas": null,
            "object_position": null,
            "object_fit": null,
            "grid_auto_columns": null,
            "margin": null,
            "display": null,
            "left": null
          }
        },
        "ad355db2ae104009adef1640900ffa69": {
          "model_module": "@jupyter-widgets/controls",
          "model_name": "DropdownModel",
          "state": {
            "_options_labels": [
              "UPGRADE",
              "GENERAL",
              "ECAL",
              "TRIGGER COORDINATION",
              "L1 TRIGGER",
              "MUON-RPC",
              "PPD",
              "HCAL",
              "MUON-CSC",
              "OFFLINE AND COMPUTING",
              "TRACKER",
              "DAQ",
              "MUON-DT",
              "CT-PPS",
              "RUN COORDINATION",
              "BRIL",
              "MUON",
              "HGCAL",
              "PPS",
              "HGCAL (CE)",
              "MTD",
              "OFFLINE SOFTWARE AND COMPUTING"
            ],
            "_view_name": "DropdownView",
            "style": "IPY_MODEL_76d34efbe04a415aa640c06f0b478414",
            "_dom_classes": [],
            "description": "",
            "_model_name": "DropdownModel",
            "index": 20,
            "_view_module": "@jupyter-widgets/controls",
            "_model_module_version": "1.5.0",
            "_view_count": null,
            "disabled": false,
            "_view_module_version": "1.5.0",
            "description_tooltip": null,
            "_model_module": "@jupyter-widgets/controls",
            "layout": "IPY_MODEL_5ceae1545ff14940b67a81fd688e0203"
          }
        },
        "76d34efbe04a415aa640c06f0b478414": {
          "model_module": "@jupyter-widgets/controls",
          "model_name": "DescriptionStyleModel",
          "state": {
            "_view_name": "StyleView",
            "_model_name": "DescriptionStyleModel",
            "description_width": "",
            "_view_module": "@jupyter-widgets/base",
            "_model_module_version": "1.5.0",
            "_view_count": null,
            "_view_module_version": "1.2.0",
            "_model_module": "@jupyter-widgets/controls"
          }
        },
        "5ceae1545ff14940b67a81fd688e0203": {
          "model_module": "@jupyter-widgets/base",
          "model_name": "LayoutModel",
          "state": {
            "_view_name": "LayoutView",
            "grid_template_rows": null,
            "right": null,
            "justify_content": null,
            "_view_module": "@jupyter-widgets/base",
            "overflow": null,
            "_model_module_version": "1.2.0",
            "_view_count": null,
            "flex_flow": null,
            "width": null,
            "min_width": null,
            "border": null,
            "align_items": null,
            "bottom": null,
            "_model_module": "@jupyter-widgets/base",
            "top": null,
            "grid_column": null,
            "overflow_y": null,
            "overflow_x": null,
            "grid_auto_flow": null,
            "grid_area": null,
            "grid_template_columns": null,
            "flex": null,
            "_model_name": "LayoutModel",
            "justify_items": null,
            "grid_row": null,
            "max_height": null,
            "align_content": null,
            "visibility": null,
            "align_self": null,
            "height": null,
            "min_height": null,
            "padding": null,
            "grid_auto_rows": null,
            "grid_gap": null,
            "max_width": null,
            "order": null,
            "_view_module_version": "1.2.0",
            "grid_template_areas": null,
            "object_position": null,
            "object_fit": null,
            "grid_auto_columns": null,
            "margin": null,
            "display": null,
            "left": null
          }
        },
        "ec01ad817b26441482f368d5d164e07f": {
          "model_module": "@jupyter-widgets/controls",
          "model_name": "DropdownModel",
          "state": {
            "_options_labels": [
              "Doctoral Student",
              "Administrative",
              "Engineer Software",
              "Engineer",
              "Non-Doctoral Student",
              "Other",
              "Engineer Electronics",
              "Engineer Mechanical",
              "Theoretical Physicist",
              "Physicist",
              "Technician"
            ],
            "_view_name": "DropdownView",
            "style": "IPY_MODEL_d7782fb7521a489cb44c556909492ab1",
            "_dom_classes": [],
            "description": "",
            "_model_name": "DropdownModel",
            "index": 9,
            "_view_module": "@jupyter-widgets/controls",
            "_model_module_version": "1.5.0",
            "_view_count": null,
            "disabled": false,
            "_view_module_version": "1.5.0",
            "description_tooltip": null,
            "_model_module": "@jupyter-widgets/controls",
            "layout": "IPY_MODEL_40b19b2236294e628b517b8685ab0e52"
          }
        },
        "d7782fb7521a489cb44c556909492ab1": {
          "model_module": "@jupyter-widgets/controls",
          "model_name": "DescriptionStyleModel",
          "state": {
            "_view_name": "StyleView",
            "_model_name": "DescriptionStyleModel",
            "description_width": "",
            "_view_module": "@jupyter-widgets/base",
            "_model_module_version": "1.5.0",
            "_view_count": null,
            "_view_module_version": "1.2.0",
            "_model_module": "@jupyter-widgets/controls"
          }
        },
        "40b19b2236294e628b517b8685ab0e52": {
          "model_module": "@jupyter-widgets/base",
          "model_name": "LayoutModel",
          "state": {
            "_view_name": "LayoutView",
            "grid_template_rows": null,
            "right": null,
            "justify_content": null,
            "_view_module": "@jupyter-widgets/base",
            "overflow": null,
            "_model_module_version": "1.2.0",
            "_view_count": null,
            "flex_flow": null,
            "width": null,
            "min_width": null,
            "border": null,
            "align_items": null,
            "bottom": null,
            "_model_module": "@jupyter-widgets/base",
            "top": null,
            "grid_column": null,
            "overflow_y": null,
            "overflow_x": null,
            "grid_auto_flow": null,
            "grid_area": null,
            "grid_template_columns": null,
            "flex": null,
            "_model_name": "LayoutModel",
            "justify_items": null,
            "grid_row": null,
            "max_height": null,
            "align_content": null,
            "visibility": null,
            "align_self": null,
            "height": null,
            "min_height": null,
            "padding": null,
            "grid_auto_rows": null,
            "grid_gap": null,
            "max_width": null,
            "order": null,
            "_view_module_version": "1.2.0",
            "grid_template_areas": null,
            "object_position": null,
            "object_fit": null,
            "grid_auto_columns": null,
            "margin": null,
            "display": null,
            "left": null
          }
        }
      }
    }
  },
  "cells": [
    {
      "cell_type": "code",
      "metadata": {
        "colab": {
          "base_uri": "https://localhost:8080/"
        },
        "cellView": "form",
        "id": "LgVCfyzLVXbS",
        "outputId": "770deda6-580d-4a6c-fc6a-66c40006e51e"
      },
      "source": [
        "#@markdown #USCMS Diveristy Data: `json` Consolidation\n",
        "#@markdown Combine various `json` files (`work_*.json`, `people_stats_*.json`,\n",
        "#@markdown `people_new.json`) together that contain information on individuals:\n",
        "#@markdown * CMS ID\n",
        "#@markdown * Gender\n",
        "#@markdown * Institution\n",
        "#@markdown * CMS Activity (Role)\n",
        "#@markdown * Project\n",
        "#@markdown * Authorship Status  \n",
        "\n",
        "#@markdown ### Import `python` libraries\n",
        "\n",
        "import os, json\n",
        "import numpy as np\n",
        "import pandas as pd\n",
        "from scipy import stats\n",
        "import matplotlib.pyplot as plt\n",
        "import ipywidgets as widgets\n",
        "\n",
        "from google.colab import drive\n",
        "drive.mount( '/content/drive' )\n",
        "\n",
        "%cd /content/drive/My Drive/Colab Notebooks/USCMS-diversity-analysis-main/USCMS-diversity-analysis-main"
      ],
      "execution_count": 2,
      "outputs": [
        {
          "output_type": "stream",
          "text": [
            "Mounted at /content/drive\n",
            "/content/drive/My Drive/Colab Notebooks/USCMS-diversity-analysis-main/USCMS-diversity-analysis-main\n"
          ],
          "name": "stdout"
        }
      ]
    },
    {
      "cell_type": "code",
      "metadata": {
        "colab": {
          "base_uri": "https://localhost:8080/",
          "height": 111,
          "referenced_widgets": [
            "48da01b5128d4fb8be61b340ac1cd596",
            "ae58e3f8ac8c440196d3da12533346bd",
            "9422ea82e888433e80e6847e03806c91"
          ]
        },
        "cellView": "form",
        "id": "63N55LmKYrvM",
        "outputId": "6334d560-317e-4adb-b0f7-ea64c292114b"
      },
      "source": [
        "#@markdown ### Select and Load in the Relevant `json` Files\n",
        "#@markdown Choose the years to consolidate\n",
        "people_stats = [ option for option in os.listdir( \"./Data/\" ) if \"people_stats\" in option ]\n",
        "work = [ option for option in os.listdir( \"./Data/\" ) if \"work\" in option ]\n",
        "people_stats_years = [ name.split(\".\")[0].split(\"_\")[2][:4] for name in people_stats ]\n",
        "work_years = [ name.split(\".\")[0].split(\"_\")[1][:4] for name in work ]\n",
        "valid_years = list( set(people_stats_years).intersection(work_years) )\n",
        "yearlist = widgets.SelectMultiple( options = sorted(valid_years) )\n",
        "yearlist"
      ],
      "execution_count": 3,
      "outputs": [
        {
          "output_type": "display_data",
          "data": {
            "application/vnd.jupyter.widget-view+json": {
              "model_id": "48da01b5128d4fb8be61b340ac1cd596",
              "version_minor": 0,
              "version_major": 2
            },
            "text/plain": [
              "SelectMultiple(options=('2015', '2016', '2017', '2018', '2019', '2020'), value=())"
            ]
          },
          "metadata": {
            "tags": []
          }
        }
      ]
    },
    {
      "cell_type": "code",
      "metadata": {
        "cellView": "form",
        "id": "aWDAxGfqY-cZ"
      },
      "source": [
        "#@markdown Load in the `json` files\n",
        "json_files = {\n",
        "    \"people_new\": json.load( open( \"Data/people_new.json\" ) ),\n",
        "    \"institutes_new\": json.load( open( \"Data/institutes_new.json\" ) ),\n",
        "    \"people_stats\": { year: json.load( open( \"Data/people_stats_{}1231.json\".format( year ) ) ) for year in yearlist.value },\n",
        "    \"work\": { year: json.load( open( \"Data/work_{}1231.json\".format( year ) ) ) for year in yearlist.value }\n",
        "}"
      ],
      "execution_count": 4,
      "outputs": []
    },
    {
      "cell_type": "code",
      "metadata": {
        "colab": {
          "base_uri": "https://localhost:8080/"
        },
        "cellView": "form",
        "id": "bUj0ez9uZILL",
        "outputId": "239bd479-4e6f-48a5-d543-f39ff7c8bc61"
      },
      "source": [
        "#@markdown Structure a single `dict` to track individuals per year.  The structure\n",
        "#@markdown of the `dict` will be layers:\n",
        "#@markdown 1. Year\n",
        "#@markdown 2. CMS ID\n",
        "#@markdown 3. Gender, Author, Activity, Institute, Project\n",
        "\n",
        "#@markdown Begin by structuring the individual `json` files by `YEAR` and `CMSID`,\n",
        "#@markdown and then the relevant information as listed in bullet point 3.\n",
        "\n",
        "#@markdown Start with `people_new.json` to associate `CMSID` to `GENDER`.\n",
        "\n",
        "people_new = {}\n",
        "people_new_values = { \"GENDER\": [] }\n",
        "\n",
        "for person in json_files[ \"people_new\" ]:\n",
        "    people_new[ str( person[ \"cmsId\" ] ) ] = { \"GENDER\": person[ \"gender\" ] }\n",
        "    people_new_values[ \"GENDER\" ].append( person[ \"gender\" ] )\n",
        "    \n",
        "print( \">> GENDER OPTIONS: {}\".format( list( set( people_new_values[ \"GENDER\" ] ) ) ) )"
      ],
      "execution_count": 5,
      "outputs": [
        {
          "output_type": "stream",
          "text": [
            ">> GENDER OPTIONS: ['', 'F', None, 'M']\n"
          ],
          "name": "stdout"
        }
      ]
    },
    {
      "cell_type": "code",
      "metadata": {
        "colab": {
          "base_uri": "https://localhost:8080/"
        },
        "cellView": "form",
        "id": "KM9T9PNeZr_7",
        "outputId": "409ad820-8baf-4a69-d608-9006a26df418"
      },
      "source": [
        "#@markdown Use `work_*.json` to associate `CMSID` to `PROJECT`\n",
        "work = { year: {} for year in yearlist.value }\n",
        "work_values = { year: { \"PROJECT\": [] } for year in yearlist.value }\n",
        "\n",
        "for year in yearlist.value:\n",
        "    work[ year ] = {}\n",
        "    for institute in json_files[ \"work\" ][ year ]:\n",
        "        for person in json_files[ \"work\" ][ year ][ institute ].keys():\n",
        "            if person not in list( work[ year ].keys() ):\n",
        "                work[ year ][ person ] = [ project.upper() for project in list( json_files[ \"work\" ][ year ][ institute ][ person ].keys() ) ]\n",
        "            else:\n",
        "                for project in list( json_files[ \"work\" ][ year ][ institute ][ person ].keys() ):\n",
        "                    work[ year ][ person ].append( project.upper() )\n",
        "            for project in list( json_files[ \"work\" ][ year ][ institute ][ person ].keys() ):\n",
        "                work_values[ year ][ \"PROJECT\" ].append( project.upper() )\n",
        "        \n",
        "    print( \">> {} PROJECT OPTIONS: {}\".format( year, sorted( list( set( work_values[ year ][ \"PROJECT\" ] ) ) ) ) )\n"
      ],
      "execution_count": 6,
      "outputs": [
        {
          "output_type": "stream",
          "text": [
            ">> 2015 PROJECT OPTIONS: ['BRIL', 'CT-PPS', 'DAQ', 'ECAL', 'GENERAL', 'HCAL', 'L1 TRIGGER', 'MUON-CSC', 'MUON-DT', 'MUON-RPC', 'OFFLINE AND COMPUTING', 'PPD', 'RUN COORDINATION', 'TRACKER', 'TRIGGER COORDINATION', 'UPGRADE']\n",
            ">> 2016 PROJECT OPTIONS: ['BRIL', 'CT-PPS', 'DAQ', 'ECAL', 'GENERAL', 'HCAL', 'HGCAL', 'L1 TRIGGER', 'MUON', 'OFFLINE AND COMPUTING', 'PPD', 'RUN COORDINATION', 'TRACKER', 'TRIGGER COORDINATION', 'UPGRADE']\n",
            ">> 2017 PROJECT OPTIONS: ['BRIL', 'CT-PPS', 'DAQ', 'ECAL', 'GENERAL', 'HCAL', 'L1 TRIGGER', 'MUON', 'OFFLINE AND COMPUTING', 'PPD', 'RUN COORDINATION', 'TRACKER', 'TRIGGER COORDINATION', 'UPGRADE']\n",
            ">> 2018 PROJECT OPTIONS: ['BRIL', 'DAQ', 'ECAL', 'GENERAL', 'HCAL', 'HGCAL (CE)', 'L1 TRIGGER', 'MUON', 'OFFLINE AND COMPUTING', 'PPD', 'PPS', 'RUN COORDINATION', 'TRACKER', 'TRIGGER COORDINATION', 'UPGRADE']\n",
            ">> 2019 PROJECT OPTIONS: ['BRIL', 'DAQ', 'ECAL', 'HCAL', 'HGCAL (CE)', 'L1 TRIGGER', 'MTD', 'MUON', 'OFFLINE SOFTWARE AND COMPUTING', 'PPD', 'PPS', 'RUN COORDINATION', 'TRACKER', 'TRIGGER COORDINATION', 'UPGRADE']\n",
            ">> 2020 PROJECT OPTIONS: ['BRIL', 'DAQ', 'ECAL', 'GENERAL', 'HCAL', 'HGCAL (CE)', 'L1 TRIGGER', 'MTD', 'MUON', 'OFFLINE SOFTWARE AND COMPUTING', 'PPD', 'PPS', 'RUN COORDINATION', 'TRACKER', 'TRIGGER COORDINATION']\n"
          ],
          "name": "stdout"
        }
      ]
    },
    {
      "cell_type": "code",
      "metadata": {
        "colab": {
          "base_uri": "https://localhost:8080/"
        },
        "cellView": "form",
        "id": "oFgud4wrZ0Ra",
        "outputId": "eb5126c7-6cb9-4a0c-f2d9-a3f53c9baf29"
      },
      "source": [
        "#@markdown Project options:\n",
        "project_options = []\n",
        "for year in yearlist.value:\n",
        "    for project in list( set( work_values[ year ][ \"PROJECT\" ] ) ):\n",
        "        if project not in project_options: project_options.append( project )\n",
        "print( \">> {}-{} PROJECT OPTIONS:\".format( yearlist.value[0], yearlist.value[-1] ) )\n",
        "for project in sorted( project_options ):\n",
        "    print( \"  - {}\".format( project ) )"
      ],
      "execution_count": 7,
      "outputs": [
        {
          "output_type": "stream",
          "text": [
            ">> 2015-2020 PROJECT OPTIONS:\n",
            "  - BRIL\n",
            "  - CT-PPS\n",
            "  - DAQ\n",
            "  - ECAL\n",
            "  - GENERAL\n",
            "  - HCAL\n",
            "  - HGCAL\n",
            "  - HGCAL (CE)\n",
            "  - L1 TRIGGER\n",
            "  - MTD\n",
            "  - MUON\n",
            "  - MUON-CSC\n",
            "  - MUON-DT\n",
            "  - MUON-RPC\n",
            "  - OFFLINE AND COMPUTING\n",
            "  - OFFLINE SOFTWARE AND COMPUTING\n",
            "  - PPD\n",
            "  - PPS\n",
            "  - RUN COORDINATION\n",
            "  - TRACKER\n",
            "  - TRIGGER COORDINATION\n",
            "  - UPGRADE\n"
          ],
          "name": "stdout"
        }
      ]
    },
    {
      "cell_type": "code",
      "metadata": {
        "colab": {
          "base_uri": "https://localhost:8080/"
        },
        "cellView": "form",
        "id": "w-omoAyfaAvx",
        "outputId": "2584136e-7565-4d38-f5f7-fdb6979b6a79"
      },
      "source": [
        "#@markdown Use `people_stats_*.json` to associate `CMSID` and `ACTIVITY`, `INSTITUTE`, `AUTHOR`.\n",
        "people_stats = { year: {} for year in yearlist.value }\n",
        "people_stats_values = { year: {\n",
        "    \"ACTIVITY\":  [],\n",
        "    \"INSTITUTE\": [],\n",
        "    \"AUTHOR\": []\n",
        "} for year in yearlist.value }\n",
        "\n",
        "for year in yearlist.value:\n",
        "    people_stats[ year ] = {}\n",
        "    for person in json_files[ \"people_stats\" ][ year ]:\n",
        "        people_stats[ year ][ str( person[ \"cms_id\" ] ) ] = {\n",
        "            \"ACTIVITY\":  person[ \"activity_cms\" ] if person[ \"activity_cms\" ] is not None else \"Other\",\n",
        "            \"INSTITUTE\": person[ \"inst_code\" ],\n",
        "            \"AUTHOR\":    person[ \"is_author\" ]\n",
        "        }\n",
        "        if person[ \"activity_cms\" ] is None: people_stats_values[ year ][ \"ACTIVITY\" ].append( \"Other\" )\n",
        "        else: people_stats_values[ year ][ \"ACTIVITY\" ].append( person[ \"activity_cms\" ] )\n",
        "        people_stats_values[ year ][ \"INSTITUTE\" ].append( person[ \"inst_code\" ] )\n",
        "        people_stats_values[ year ][ \"AUTHOR\" ].append( person[ \"is_author\" ] )\n",
        "\n",
        "    print( \">> {} ACTIVITY OPTIONS: {}\".format( year, sorted( set( people_stats_values[ year ][ \"ACTIVITY\" ] ) ) ) )"
      ],
      "execution_count": 8,
      "outputs": [
        {
          "output_type": "stream",
          "text": [
            ">> 2015 ACTIVITY OPTIONS: ['Administrative', 'Doctoral Student', 'Engineer', 'Engineer Electronics', 'Engineer Mechanical', 'Engineer Software', 'Non-Doctoral Student', 'Other', 'Physicist', 'Technician', 'Theoretical Physicist']\n",
            ">> 2016 ACTIVITY OPTIONS: ['Administrative', 'Doctoral Student', 'Engineer', 'Engineer Electronics', 'Engineer Mechanical', 'Engineer Software', 'Non-Doctoral Student', 'Other', 'Physicist', 'Technician', 'Theoretical Physicist']\n",
            ">> 2017 ACTIVITY OPTIONS: ['Administrative', 'Doctoral Student', 'Engineer', 'Engineer Electronics', 'Engineer Mechanical', 'Engineer Software', 'Non-Doctoral Student', 'Other', 'Physicist', 'Technician', 'Theoretical Physicist']\n",
            ">> 2018 ACTIVITY OPTIONS: ['Administrative', 'Doctoral Student', 'Engineer', 'Engineer Electronics', 'Engineer Mechanical', 'Engineer Software', 'Non-Doctoral Student', 'Other', 'Physicist', 'Technician', 'Theoretical Physicist']\n",
            ">> 2019 ACTIVITY OPTIONS: ['Administrative', 'Doctoral Student', 'Engineer', 'Engineer Electronics', 'Engineer Mechanical', 'Engineer Software', 'Non-Doctoral Student', 'Other', 'Physicist', 'Technician', 'Theoretical Physicist']\n",
            ">> 2020 ACTIVITY OPTIONS: ['Administrative', 'Doctoral Student', 'Engineer', 'Engineer Electronics', 'Engineer Mechanical', 'Engineer Software', 'Non-Doctoral Student', 'Other', 'Physicist', 'Technician', 'Theoretical Physicist']\n"
          ],
          "name": "stdout"
        }
      ]
    },
    {
      "cell_type": "code",
      "metadata": {
        "colab": {
          "base_uri": "https://localhost:8080/"
        },
        "cellView": "form",
        "id": "th5tVoqtaMWh",
        "outputId": "f0672ffe-9f1b-46b9-bcad-29c9508ec107"
      },
      "source": [
        "#@markdown Activity options:\n",
        "activity_options = []\n",
        "for year in yearlist.value:\n",
        "    for activity in list( set( people_stats_values[ year ][ \"ACTIVITY\" ] ) ):\n",
        "        if activity not in activity_options: activity_options.append( activity )\n",
        "print( \">> {}-{} ACTIVITY OPTIONS:\".format( yearlist.value[0], yearlist.value[-1] ) )\n",
        "for activity in sorted( activity_options ):\n",
        "    print( \"  - {}\".format( activity ) )"
      ],
      "execution_count": 9,
      "outputs": [
        {
          "output_type": "stream",
          "text": [
            ">> 2015-2020 ACTIVITY OPTIONS:\n",
            "  - Administrative\n",
            "  - Doctoral Student\n",
            "  - Engineer\n",
            "  - Engineer Electronics\n",
            "  - Engineer Mechanical\n",
            "  - Engineer Software\n",
            "  - Non-Doctoral Student\n",
            "  - Other\n",
            "  - Physicist\n",
            "  - Technician\n",
            "  - Theoretical Physicist\n"
          ],
          "name": "stdout"
        }
      ]
    },
    {
      "cell_type": "code",
      "metadata": {
        "colab": {
          "base_uri": "https://localhost:8080/",
          "height": 406
        },
        "cellView": "form",
        "id": "yKqJOWxraPPJ",
        "outputId": "d46b8fd8-db5a-48cd-8656-542cebfdbb4a"
      },
      "source": [
        "#@markdown ### `json` File Statistics\n",
        "#@markdown List the possible options for each of the categories and provide some\n",
        "#@markdown basic plots on the distribution of the options.\n",
        "\n",
        "#@markdown ### Plot genders of all existing and past CMS members\n",
        "\n",
        "gender_keys = [ \"MALE\", \"FEMALE\", \"NONE\" ]\n",
        "gender_plot = { key: 0 for key in gender_keys }\n",
        "for gender in people_new_values[ \"GENDER\" ]:\n",
        "    if gender is None or gender == \"\":\n",
        "        gender_plot[ \"NONE\" ] += 1\n",
        "    elif gender.upper() == \"F\":\n",
        "        gender_plot[ \"FEMALE\" ] += 1\n",
        "    elif gender.upper() == \"M\":\n",
        "        gender_plot[ \"MALE\" ] += 1\n",
        "\n",
        "plt.figure( figsize = (6,6) )\n",
        "plt.bar( list( gender_plot.keys() ), list( gender_plot.values() ) )\n",
        "plt.title( \"CMS All Gender Count\", fontsize = 16 )\n",
        "plt.ylabel( \"Count\", y = 1.0, ha = \"right\" )\n",
        "plt.xlabel( \"GENDER\" )\n",
        "plt.show()"
      ],
      "execution_count": 10,
      "outputs": [
        {
          "output_type": "display_data",
          "data": {
            "image/png": "[encoded data removed]",
            "text/plain": [
              "<Figure size 432x432 with 1 Axes>"
            ]
          },
          "metadata": {
            "tags": [],
            "needs_background": "light"
          }
        }
      ]
    },
    {
      "cell_type": "code",
      "metadata": {
        "colab": {
          "base_uri": "https://localhost:8080/",
          "height": 49,
          "referenced_widgets": [
            "ad355db2ae104009adef1640900ffa69",
            "76d34efbe04a415aa640c06f0b478414",
            "5ceae1545ff14940b67a81fd688e0203"
          ]
        },
        "cellView": "form",
        "id": "GjHsrOYzbd67",
        "outputId": "9554680d-8d44-431a-9751-8b4a8c26cb0c"
      },
      "source": [
        "#@markdown Plot the number of members within each project groupde by year.  First,\n",
        "#@markdown choose a project to view.\n",
        "\n",
        "project_choice = widgets.Dropdown( options = project_options )\n",
        "project_choice"
      ],
      "execution_count": 11,
      "outputs": [
        {
          "output_type": "display_data",
          "data": {
            "application/vnd.jupyter.widget-view+json": {
              "model_id": "ad355db2ae104009adef1640900ffa69",
              "version_minor": 0,
              "version_major": 2
            },
            "text/plain": [
              "Dropdown(options=('UPGRADE', 'GENERAL', 'ECAL', 'TRIGGER COORDINATION', 'L1 TRIGGER', 'MUON-RPC', 'PPD', 'HCAL…"
            ]
          },
          "metadata": {
            "tags": []
          }
        }
      ]
    },
    {
      "cell_type": "code",
      "metadata": {
        "colab": {
          "base_uri": "https://localhost:8080/",
          "height": 404
        },
        "cellView": "form",
        "id": "DSFoQjJDcIol",
        "outputId": "0dc13863-8358-43d8-d7c8-214fc1003f26"
      },
      "source": [
        "#@markdown ### Plot the member count in each project per year\n",
        "project_plot = { year: 0 for year in yearlist.value }\n",
        "for year in yearlist.value:\n",
        "    for project in work_values[ year ][ \"PROJECT\" ]:\n",
        "        if project == project_choice.value:\n",
        "            project_plot[ year ] += 1\n",
        "        \n",
        "plt.figure( figsize = (6,6) )\n",
        "\n",
        "plt.bar( list( project_plot.keys() ), list( project_plot.values() ) )\n",
        "plt.title( \"CMS Members in {} for {} to {}\".format( project_choice.value, yearlist.value[0], yearlist.value[-1] ) )\n",
        "plt.ylabel( \"Count\", y = 1.0, ha = \"right\" )\n",
        "plt.xlabel( \"YEAR\" )\n",
        "plt.show()"
      ],
      "execution_count": 12,
      "outputs": [
        {
          "output_type": "display_data",
          "data": {
            "image/png": "[encoded data removed]",
            "text/plain": [
              "<Figure size 432x432 with 1 Axes>"
            ]
          },
          "metadata": {
            "tags": [],
            "needs_background": "light"
          }
        }
      ]
    },
    {
      "cell_type": "code",
      "metadata": {
        "colab": {
          "base_uri": "https://localhost:8080/",
          "height": 49,
          "referenced_widgets": [
            "ec01ad817b26441482f368d5d164e07f",
            "d7782fb7521a489cb44c556909492ab1",
            "40b19b2236294e628b517b8685ab0e52"
          ]
        },
        "cellView": "form",
        "id": "LjCfYjCscP_R",
        "outputId": "3ffa716d-cd34-422d-df21-4115d4912b51"
      },
      "source": [
        "#@markdown Plot the number of members based on `ACTIVITY` grouped by year. \n",
        "#@markdown First, choose an activity to view\n",
        "activity_choice = widgets.Dropdown( options = activity_options )\n",
        "activity_choice"
      ],
      "execution_count": 13,
      "outputs": [
        {
          "output_type": "display_data",
          "data": {
            "application/vnd.jupyter.widget-view+json": {
              "model_id": "ec01ad817b26441482f368d5d164e07f",
              "version_minor": 0,
              "version_major": 2
            },
            "text/plain": [
              "Dropdown(options=('Doctoral Student', 'Administrative', 'Engineer Software', 'Engineer', 'Non-Doctoral Student…"
            ]
          },
          "metadata": {
            "tags": []
          }
        }
      ]
    },
    {
      "cell_type": "code",
      "metadata": {
        "colab": {
          "base_uri": "https://localhost:8080/",
          "height": 404
        },
        "cellView": "form",
        "id": "C5NVHqLQceTC",
        "outputId": "002b97e1-4051-4b84-90d9-aae2d1f0b517"
      },
      "source": [
        "#@markdown ### Plot the CMS member activity per year\n",
        "activity_plot = { year: 0 for year in yearlist.value }\n",
        "for year in yearlist.value:\n",
        "    for activity in people_stats_values[ year ][ \"ACTIVITY\" ]:\n",
        "        if activity == activity_choice.value:\n",
        "            activity_plot[ year ] += 1\n",
        "        \n",
        "plt.figure( figsize = (6,6) )\n",
        "\n",
        "plt.bar( list( activity_plot.keys() ), list( activity_plot.values() ) )\n",
        "plt.title( \"CMS Members in {} for {} to {}\".format( activity_choice.value, yearlist.value[0], yearlist.value[-1] ) )\n",
        "plt.ylabel( \"Count\", y = 1.0, ha = \"right\" )\n",
        "plt.xlabel( \"YEAR\" )\n",
        "plt.show()"
      ],
      "execution_count": 14,
      "outputs": [
        {
          "output_type": "display_data",
          "data": {
            "image/png": "[encoded data removed]",
            "text/plain": [
              "<Figure size 432x432 with 1 Axes>"
            ]
          },
          "metadata": {
            "tags": [],
            "needs_background": "light"
          }
        }
      ]
    },
    {
      "cell_type": "code",
      "metadata": {
        "cellView": "form",
        "id": "HFCH8B6Qckn6"
      },
      "source": [
        "#@markdown ### Format and Prorudce New `json` File\n",
        "#@markdown Compile the new `dict`\n",
        "combined_json = { year: {} for year in yearlist.value }\n",
        "\n",
        "for year in yearlist.value:\n",
        "    for ID in sorted( list( set( people_stats[ year ].keys() ).intersection( set( work[ year ].keys() ) ) ) ):\n",
        "        combined_json[ year ][ str(ID) ] = {}\n",
        "        combined_json[ year ][ str(ID) ][ \"GENDER\" ] = people_new[ str(ID) ][ \"GENDER\" ]\n",
        "        if str(ID) in work[ year ].keys():\n",
        "            combined_json[ year ][ str(ID) ][ \"PROJECT\" ] = work[ year ][ str(ID) ]\n",
        "        else:\n",
        "            combined_json[ year ][ str(ID) ][ \"PROJECT\" ] = [ \"OTHER\" ]\n",
        "        if str(ID) in people_stats[ year ].keys():\n",
        "            combined_json[ year ][ str(ID) ][ \"ACTIVITY\" ]  = people_stats[ year ][ str(ID) ][ \"ACTIVITY\" ]\n",
        "            combined_json[ year ][ str(ID) ][ \"INSTITUTE\" ] = people_stats[ year ][ str(ID) ][ \"INSTITUTE\" ]\n",
        "            combined_json[ year ][ str(ID) ][ \"AUTHOR\" ]    = people_stats[ year ][ str(ID) ][ \"AUTHOR\" ]\n",
        "        else:\n",
        "            combined_json[ year ][ str(ID) ][ \"ACTIVITY\" ]  = \"OTHER\"\n",
        "            combined_json[ year ][ str(ID) ][ \"INSTITUTE\" ] = \"OTHER\"\n",
        "            combined_json[ year ][ str(ID) ][ \"AUTHOR\" ]    = None"
      ],
      "execution_count": 15,
      "outputs": []
    },
    {
      "cell_type": "code",
      "metadata": {
        "cellView": "form",
        "id": "dWbrm63Tcxja"
      },
      "source": [
        "#@markdown Dump the `json` file\n",
        "with open( \"Data/json_analysis.json\", \"w\" ) as outfile:\n",
        "    json.dump( combined_json, outfile, indent = 2 )"
      ],
      "execution_count": 16,
      "outputs": []
    }
  ]
}