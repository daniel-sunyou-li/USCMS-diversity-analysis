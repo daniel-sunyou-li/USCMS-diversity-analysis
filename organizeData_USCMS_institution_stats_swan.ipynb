{
 "cells": [
  {
   "cell_type": "markdown",
   "metadata": {
    "id": "4tQLXqQZFsOs"
   },
   "source": [
    "# USCMS Diversity Data: Institution Statistics\n",
    "Updated `.json` files can be found from the 'statistics' tab at [icms.cern.ch](https://icms.cern.ch/tools-api/restplus/).  \n",
    "This notebook includes:\n",
    "* `dict` of 'CMS ID': Gender [3]\n",
    "* `dict` of 'INSTITUTE CODE': COUNTRY [5]\n",
    "* `list` of 'YEARS' [7]\n",
    "* `dict` of 'INSTITUTE CODE' : 'YEAR' : 'CMS ACTIVITY': 'GENDER (ALL USA)' for 'Doctoral Students' and 'Physicists' [9]\n",
    "* `list` of `list`'s of 'MALE COUNTS' per 'YEAR' and 'FEMALE COUNTS' per 'YEAR' for 'PROFESSION' [11]\n",
    "* `list` of `list`'s of 'ALL COUNTS' then 'FEMALE COUNTS', both by 'YEAR' by 'INST' for 'PROFESSION' [12]\n",
    "* `df` of 'GENDER COUNTS' per 'YEAR' by 'INSTITUTION' for 'PROFESSION' [13]\n",
    "* `df` of 'INDEX' (A-2015 . . . F-2020) by 'INST' by 'COUNT' for 'PROFESSION' [14] \n",
    "* `plt.bargraph` of 'GENDER COUNTS' by 'YEAR' by 'INSTITUTION' for 'PROFESSION' [15]"
   ]
  },
  {
   "cell_type": "markdown",
   "metadata": {},
   "source": [
    "### Import pythonic libraries"
   ]
  },
  {
   "cell_type": "code",
   "execution_count": 1,
   "metadata": {
    "colab": {
     "base_uri": "https://localhost:8080/"
    },
    "executionInfo": {
     "elapsed": 57558,
     "status": "ok",
     "timestamp": 1617074921645,
     "user": {
      "displayName": "Daniel Li",
      "photoUrl": "https://lh3.googleusercontent.com/a-/AOh14Gisj09vlpMjPb69NcCNKZc7IyDXr8PbG41TYmcx=s64",
      "userId": "14573461907345261812"
     },
     "user_tz": 240
    },
    "id": "HVx08zHeJ-nq",
    "outputId": "e94cd1b1-9ef5-4639-935d-fc2d19125f2e"
   },
   "outputs": [],
   "source": [
    "import os\n",
    "import json\n",
    "import numpy as np\n",
    "import pandas as pd\n",
    "import seaborn as sns\n",
    "from scipy import stats\n",
    "import matplotlib.pyplot as plt\n",
    "from matplotlib.colors import ListedColormap\n",
    "from matplotlib.lines import Line2D\n",
    "from collections import Counter\n",
    "import ipywidgets as widgets\n",
    "\n",
    "sns.set(color_codes=True)\n",
    "sns.set_palette(\"colorblind\", 12)"
   ]
  },
  {
   "cell_type": "markdown",
   "metadata": {},
   "source": [
    "Choose a `json` file starting with \"people_stats\""
   ]
  },
  {
   "cell_type": "code",
   "execution_count": 2,
   "metadata": {
    "colab": {
     "base_uri": "https://localhost:8080/",
     "height": 111,
     "referenced_widgets": [
      "92098740943748288c834aaa799caa00",
      "bc56aa23080141ccab92ede77ff96f77",
      "50e99229b1874fa38ee9acc7c24af08b"
     ]
    },
    "executionInfo": {
     "elapsed": 558,
     "status": "ok",
     "timestamp": 1617075094600,
     "user": {
      "displayName": "Daniel Li",
      "photoUrl": "https://lh3.googleusercontent.com/a-/AOh14Gisj09vlpMjPb69NcCNKZc7IyDXr8PbG41TYmcx=s64",
      "userId": "14573461907345261812"
     },
     "user_tz": 240
    },
    "id": "-MLnvnspe1l_",
    "outputId": "cd20a321-9ac8-4157-d285-7f74138edb35"
   },
   "outputs": [
    {
     "data": {
      "application/vnd.jupyter.widget-view+json": {
       "model_id": "aef12e134f98446e950bb1c01b0f8481",
       "version_major": 2,
       "version_minor": 0
      },
      "text/plain": [
       "SelectMultiple(options=('people_stats_20151231.json', 'people_stats_20161231.json', 'people_stats_20171231.jso…"
      ]
     },
     "metadata": {},
     "output_type": "display_data"
    }
   ],
   "source": [
    "jsonFiles = widgets.SelectMultiple( options = [ option for option in sorted(os.listdir( \"./Data/\")) if \"people_stats\" in option ] )\n",
    "jsonFiles"
   ]
  },
  {
   "cell_type": "markdown",
   "metadata": {},
   "source": [
    "Choose whether to display all CMS members or _only_ CMS authors"
   ]
  },
  {
   "cell_type": "code",
   "execution_count": 26,
   "metadata": {
    "colab": {
     "base_uri": "https://localhost:8080/",
     "height": 111,
     "referenced_widgets": [
      "00d3ad352d5e45449113a2125b17d8e8",
      "da52f8849e68411d9a22c12ca16cccbd",
      "63c44651f2924241a13f45c7535e8692"
     ]
    },
    "executionInfo": {
     "elapsed": 349,
     "status": "ok",
     "timestamp": 1617075103827,
     "user": {
      "displayName": "Daniel Li",
      "photoUrl": "https://lh3.googleusercontent.com/a-/AOh14Gisj09vlpMjPb69NcCNKZc7IyDXr8PbG41TYmcx=s64",
      "userId": "14573461907345261812"
     },
     "user_tz": 240
    },
    "id": "wnA0AmRZyzhy",
    "outputId": "bfeec422-31ed-41c8-c781-989831e15654"
   },
   "outputs": [
    {
     "data": {
      "application/vnd.jupyter.widget-view+json": {
       "model_id": "fbe1e84dbb774d17b601a7c1ef0554ca",
       "version_major": 2,
       "version_minor": 0
      },
      "text/plain": [
       "Select(options=('AUTHORS', 'ALL'), value='AUTHORS')"
      ]
     },
     "metadata": {},
     "output_type": "display_data"
    }
   ],
   "source": [
    "members = widgets.Select( options = [ \"AUTHORS\", \"ALL\" ] )\n",
    "members"
   ]
  },
  {
   "cell_type": "markdown",
   "metadata": {},
   "source": [
    "List analysis parameters"
   ]
  },
  {
   "cell_type": "code",
   "execution_count": 27,
   "metadata": {
    "colab": {
     "base_uri": "https://localhost:8080/"
    },
    "executionInfo": {
     "elapsed": 326,
     "status": "ok",
     "timestamp": 1617075119775,
     "user": {
      "displayName": "Daniel Li",
      "photoUrl": "https://lh3.googleusercontent.com/a-/AOh14Gisj09vlpMjPb69NcCNKZc7IyDXr8PbG41TYmcx=s64",
      "userId": "14573461907345261812"
     },
     "user_tz": 240
    },
    "id": "vgf0eo8tyETJ",
    "outputId": "7c2f3415-0a5d-43f9-fa15-76994452cc29"
   },
   "outputs": [
    {
     "name": "stdout",
     "output_type": "stream",
     "text": [
      ">> Using data from the following years:\n",
      "  - 2015\n",
      "  - 2016\n",
      "  - 2017\n",
      "  - 2018\n",
      "  - 2019\n",
      "  - 2020\n",
      ">> CMS Members: AUTHORS\n"
     ]
    }
   ],
   "source": [
    "yearlist = []\n",
    "authors = True if members.value.lower() == \"authors\" else False\n",
    "\n",
    "for jsonFile in jsonFiles.value:\n",
    "  yearlist.append( jsonFile.split(\"_\")[2].split(\".\")[0][:4] )\n",
    "\n",
    "print( \">> Using data from the following years:\" )\n",
    "for year in yearlist:\n",
    "  print(\"  - {}\".format(year))\n",
    "\n",
    "print( \">> CMS Members: {}\".format( \"AUTHORS\" if authors else \"ALL\" ) )"
   ]
  },
  {
   "cell_type": "markdown",
   "metadata": {},
   "source": [
    "Read in `people_new.json` for gender data.  Taken from `/statistics/people`."
   ]
  },
  {
   "cell_type": "code",
   "execution_count": 28,
   "metadata": {
    "executionInfo": {
     "elapsed": 1685,
     "status": "ok",
     "timestamp": 1617075132467,
     "user": {
      "displayName": "Daniel Li",
      "photoUrl": "https://lh3.googleusercontent.com/a-/AOh14Gisj09vlpMjPb69NcCNKZc7IyDXr8PbG41TYmcx=s64",
      "userId": "14573461907345261812"
     },
     "user_tz": 240
    },
    "id": "dR1ajXl1J-nr"
   },
   "outputs": [],
   "source": [
    "with open('Data/people_new.json') as json_file:\n",
    "    people = json.load(json_file)\n",
    "    \n",
    "gender = {}\n",
    "for item in people:\n",
    "    gender[item['cmsId']] = str( item['gender'] )"
   ]
  },
  {
   "cell_type": "markdown",
   "metadata": {},
   "source": [
    "Read in `institutes_new.json` for institute data. Taken from `/statistics/institutes/`"
   ]
  },
  {
   "cell_type": "code",
   "execution_count": 29,
   "metadata": {
    "executionInfo": {
     "elapsed": 932,
     "status": "ok",
     "timestamp": 1617075147003,
     "user": {
      "displayName": "Daniel Li",
      "photoUrl": "https://lh3.googleusercontent.com/a-/AOh14Gisj09vlpMjPb69NcCNKZc7IyDXr8PbG41TYmcx=s64",
      "userId": "14573461907345261812"
     },
     "user_tz": 240
    },
    "id": "Ge8BLANHJ-nr"
   },
   "outputs": [],
   "source": [
    "with open('Data/institutes_new.json') as json_file:\n",
    "    institutes = json.load(json_file)\n",
    "\n",
    "countries = {}\n",
    "for item in institutes:\n",
    "  if str(item[\"code\"]).lower() in [\"cern\",\"cern-based\"]:\n",
    "    countries[ item[\"code\"] ] = \"CERN\"\n",
    "  else:\n",
    "    countries[ item[\"code\"] ] = str(item[\"country\"])"
   ]
  },
  {
   "cell_type": "markdown",
   "metadata": {},
   "source": [
    "Load in the `json` files for the respective years and their status"
   ]
  },
  {
   "cell_type": "code",
   "execution_count": 30,
   "metadata": {
    "executionInfo": {
     "elapsed": 294,
     "status": "ok",
     "timestamp": 1617075236298,
     "user": {
      "displayName": "Daniel Li",
      "photoUrl": "https://lh3.googleusercontent.com/a-/AOh14Gisj09vlpMjPb69NcCNKZc7IyDXr8PbG41TYmcx=s64",
      "userId": "14573461907345261812"
     },
     "user_tz": 240
    },
    "id": "IETI-jMxJ-nt"
   },
   "outputs": [],
   "source": [
    "tempstat = []\n",
    "\n",
    "for jsonFile in jsonFiles.value:\n",
    "  with open( \"Data/{}\".format( jsonFile ) ) as json_file:\n",
    "    pstats = json.load( json_file )\n",
    "\n",
    "  for item in pstats:\n",
    "    if item[ \"status_cms\" ] not in tempstat: tempstat.append( item[ \"status_cms\" ] )"
   ]
  },
  {
   "cell_type": "markdown",
   "metadata": {},
   "source": [
    "Format the various `dict` into `completedict` for plotting"
   ]
  },
  {
   "cell_type": "code",
   "execution_count": 31,
   "metadata": {
    "colab": {
     "base_uri": "https://localhost:8080/"
    },
    "executionInfo": {
     "elapsed": 452,
     "status": "ok",
     "timestamp": 1617075276279,
     "user": {
      "displayName": "Daniel Li",
      "photoUrl": "https://lh3.googleusercontent.com/a-/AOh14Gisj09vlpMjPb69NcCNKZc7IyDXr8PbG41TYmcx=s64",
      "userId": "14573461907345261812"
     },
     "user_tz": 240
    },
    "id": "aosFe_iGJ-nt",
    "outputId": "d9dfa7a1-438d-4d3b-bd22-d6ca3851c0aa"
   },
   "outputs": [],
   "source": [
    "completedict = {}\n",
    "\n",
    "# Obtain DICT of INST : YEAR : CMS ACTIVITY : GENDER\n",
    "for jsonFile in jsonFiles.value:\n",
    "    #if year == 2019: continue\n",
    "    year = jsonFile.split( \"_\" )[2].split( \".\" )[0][:4]\n",
    "\n",
    "    with open( \"Data/{}\".format(jsonFile) ) as json_file:\n",
    "        pstats = json.load(json_file)\n",
    "    \n",
    "    # Obtain LIST of CMS ACTIVITIES in given YEAR\n",
    "    # Obtain DICT of CMS IDS : CMS ACTIVITY in given YEAR\n",
    "    categdict = {}\n",
    "    categories = []\n",
    "    for item in pstats:\n",
    "        if authors and item['is_author'] != True: continue # AUTHORS\n",
    "        if str(item['status_cms']) not in ['CMS', 'CMSEXTENDED', 'CMSEMERITUS']: continue\n",
    "        if str(item['activity_cms']) in ['Administrative', 'Other', 'None']: continue\n",
    "        if str(item['activity_cms']) not in categories: categories.append(str(item['activity_cms']))\n",
    "        categdict[item['cms_id']] = str(item['activity_cms'])\n",
    "    categories.extend(['Engineer Mechanical', 'Technician', 'Theoretical Physicist', 'Non-Doctoral Student'])\n",
    "    categlist = sorted(set(categories))\n",
    "    \n",
    "    # Obtain NESTED DICT of INST CODE : CMS ACTIVITY : GENDER in GIVEN YEAR\n",
    "    usadict = {}\n",
    "    for item in pstats:\n",
    "        #print(item)\n",
    "        if authors and item['is_author'] != True: continue # AUTHORS\n",
    "        if item['status_cms'] not in ['CMS', 'CMSEXTENDED', 'CMSEMERITUS']: continue\n",
    "        if item['activity_cms'] in ['Administrative', 'Other', 'None']: continue\n",
    "        if item['cms_id'] not in gender: continue\n",
    "        tempcountry = countries[item['inst_code']]\n",
    "        # print(tempcountry)\n",
    "        tempactivity = item['activity_cms']\n",
    "        tempinst = item['inst_code']\n",
    "        if tempcountry == 'USA':\n",
    "            # print(item)\n",
    "            if tempinst not in usadict.keys():\n",
    "                usadict[tempinst] = {}\n",
    "                for categ in categlist: usadict[tempinst][categ]=[]\n",
    "            if tempactivity not in usadict[tempinst].keys(): \n",
    "                usadict[tempinst][tempactivity] = []\n",
    "            if item['cms_id'] not in usadict[tempinst][tempactivity]: \n",
    "                usadict[tempinst][tempactivity].append(gender[item['cms_id']])\n",
    "        else: continue\n",
    "    \n",
    "    # Exchange ENGINEER/TECHNICIAN for these other CMS ACTIVITIES in DICT\n",
    "    for inst in usadict.keys():\n",
    "        usadict[inst]['Engineer/Technician'] = usadict[inst]['Engineer'] + usadict[inst]['Engineer Mechanical'] + usadict[inst]['Engineer Electronics'] + usadict[inst]['Technician']\n",
    "        del(usadict[inst]['Engineer'])\n",
    "        del(usadict[inst]['Engineer Mechanical'])\n",
    "        del(usadict[inst]['Engineer Electronics'])\n",
    "        del(usadict[inst]['Technician'])\n",
    "        \n",
    "        usadict[inst]['Physicist'] = usadict[inst]['Physicist']+ usadict[inst]['Theoretical Physicist']\n",
    "        del(usadict[inst]['Theoretical Physicist'])\n",
    "        \n",
    "        usadict[inst]['Software Engineer'] = usadict[inst]['Engineer Software']\n",
    "        del usadict[inst]['Engineer Software']\n",
    "        \n",
    "    #print(usadict)\n",
    "    \n",
    "    # Finalize DICT of INST : YEAR : CMS ACTIVITY : GENDER\n",
    "    for inst, headcount in usadict.items():\n",
    "        if inst not in completedict: completedict[inst] = {}\n",
    "        if year not in completedict[inst]: completedict[inst][year] = {}\n",
    "        for key, value in headcount.items():\n",
    "            if key not in completedict[inst][year]: completedict[inst][year][key] = []\n",
    "            completedict[inst][year][key] += value "
   ]
  },
  {
   "cell_type": "markdown",
   "metadata": {},
   "source": [
    "Select the positions of interest to analyze"
   ]
  },
  {
   "cell_type": "code",
   "execution_count": 32,
   "metadata": {
    "colab": {
     "base_uri": "https://localhost:8080/",
     "height": 111,
     "referenced_widgets": [
      "1708d28415704ee19c4725bc6568bf57",
      "5c584218b0894b728eb4fa191d46376d",
      "d8fd78d73f294633b212dfa6b7d659ce"
     ]
    },
    "executionInfo": {
     "elapsed": 332,
     "status": "ok",
     "timestamp": 1617075254142,
     "user": {
      "displayName": "Daniel Li",
      "photoUrl": "https://lh3.googleusercontent.com/a-/AOh14Gisj09vlpMjPb69NcCNKZc7IyDXr8PbG41TYmcx=s64",
      "userId": "14573461907345261812"
     },
     "user_tz": 240
    },
    "id": "KpF5brqEJ-nu",
    "outputId": "834992ad-540f-4628-d028-f0b578105472"
   },
   "outputs": [
    {
     "data": {
      "application/vnd.jupyter.widget-view+json": {
       "model_id": "681cbc5e71294f7f8b82a3709935d501",
       "version_major": 2,
       "version_minor": 0
      },
      "text/plain": [
       "SelectMultiple(options=('Non-Doctoral Student', 'Doctoral Student', 'Software Engineer', 'Engineer/Technician'…"
      ]
     },
     "metadata": {},
     "output_type": "display_data"
    }
   ],
   "source": [
    "categlist = ['Non-Doctoral Student', 'Doctoral Student', 'Software Engineer', 'Engineer/Technician', 'Physicist']\n",
    "category_list = widgets.SelectMultiple( options = categlist )\n",
    "category_list"
   ]
  },
  {
   "cell_type": "markdown",
   "metadata": {},
   "source": [
    "Obtain `list` of `list`'s of \"Male Counts\" per year and \"Female Counts\" per year"
   ]
  },
  {
   "cell_type": "code",
   "execution_count": 33,
   "metadata": {
    "executionInfo": {
     "elapsed": 273,
     "status": "ok",
     "timestamp": 1617075280324,
     "user": {
      "displayName": "Daniel Li",
      "photoUrl": "https://lh3.googleusercontent.com/a-/AOh14Gisj09vlpMjPb69NcCNKZc7IyDXr8PbG41TYmcx=s64",
      "userId": "14573461907345261812"
     },
     "user_tz": 240
    },
    "id": "MsdRMlxdJ-nv"
   },
   "outputs": [],
   "source": [
    "completemale = []\n",
    "completefemale = []\n",
    "completeall = []\n",
    "completeinst = []\n",
    "\n",
    "# Obtain LISTS of LISTS of MALE COUNTS per YEAR and FEMALE COUNTS per YEAR\n",
    "for inst, value in completedict.items():\n",
    "    tempmaleyear = []\n",
    "    tempfemaleyear = []\n",
    "    tempallyear = []\n",
    "    for year in yearlist:\n",
    "        tempmale = []\n",
    "        tempfemale = []\n",
    "        if year not in value:\n",
    "            tempmale.append(0)\n",
    "            tempfemale.append(0)\n",
    "        else:\n",
    "            for label, count in value[year].items():\n",
    "                tempmale.append(count.count('M'))\n",
    "                tempfemale.append(count.count('F'))\n",
    "        tempmaleyear.append(sum(tempmale))\n",
    "        tempfemaleyear.append(sum(tempfemale))\n",
    "        tempallyear.append(sum(tempmale)+sum(tempfemale))\n",
    "    completemale.append(tempmaleyear)\n",
    "    completefemale.append(tempfemaleyear)\n",
    "    completeall.append(tempallyear)\n",
    "    completeinst.append(inst)"
   ]
  },
  {
   "cell_type": "markdown",
   "metadata": {},
   "source": [
    "Obtain `list` of `list`'s of \"All counts\" then \"Female Counts\", both by year and institution"
   ]
  },
  {
   "cell_type": "code",
   "execution_count": 34,
   "metadata": {
    "executionInfo": {
     "elapsed": 318,
     "status": "ok",
     "timestamp": 1617075288885,
     "user": {
      "displayName": "Daniel Li",
      "photoUrl": "https://lh3.googleusercontent.com/a-/AOh14Gisj09vlpMjPb69NcCNKZc7IyDXr8PbG41TYmcx=s64",
      "userId": "14573461907345261812"
     },
     "user_tz": 240
    },
    "id": "lt6Gem_YJ-nw"
   },
   "outputs": [],
   "source": [
    "completeinst.append('All USCMS') # FOR ALL USCMS \n",
    "\n",
    "num_years = len( yearlist )\n",
    "\n",
    "sum_male = [sum(completemale[i][j] for i in range(12)) for j in range(num_years)]\n",
    "sum_female = [sum(completefemale[i][j] for i in range(12)) for j in range(num_years)]\n",
    "sum_all = [sum(completeall[i][j] for i in range(12)) for j in range(num_years)]\n",
    "completemale.append(sum_male) # FOR ALL USCMS \n",
    "completefemale.append(sum_female) # FOR ALL USCMS \n",
    "completeall.append(sum_all) # FOR ALL USCMS \n",
    "\n",
    "list_male = list(map(list, zip(*completemale)))\n",
    "list_female = list(map(list, zip(*completefemale)))\n",
    "list_all = list(map(list, zip(*completeall)))\n",
    "\n",
    "# completegender = list_male + list_female # MALE + FEMALE\n",
    "completegender = list_all + list_female # ALL + FEMALE"
   ]
  },
  {
   "cell_type": "markdown",
   "metadata": {},
   "source": [
    "Convert `dict`'s to `pandas` `DataFrame` and visualize the member count for each year versus institute."
   ]
  },
  {
   "cell_type": "code",
   "execution_count": 35,
   "metadata": {
    "colab": {
     "base_uri": "https://localhost:8080/",
     "height": 327
    },
    "executionInfo": {
     "elapsed": 2184,
     "status": "ok",
     "timestamp": 1617075316889,
     "user": {
      "displayName": "Daniel Li",
      "photoUrl": "https://lh3.googleusercontent.com/a-/AOh14Gisj09vlpMjPb69NcCNKZc7IyDXr8PbG41TYmcx=s64",
      "userId": "14573461907345261812"
     },
     "user_tz": 240
    },
    "id": "HbG1javRJ-nw",
    "outputId": "c743e0d1-6baf-4d3f-8852-7c12aa4c0910"
   },
   "outputs": [
    {
     "data": {
      "text/html": [
       "<div>\n",
       "<style scoped>\n",
       "    .dataframe tbody tr th:only-of-type {\n",
       "        vertical-align: middle;\n",
       "    }\n",
       "\n",
       "    .dataframe tbody tr th {\n",
       "        vertical-align: top;\n",
       "    }\n",
       "\n",
       "    .dataframe thead th {\n",
       "        text-align: right;\n",
       "    }\n",
       "</style>\n",
       "<table border=\"1\" class=\"dataframe\">\n",
       "  <thead>\n",
       "    <tr style=\"text-align: right;\">\n",
       "      <th></th>\n",
       "      <th>UCDAVIS</th>\n",
       "      <th>PURDUE</th>\n",
       "      <th>FERMILAB</th>\n",
       "      <th>KANSAS-STATE</th>\n",
       "      <th>PUERTO_RICO</th>\n",
       "      <th>FLORIDA-UNIV</th>\n",
       "      <th>IOWA</th>\n",
       "      <th>TEXAS-TAMU</th>\n",
       "      <th>KANSAS-UNIV</th>\n",
       "      <th>PRINCETON</th>\n",
       "      <th>...</th>\n",
       "      <th>RICE</th>\n",
       "      <th>NORTHEASTERN</th>\n",
       "      <th>MISSISSIPPI</th>\n",
       "      <th>LIVERMORE</th>\n",
       "      <th>ALABAMA-UNIV</th>\n",
       "      <th>PURDUE-CALUMET</th>\n",
       "      <th>WASHINGTON-CUA</th>\n",
       "      <th>FAIRFIELD</th>\n",
       "      <th>ROCKEFELLER</th>\n",
       "      <th>All USCMS</th>\n",
       "    </tr>\n",
       "  </thead>\n",
       "  <tbody>\n",
       "    <tr>\n",
       "      <th>All, 2015</th>\n",
       "      <td>23</td>\n",
       "      <td>14</td>\n",
       "      <td>66</td>\n",
       "      <td>8</td>\n",
       "      <td>1</td>\n",
       "      <td>28</td>\n",
       "      <td>19</td>\n",
       "      <td>22</td>\n",
       "      <td>10</td>\n",
       "      <td>13</td>\n",
       "      <td>...</td>\n",
       "      <td>14</td>\n",
       "      <td>11</td>\n",
       "      <td>2</td>\n",
       "      <td>3</td>\n",
       "      <td>4</td>\n",
       "      <td>2</td>\n",
       "      <td>0</td>\n",
       "      <td>0</td>\n",
       "      <td>0</td>\n",
       "      <td>230</td>\n",
       "    </tr>\n",
       "    <tr>\n",
       "      <th>All, 2016</th>\n",
       "      <td>22</td>\n",
       "      <td>13</td>\n",
       "      <td>74</td>\n",
       "      <td>6</td>\n",
       "      <td>1</td>\n",
       "      <td>24</td>\n",
       "      <td>20</td>\n",
       "      <td>20</td>\n",
       "      <td>15</td>\n",
       "      <td>17</td>\n",
       "      <td>...</td>\n",
       "      <td>12</td>\n",
       "      <td>9</td>\n",
       "      <td>2</td>\n",
       "      <td>2</td>\n",
       "      <td>5</td>\n",
       "      <td>1</td>\n",
       "      <td>2</td>\n",
       "      <td>1</td>\n",
       "      <td>0</td>\n",
       "      <td>234</td>\n",
       "    </tr>\n",
       "    <tr>\n",
       "      <th>All, 2017</th>\n",
       "      <td>24</td>\n",
       "      <td>16</td>\n",
       "      <td>77</td>\n",
       "      <td>5</td>\n",
       "      <td>2</td>\n",
       "      <td>25</td>\n",
       "      <td>20</td>\n",
       "      <td>16</td>\n",
       "      <td>18</td>\n",
       "      <td>17</td>\n",
       "      <td>...</td>\n",
       "      <td>13</td>\n",
       "      <td>11</td>\n",
       "      <td>2</td>\n",
       "      <td>2</td>\n",
       "      <td>5</td>\n",
       "      <td>3</td>\n",
       "      <td>2</td>\n",
       "      <td>0</td>\n",
       "      <td>3</td>\n",
       "      <td>244</td>\n",
       "    </tr>\n",
       "    <tr>\n",
       "      <th>All, 2018</th>\n",
       "      <td>22</td>\n",
       "      <td>17</td>\n",
       "      <td>76</td>\n",
       "      <td>9</td>\n",
       "      <td>2</td>\n",
       "      <td>22</td>\n",
       "      <td>19</td>\n",
       "      <td>16</td>\n",
       "      <td>17</td>\n",
       "      <td>20</td>\n",
       "      <td>...</td>\n",
       "      <td>14</td>\n",
       "      <td>13</td>\n",
       "      <td>2</td>\n",
       "      <td>2</td>\n",
       "      <td>6</td>\n",
       "      <td>3</td>\n",
       "      <td>2</td>\n",
       "      <td>0</td>\n",
       "      <td>0</td>\n",
       "      <td>246</td>\n",
       "    </tr>\n",
       "    <tr>\n",
       "      <th>All, 2019</th>\n",
       "      <td>16</td>\n",
       "      <td>15</td>\n",
       "      <td>74</td>\n",
       "      <td>9</td>\n",
       "      <td>2</td>\n",
       "      <td>20</td>\n",
       "      <td>20</td>\n",
       "      <td>14</td>\n",
       "      <td>20</td>\n",
       "      <td>17</td>\n",
       "      <td>...</td>\n",
       "      <td>14</td>\n",
       "      <td>16</td>\n",
       "      <td>2</td>\n",
       "      <td>2</td>\n",
       "      <td>6</td>\n",
       "      <td>3</td>\n",
       "      <td>4</td>\n",
       "      <td>0</td>\n",
       "      <td>0</td>\n",
       "      <td>232</td>\n",
       "    </tr>\n",
       "  </tbody>\n",
       "</table>\n",
       "<p>5 rows × 52 columns</p>\n",
       "</div>"
      ],
      "text/plain": [
       "           UCDAVIS  PURDUE  FERMILAB  KANSAS-STATE  PUERTO_RICO  FLORIDA-UNIV  \\\n",
       "All, 2015       23      14        66             8            1            28   \n",
       "All, 2016       22      13        74             6            1            24   \n",
       "All, 2017       24      16        77             5            2            25   \n",
       "All, 2018       22      17        76             9            2            22   \n",
       "All, 2019       16      15        74             9            2            20   \n",
       "\n",
       "           IOWA  TEXAS-TAMU  KANSAS-UNIV  PRINCETON  ...  RICE  NORTHEASTERN  \\\n",
       "All, 2015    19          22           10         13  ...    14            11   \n",
       "All, 2016    20          20           15         17  ...    12             9   \n",
       "All, 2017    20          16           18         17  ...    13            11   \n",
       "All, 2018    19          16           17         20  ...    14            13   \n",
       "All, 2019    20          14           20         17  ...    14            16   \n",
       "\n",
       "           MISSISSIPPI  LIVERMORE  ALABAMA-UNIV  PURDUE-CALUMET  \\\n",
       "All, 2015            2          3             4               2   \n",
       "All, 2016            2          2             5               1   \n",
       "All, 2017            2          2             5               3   \n",
       "All, 2018            2          2             6               3   \n",
       "All, 2019            2          2             6               3   \n",
       "\n",
       "           WASHINGTON-CUA  FAIRFIELD  ROCKEFELLER  All USCMS  \n",
       "All, 2015               0          0            0        230  \n",
       "All, 2016               2          1            0        234  \n",
       "All, 2017               2          0            3        244  \n",
       "All, 2018               2          0            0        246  \n",
       "All, 2019               4          0            0        232  \n",
       "\n",
       "[5 rows x 52 columns]"
      ]
     },
     "execution_count": 35,
     "metadata": {},
     "output_type": "execute_result"
    }
   ],
   "source": [
    "gender_year_index = []\n",
    "\n",
    "for category in [ \"All\", \"Female\" ]:\n",
    "  for year in yearlist:\n",
    "    gender_year_index.append( \"{}, {}\".format( category, year ) )\n",
    "\n",
    "# Obtain DATA FRAME of GENDER COUNTS per YEAR by INSTITUTION\n",
    "df = pd.DataFrame(completegender, index = gender_year_index, columns=completeinst)\n",
    "\n",
    "df_sorted_pre_drop = df.reindex(sorted(df.columns), axis = 1)\n",
    "\n",
    "if not os.path.exists('CSV/2019-11-18'): os.makedirs('CSV/2019-11-18')\n",
    "if authors: # AUTHORS\n",
    "    df_sorted_pre_drop.to_csv('CSV/2019-11-18/uscms_inst_gender_year_authors_with_all_USCMS.csv', header=True, encoding='utf-8')\n",
    "elif not authors:\n",
    "    df_sorted_pre_drop.to_csv('CSV/2019-11-18/uscms_inst_gender_year_with_all_USCMS.csv', header=True, encoding='utf-8')\n",
    "else: print('Please set \\\"authors\\\" boolean variable above.')\n",
    "\n",
    "df_dropped = df.drop(labels='All USCMS', axis=1)\n",
    "\n",
    "df.head()"
   ]
  },
  {
   "cell_type": "markdown",
   "metadata": {},
   "source": [
    "Obtain `DataFrame` of `index` ( i.e. A-2015 . . . F-2020 ) by institute versus member count."
   ]
  },
  {
   "cell_type": "markdown",
   "metadata": {},
   "source": [
    "Plot the author count grouped by institution and gender"
   ]
  },
  {
   "cell_type": "code",
   "execution_count": 78,
   "metadata": {
    "cellView": "form",
    "colab": {
     "base_uri": "https://localhost:8080/",
     "height": 369
    },
    "executionInfo": {
     "elapsed": 1896,
     "status": "ok",
     "timestamp": 1617075335426,
     "user": {
      "displayName": "Daniel Li",
      "photoUrl": "https://lh3.googleusercontent.com/a-/AOh14Gisj09vlpMjPb69NcCNKZc7IyDXr8PbG41TYmcx=s64",
      "userId": "14573461907345261812"
     },
     "user_tz": 240
    },
    "id": "wNbbVf-EJ-ny",
    "outputId": "2286d6a4-86b6-42e5-b539-3dbd978b99ee",
    "scrolled": true
   },
   "outputs": [
    {
     "data": {
      "image/png": "[encoded data removed]",
      "text/plain": [
       "<Figure size 2592x432 with 1 Axes>"
      ]
     },
     "metadata": {
      "needs_background": "light"
     },
     "output_type": "display_data"
    }
   ],
   "source": [
    "#@markdown Plot the author count grouped by intstitution and gender\n",
    "labels = df2.variable.unique()\n",
    "n_count = int( df2.value.count() / 2 )\n",
    "n_years = len( yearlist )\n",
    "x = np.arange( len( labels ) )\n",
    "width = 0.9 / len( yearlist )\n",
    "women_count = df2.value.to_numpy()[1::2]\n",
    "men_count =   df2.value.to_numpy()[0::2] - women_count\n",
    "people = { \"WOMEN\": {}, \"MEN\": {} }\n",
    "for i, year in enumerate( yearlist ):\n",
    "  people[ \"WOMEN\" ][ year ] = df2.value.to_numpy()[(i+n_years)::(2*n_years)] \n",
    "  people[ \"MEN\" ][ year ] = df2.value.to_numpy()[i::(2*n_years)] - people[ \"WOMEN\" ][ year ]\n",
    "\n",
    "plt.figure( figsize = (36,6) )\n",
    "ax = plt.subplot(111)\n",
    "\n",
    "for i, year in enumerate( yearlist ):\n",
    "  ax.bar( x + width*i, people[ \"WOMEN\" ][ year ], width, color = \"lightgreen\" )\n",
    "  ax.bar( x + width*i, people[ \"MEN\"   ][ year ], width, bottom = people[ \"WOMEN\" ][ year ], color = \"dodgerblue\" )\n",
    "\n",
    "ax.set_xlabel( \"USCMS Institution\", fontsize = 16 )\n",
    "ax.set_xlim(-0.5,len(labels)+0.1)\n",
    "ax.set_ylabel( \"Author Count\", y = 1.0, ha = \"right\", fontsize = 16 )\n",
    "ax.set_ylim(0,100)\n",
    "ax.set_title( \"Annual USCMS {} Count {} Grouped by Gender from {} to {}\".format( \n",
    "    members.value, category_list.value, yearlist[0], yearlist[-1] ),\n",
    "    fontsize = 20 )\n",
    "ax.set_xticks( x )\n",
    "ax.set_yticks( np.linspace(0,100,11) )\n",
    "ax.set_xticklabels( labels, rotation = 45, fontsize = 8 )\n",
    "\n",
    "custom_legend = [\n",
    "  Line2D( [0], [0], color = \"lightgreen\", lw = 5 ),\n",
    "  Line2D( [0], [0], color = \"dodgerblue\", lw = 5 )\n",
    "]\n",
    "ax.legend( custom_legend, [ \"Women\", \"Men\" ], loc = 2 )\n",
    "ax.set_facecolor(\"white\")\n",
    "ax.grid( b=True, which=\"major\", axis=\"y\", color = [0.7,0.7,0.7], linestyle = \":\", linewidth = 1)\n",
    "plt.show()\n",
    "\n"
   ]
  }
 ],
 "metadata": {
  "colab": {
   "name": "organizeData_USCMS_institution_stats_03242021.ipynb",
   "provenance": []
  },
  "kernelspec": {
   "display_name": "Python 3",
   "language": "python",
   "name": "python3"
  },
  "language_info": {
   "codemirror_mode": {
    "name": "ipython",
    "version": 3
   },
   "file_extension": ".py",
   "mimetype": "text/x-python",
   "name": "python",
   "nbconvert_exporter": "python",
   "pygments_lexer": "ipython3",
   "version": "3.8.6"
  },
  "widgets": {
   "application/vnd.jupyter.widget-state+json": {
    "00d3ad352d5e45449113a2125b17d8e8": {
     "model_module": "@jupyter-widgets/controls",
     "model_name": "SelectModel",
     "state": {
      "_dom_classes": [],
      "_model_module": "@jupyter-widgets/controls",
      "_model_module_version": "1.5.0",
      "_model_name": "SelectModel",
      "_options_labels": [
       "AUTHORS",
       "ALL"
      ],
      "_view_count": null,
      "_view_module": "@jupyter-widgets/controls",
      "_view_module_version": "1.5.0",
      "_view_name": "SelectView",
      "description": "",
      "description_tooltip": null,
      "disabled": false,
      "index": 0,
      "layout": "IPY_MODEL_63c44651f2924241a13f45c7535e8692",
      "rows": 5,
      "style": "IPY_MODEL_da52f8849e68411d9a22c12ca16cccbd"
     }
    },
    "1708d28415704ee19c4725bc6568bf57": {
     "model_module": "@jupyter-widgets/controls",
     "model_name": "SelectMultipleModel",
     "state": {
      "_dom_classes": [],
      "_model_module": "@jupyter-widgets/controls",
      "_model_module_version": "1.5.0",
      "_model_name": "SelectMultipleModel",
      "_options_labels": [
       "Non-Doctoral Student",
       "Doctoral Student",
       "Software Engineer",
       "Engineer/Technician",
       "Physicist"
      ],
      "_view_count": null,
      "_view_module": "@jupyter-widgets/controls",
      "_view_module_version": "1.5.0",
      "_view_name": "SelectMultipleView",
      "description": "",
      "description_tooltip": null,
      "disabled": false,
      "index": [
       1,
       4
      ],
      "layout": "IPY_MODEL_d8fd78d73f294633b212dfa6b7d659ce",
      "rows": 5,
      "style": "IPY_MODEL_5c584218b0894b728eb4fa191d46376d"
     }
    },
    "50e99229b1874fa38ee9acc7c24af08b": {
     "model_module": "@jupyter-widgets/base",
     "model_name": "LayoutModel",
     "state": {
      "_model_module": "@jupyter-widgets/base",
      "_model_module_version": "1.2.0",
      "_model_name": "LayoutModel",
      "_view_count": null,
      "_view_module": "@jupyter-widgets/base",
      "_view_module_version": "1.2.0",
      "_view_name": "LayoutView",
      "align_content": null,
      "align_items": null,
      "align_self": null,
      "border": null,
      "bottom": null,
      "display": null,
      "flex": null,
      "flex_flow": null,
      "grid_area": null,
      "grid_auto_columns": null,
      "grid_auto_flow": null,
      "grid_auto_rows": null,
      "grid_column": null,
      "grid_gap": null,
      "grid_row": null,
      "grid_template_areas": null,
      "grid_template_columns": null,
      "grid_template_rows": null,
      "height": null,
      "justify_content": null,
      "justify_items": null,
      "left": null,
      "margin": null,
      "max_height": null,
      "max_width": null,
      "min_height": null,
      "min_width": null,
      "object_fit": null,
      "object_position": null,
      "order": null,
      "overflow": null,
      "overflow_x": null,
      "overflow_y": null,
      "padding": null,
      "right": null,
      "top": null,
      "visibility": null,
      "width": null
     }
    },
    "5c584218b0894b728eb4fa191d46376d": {
     "model_module": "@jupyter-widgets/controls",
     "model_name": "DescriptionStyleModel",
     "state": {
      "_model_module": "@jupyter-widgets/controls",
      "_model_module_version": "1.5.0",
      "_model_name": "DescriptionStyleModel",
      "_view_count": null,
      "_view_module": "@jupyter-widgets/base",
      "_view_module_version": "1.2.0",
      "_view_name": "StyleView",
      "description_width": ""
     }
    },
    "63c44651f2924241a13f45c7535e8692": {
     "model_module": "@jupyter-widgets/base",
     "model_name": "LayoutModel",
     "state": {
      "_model_module": "@jupyter-widgets/base",
      "_model_module_version": "1.2.0",
      "_model_name": "LayoutModel",
      "_view_count": null,
      "_view_module": "@jupyter-widgets/base",
      "_view_module_version": "1.2.0",
      "_view_name": "LayoutView",
      "align_content": null,
      "align_items": null,
      "align_self": null,
      "border": null,
      "bottom": null,
      "display": null,
      "flex": null,
      "flex_flow": null,
      "grid_area": null,
      "grid_auto_columns": null,
      "grid_auto_flow": null,
      "grid_auto_rows": null,
      "grid_column": null,
      "grid_gap": null,
      "grid_row": null,
      "grid_template_areas": null,
      "grid_template_columns": null,
      "grid_template_rows": null,
      "height": null,
      "justify_content": null,
      "justify_items": null,
      "left": null,
      "margin": null,
      "max_height": null,
      "max_width": null,
      "min_height": null,
      "min_width": null,
      "object_fit": null,
      "object_position": null,
      "order": null,
      "overflow": null,
      "overflow_x": null,
      "overflow_y": null,
      "padding": null,
      "right": null,
      "top": null,
      "visibility": null,
      "width": null
     }
    },
    "92098740943748288c834aaa799caa00": {
     "model_module": "@jupyter-widgets/controls",
     "model_name": "SelectMultipleModel",
     "state": {
      "_dom_classes": [],
      "_model_module": "@jupyter-widgets/controls",
      "_model_module_version": "1.5.0",
      "_model_name": "SelectMultipleModel",
      "_options_labels": [
       "people_stats_20151231.json",
       "people_stats_20161231.json",
       "people_stats_20171231.json",
       "people_stats_20181231.json",
       "people_stats_20191231.json",
       "people_stats_20201231.json",
       "people_stats_20210322.json"
      ],
      "_view_count": null,
      "_view_module": "@jupyter-widgets/controls",
      "_view_module_version": "1.5.0",
      "_view_name": "SelectMultipleView",
      "description": "",
      "description_tooltip": null,
      "disabled": false,
      "index": [
       3,
       4,
       5
      ],
      "layout": "IPY_MODEL_50e99229b1874fa38ee9acc7c24af08b",
      "rows": 5,
      "style": "IPY_MODEL_bc56aa23080141ccab92ede77ff96f77"
     }
    },
    "bc56aa23080141ccab92ede77ff96f77": {
     "model_module": "@jupyter-widgets/controls",
     "model_name": "DescriptionStyleModel",
     "state": {
      "_model_module": "@jupyter-widgets/controls",
      "_model_module_version": "1.5.0",
      "_model_name": "DescriptionStyleModel",
      "_view_count": null,
      "_view_module": "@jupyter-widgets/base",
      "_view_module_version": "1.2.0",
      "_view_name": "StyleView",
      "description_width": ""
     }
    },
    "d8fd78d73f294633b212dfa6b7d659ce": {
     "model_module": "@jupyter-widgets/base",
     "model_name": "LayoutModel",
     "state": {
      "_model_module": "@jupyter-widgets/base",
      "_model_module_version": "1.2.0",
      "_model_name": "LayoutModel",
      "_view_count": null,
      "_view_module": "@jupyter-widgets/base",
      "_view_module_version": "1.2.0",
      "_view_name": "LayoutView",
      "align_content": null,
      "align_items": null,
      "align_self": null,
      "border": null,
      "bottom": null,
      "display": null,
      "flex": null,
      "flex_flow": null,
      "grid_area": null,
      "grid_auto_columns": null,
      "grid_auto_flow": null,
      "grid_auto_rows": null,
      "grid_column": null,
      "grid_gap": null,
      "grid_row": null,
      "grid_template_areas": null,
      "grid_template_columns": null,
      "grid_template_rows": null,
      "height": null,
      "justify_content": null,
      "justify_items": null,
      "left": null,
      "margin": null,
      "max_height": null,
      "max_width": null,
      "min_height": null,
      "min_width": null,
      "object_fit": null,
      "object_position": null,
      "order": null,
      "overflow": null,
      "overflow_x": null,
      "overflow_y": null,
      "padding": null,
      "right": null,
      "top": null,
      "visibility": null,
      "width": null
     }
    },
    "da52f8849e68411d9a22c12ca16cccbd": {
     "model_module": "@jupyter-widgets/controls",
     "model_name": "DescriptionStyleModel",
     "state": {
      "_model_module": "@jupyter-widgets/controls",
      "_model_module_version": "1.5.0",
      "_model_name": "DescriptionStyleModel",
      "_view_count": null,
      "_view_module": "@jupyter-widgets/base",
      "_view_module_version": "1.2.0",
      "_view_name": "StyleView",
      "description_width": ""
     }
    }
   }
  }
 },
 "nbformat": 4,
 "nbformat_minor": 1
}
