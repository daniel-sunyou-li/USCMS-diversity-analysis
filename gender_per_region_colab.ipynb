{
  "nbformat": 4,
  "nbformat_minor": 0,
  "metadata": {
    "colab": {
      "name": "gender_per_region_colab.ipynb",
      "provenance": []
    },
    "kernelspec": {
      "name": "python3",
      "display_name": "Python 3"
    },
    "language_info": {
      "name": "python"
    },
    "widgets": {
      "application/vnd.jupyter.widget-state+json": {
        "c4513bc8be3245d4930c46717212ad18": {
          "model_module": "@jupyter-widgets/controls",
          "model_name": "SelectMultipleModel",
          "state": {
            "_options_labels": [
              "2015",
              "2016",
              "2017",
              "2018",
              "2019",
              "2020"
            ],
            "_view_name": "SelectMultipleView",
            "style": "IPY_MODEL_5a7204c3be3643e69020df3b52529ea6",
            "rows": 5,
            "_dom_classes": [],
            "description": "",
            "_model_name": "SelectMultipleModel",
            "index": [
              0,
              1,
              2,
              3,
              4,
              5
            ],
            "_view_module": "@jupyter-widgets/controls",
            "_model_module_version": "1.5.0",
            "_view_count": null,
            "disabled": false,
            "_view_module_version": "1.5.0",
            "description_tooltip": null,
            "_model_module": "@jupyter-widgets/controls",
            "layout": "IPY_MODEL_dc9ebdc4e89e44eb833c8530614785f3"
          }
        },
        "5a7204c3be3643e69020df3b52529ea6": {
          "model_module": "@jupyter-widgets/controls",
          "model_name": "DescriptionStyleModel",
          "state": {
            "_view_name": "StyleView",
            "_model_name": "DescriptionStyleModel",
            "description_width": "",
            "_view_module": "@jupyter-widgets/base",
            "_model_module_version": "1.5.0",
            "_view_count": null,
            "_view_module_version": "1.2.0",
            "_model_module": "@jupyter-widgets/controls"
          }
        },
        "dc9ebdc4e89e44eb833c8530614785f3": {
          "model_module": "@jupyter-widgets/base",
          "model_name": "LayoutModel",
          "state": {
            "_view_name": "LayoutView",
            "grid_template_rows": null,
            "right": null,
            "justify_content": null,
            "_view_module": "@jupyter-widgets/base",
            "overflow": null,
            "_model_module_version": "1.2.0",
            "_view_count": null,
            "flex_flow": null,
            "width": null,
            "min_width": null,
            "border": null,
            "align_items": null,
            "bottom": null,
            "_model_module": "@jupyter-widgets/base",
            "top": null,
            "grid_column": null,
            "overflow_y": null,
            "overflow_x": null,
            "grid_auto_flow": null,
            "grid_area": null,
            "grid_template_columns": null,
            "flex": null,
            "_model_name": "LayoutModel",
            "justify_items": null,
            "grid_row": null,
            "max_height": null,
            "align_content": null,
            "visibility": null,
            "align_self": null,
            "height": null,
            "min_height": null,
            "padding": null,
            "grid_auto_rows": null,
            "grid_gap": null,
            "max_width": null,
            "order": null,
            "_view_module_version": "1.2.0",
            "grid_template_areas": null,
            "object_position": null,
            "object_fit": null,
            "grid_auto_columns": null,
            "margin": null,
            "display": null,
            "left": null
          }
        },
        "e4ceee93b5a745468eddfa22bb5a1c97": {
          "model_module": "@jupyter-widgets/controls",
          "model_name": "SelectMultipleModel",
          "state": {
            "_options_labels": [
              "CERN",
              "CMS",
              "CMS iCMSfor9981_01/01/2019-Author:True",
              "CMSAFFILIATE",
              "CMSASSOC",
              "CMSEMERITUS",
              "CMSEXTENDED",
              "CMSVO",
              "DECEASED",
              "EXMEMBER",
              "NOSHOW",
              "NOTCMS",
              "NOTNAME",
              "RELATED"
            ],
            "_view_name": "SelectMultipleView",
            "style": "IPY_MODEL_5e9e0f14575f48409ed6dd3b9ead9989",
            "rows": 5,
            "_dom_classes": [],
            "description": "",
            "_model_name": "SelectMultipleModel",
            "index": [
              1,
              3,
              4,
              5,
              6
            ],
            "_view_module": "@jupyter-widgets/controls",
            "_model_module_version": "1.5.0",
            "_view_count": null,
            "disabled": false,
            "_view_module_version": "1.5.0",
            "description_tooltip": null,
            "_model_module": "@jupyter-widgets/controls",
            "layout": "IPY_MODEL_6452dd7d626a449397aafdb712244728"
          }
        },
        "5e9e0f14575f48409ed6dd3b9ead9989": {
          "model_module": "@jupyter-widgets/controls",
          "model_name": "DescriptionStyleModel",
          "state": {
            "_view_name": "StyleView",
            "_model_name": "DescriptionStyleModel",
            "description_width": "",
            "_view_module": "@jupyter-widgets/base",
            "_model_module_version": "1.5.0",
            "_view_count": null,
            "_view_module_version": "1.2.0",
            "_model_module": "@jupyter-widgets/controls"
          }
        },
        "6452dd7d626a449397aafdb712244728": {
          "model_module": "@jupyter-widgets/base",
          "model_name": "LayoutModel",
          "state": {
            "_view_name": "LayoutView",
            "grid_template_rows": null,
            "right": null,
            "justify_content": null,
            "_view_module": "@jupyter-widgets/base",
            "overflow": null,
            "_model_module_version": "1.2.0",
            "_view_count": null,
            "flex_flow": null,
            "width": null,
            "min_width": null,
            "border": null,
            "align_items": null,
            "bottom": null,
            "_model_module": "@jupyter-widgets/base",
            "top": null,
            "grid_column": null,
            "overflow_y": null,
            "overflow_x": null,
            "grid_auto_flow": null,
            "grid_area": null,
            "grid_template_columns": null,
            "flex": null,
            "_model_name": "LayoutModel",
            "justify_items": null,
            "grid_row": null,
            "max_height": null,
            "align_content": null,
            "visibility": null,
            "align_self": null,
            "height": null,
            "min_height": null,
            "padding": null,
            "grid_auto_rows": null,
            "grid_gap": null,
            "max_width": null,
            "order": null,
            "_view_module_version": "1.2.0",
            "grid_template_areas": null,
            "object_position": null,
            "object_fit": null,
            "grid_auto_columns": null,
            "margin": null,
            "display": null,
            "left": null
          }
        },
        "9707efab37664b57b0c3554e8cf639fa": {
          "model_module": "@jupyter-widgets/controls",
          "model_name": "SelectModel",
          "state": {
            "_options_labels": [
              "AUTHORS",
              "ALL MEMBERS",
              "NON-AUTHORS",
              "REPORTED MEMBERS",
              "UNREPORTED MEMBERS",
              "AUTHORS and UNREPORTED",
              "NON-AUTHORS and UNREPORTED"
            ],
            "_view_name": "SelectView",
            "style": "IPY_MODEL_e8ccf19ce04d4e358fbd4600396fc0f3",
            "rows": 5,
            "_dom_classes": [],
            "description": "",
            "_model_name": "SelectModel",
            "index": 1,
            "_view_module": "@jupyter-widgets/controls",
            "_model_module_version": "1.5.0",
            "_view_count": null,
            "disabled": false,
            "_view_module_version": "1.5.0",
            "description_tooltip": null,
            "_model_module": "@jupyter-widgets/controls",
            "layout": "IPY_MODEL_3da5e5b720784e7eb085e0a5f52acbe6"
          }
        },
        "e8ccf19ce04d4e358fbd4600396fc0f3": {
          "model_module": "@jupyter-widgets/controls",
          "model_name": "DescriptionStyleModel",
          "state": {
            "_view_name": "StyleView",
            "_model_name": "DescriptionStyleModel",
            "description_width": "",
            "_view_module": "@jupyter-widgets/base",
            "_model_module_version": "1.5.0",
            "_view_count": null,
            "_view_module_version": "1.2.0",
            "_model_module": "@jupyter-widgets/controls"
          }
        },
        "3da5e5b720784e7eb085e0a5f52acbe6": {
          "model_module": "@jupyter-widgets/base",
          "model_name": "LayoutModel",
          "state": {
            "_view_name": "LayoutView",
            "grid_template_rows": null,
            "right": null,
            "justify_content": null,
            "_view_module": "@jupyter-widgets/base",
            "overflow": null,
            "_model_module_version": "1.2.0",
            "_view_count": null,
            "flex_flow": null,
            "width": null,
            "min_width": null,
            "border": null,
            "align_items": null,
            "bottom": null,
            "_model_module": "@jupyter-widgets/base",
            "top": null,
            "grid_column": null,
            "overflow_y": null,
            "overflow_x": null,
            "grid_auto_flow": null,
            "grid_area": null,
            "grid_template_columns": null,
            "flex": null,
            "_model_name": "LayoutModel",
            "justify_items": null,
            "grid_row": null,
            "max_height": null,
            "align_content": null,
            "visibility": null,
            "align_self": null,
            "height": null,
            "min_height": null,
            "padding": null,
            "grid_auto_rows": null,
            "grid_gap": null,
            "max_width": null,
            "order": null,
            "_view_module_version": "1.2.0",
            "grid_template_areas": null,
            "object_position": null,
            "object_fit": null,
            "grid_auto_columns": null,
            "margin": null,
            "display": null,
            "left": null
          }
        },
        "b80ac4ed634b40dda7738e4bcafaa137": {
          "model_module": "@jupyter-widgets/controls",
          "model_name": "SelectMultipleModel",
          "state": {
            "_options_labels": [
              "FRANCE",
              "GERMANY",
              "ITALY",
              "SWITZERLAND",
              "UNITED KINGDOM",
              "USCMS",
              "CERN",
              "RDMS",
              "CERN OTHER",
              "OTHER A",
              "OTHER B",
              "OTHER C"
            ],
            "_view_name": "SelectMultipleView",
            "style": "IPY_MODEL_d74e2d783e3e44d4a8121cb45576398a",
            "rows": 5,
            "_dom_classes": [],
            "description": "",
            "_model_name": "SelectMultipleModel",
            "index": [
              0,
              1,
              2,
              3,
              4,
              5,
              6,
              7,
              8,
              9,
              10,
              11
            ],
            "_view_module": "@jupyter-widgets/controls",
            "_model_module_version": "1.5.0",
            "_view_count": null,
            "disabled": false,
            "_view_module_version": "1.5.0",
            "description_tooltip": null,
            "_model_module": "@jupyter-widgets/controls",
            "layout": "IPY_MODEL_2cd796010baa4305bad50c4bb92eb09d"
          }
        },
        "d74e2d783e3e44d4a8121cb45576398a": {
          "model_module": "@jupyter-widgets/controls",
          "model_name": "DescriptionStyleModel",
          "state": {
            "_view_name": "StyleView",
            "_model_name": "DescriptionStyleModel",
            "description_width": "",
            "_view_module": "@jupyter-widgets/base",
            "_model_module_version": "1.5.0",
            "_view_count": null,
            "_view_module_version": "1.2.0",
            "_model_module": "@jupyter-widgets/controls"
          }
        },
        "2cd796010baa4305bad50c4bb92eb09d": {
          "model_module": "@jupyter-widgets/base",
          "model_name": "LayoutModel",
          "state": {
            "_view_name": "LayoutView",
            "grid_template_rows": null,
            "right": null,
            "justify_content": null,
            "_view_module": "@jupyter-widgets/base",
            "overflow": null,
            "_model_module_version": "1.2.0",
            "_view_count": null,
            "flex_flow": null,
            "width": null,
            "min_width": null,
            "border": null,
            "align_items": null,
            "bottom": null,
            "_model_module": "@jupyter-widgets/base",
            "top": null,
            "grid_column": null,
            "overflow_y": null,
            "overflow_x": null,
            "grid_auto_flow": null,
            "grid_area": null,
            "grid_template_columns": null,
            "flex": null,
            "_model_name": "LayoutModel",
            "justify_items": null,
            "grid_row": null,
            "max_height": null,
            "align_content": null,
            "visibility": null,
            "align_self": null,
            "height": null,
            "min_height": null,
            "padding": null,
            "grid_auto_rows": null,
            "grid_gap": null,
            "max_width": null,
            "order": null,
            "_view_module_version": "1.2.0",
            "grid_template_areas": null,
            "object_position": null,
            "object_fit": null,
            "grid_auto_columns": null,
            "margin": null,
            "display": null,
            "left": null
          }
        }
      }
    }
  },
  "cells": [
    {
      "cell_type": "code",
      "metadata": {
        "colab": {
          "base_uri": "https://localhost:8080/"
        },
        "id": "yB87sZhuWUQS",
        "cellView": "form",
        "outputId": "2be5a104-0aa6-454a-cb00-2d39d2a8846a"
      },
      "source": [
        "#@markdown #USCMS Diveristy Data: Gender Count per Region\n",
        "#@markdown Count gender per region for various years\n",
        "\n",
        "#@markdown ### Import `python` libraries\n",
        "\n",
        "import os, json\n",
        "import numpy as np\n",
        "import pandas as pd\n",
        "from scipy import stats\n",
        "import matplotlib.pyplot as plt\n",
        "from matplotlib.colors import ListedColormap\n",
        "from matplotlib.lines import Line2D\n",
        "import ipywidgets as widgets\n",
        "\n",
        "from google.colab import drive\n",
        "drive.mount( '/content/drive' )\n",
        "\n",
        "%cd /content/drive/My Drive/Physics Research/CMS/Analysis/USCMS-diversity-analysis-main/"
      ],
      "execution_count": 1,
      "outputs": [
        {
          "output_type": "stream",
          "text": [
            "Mounted at /content/drive\n",
            "/content/drive/My Drive/Physics Research/CMS/Analysis/USCMS-diversity-analysis-main\n"
          ],
          "name": "stdout"
        }
      ]
    },
    {
      "cell_type": "code",
      "metadata": {
        "colab": {
          "base_uri": "https://localhost:8080/",
          "height": 111,
          "referenced_widgets": [
            "c4513bc8be3245d4930c46717212ad18",
            "5a7204c3be3643e69020df3b52529ea6",
            "dc9ebdc4e89e44eb833c8530614785f3"
          ]
        },
        "cellView": "form",
        "id": "EtPtVGyWWzlI",
        "outputId": "156d7438-92e4-490e-c0ee-97dea173ece2"
      },
      "source": [
        "#@markdown ### Select and Load in the Relevant `json` Files\n",
        "#@markdown Choose the years to consolidate\n",
        "people_stats = [ option for option in os.listdir( \"./Data/\" ) if \"people_stats\" in option ]\n",
        "work = [ option for option in os.listdir( \"./Data/\" ) if \"work\" in option ]\n",
        "people_stats_years = [ name.split(\".\")[0].split(\"_\")[2][:4] for name in people_stats ]\n",
        "work_years = [ name.split(\".\")[0].split(\"_\")[1][:4] for name in work ]\n",
        "valid_years = list( set(people_stats_years).intersection(work_years) )\n",
        "yearlist = widgets.SelectMultiple( options = sorted(valid_years) )\n",
        "yearlist"
      ],
      "execution_count": 2,
      "outputs": [
        {
          "output_type": "display_data",
          "data": {
            "application/vnd.jupyter.widget-view+json": {
              "model_id": "c4513bc8be3245d4930c46717212ad18",
              "version_minor": 0,
              "version_major": 2
            },
            "text/plain": [
              "SelectMultiple(options=('2015', '2016', '2017', '2018', '2019', '2020'), value=())"
            ]
          },
          "metadata": {
            "tags": []
          }
        }
      ]
    },
    {
      "cell_type": "code",
      "metadata": {
        "colab": {
          "base_uri": "https://localhost:8080/"
        },
        "cellView": "form",
        "id": "sJKvF0ygW3V9",
        "outputId": "b315df0f-a1e7-4c92-8b7e-edfdae79cb60"
      },
      "source": [
        "#@markdown Load in the `json` files\n",
        "region_key = {\n",
        "    \"FRANCE\": [\"FRANCE\"],\n",
        "    \"GERMANY\": [\"GERMANY\"],\n",
        "    \"ITALY\": [\"ITALY\"],\n",
        "    \"SWITZERLAND\": [\"SWITZERLAND\"],\n",
        "    \"UNITED KINGDOM\": [\"UNITED KINGDOM\"],\n",
        "    \"USCMS\": [\"USA\"],\n",
        "    \"CERN\":[\"CERN\",\"CERN-BASED\"],\n",
        "    \"RDMS\":[\"RUSSIA\",\"ARMENIA\",\"BELARUS\",\"GEORGIA\",\"UZBEKISTAN\"],\n",
        "    \"CERN OTHER\":[\"AUSTRIA\",\"BELGIUM\",\"BULGARIA\",\"FINLAND\",\"GREECE\",\"HUNGARY\",\"POLAND\",\"PORTUGAL\",\"SERBIA\",\"SPAIN\"],\n",
        "    \"OTHER A\":[\"CHINA\",\"INDIA\",\"IRAN\",\"KOREA\",\"MALAYSIA\",\"NEW ZEALAND\",\"PAKISTAN\",\"SRI LANKA\",\"TAIWAN\",\"THAILAND\"],\n",
        "    \"OTHER B\":[\"BAHRAIN\",\"BRAZIL\",\"COLOMBIA\",\"CROATIA\",\"CYPRUS\",\"ECUADOR\",\"EGYPT\",\"ESTONIA\",\"IRELAND\",\"KUWAIT\",\"LEBANON\",\"LATVIA\",\"LITHUANIA\",\"MEXICO\",\"MONTENEGRO\",\"OMAN\",\"QATAR\",\"SAUDI ARABIA\",\"TURKEY\",\"UKRAINE\"],\n",
        "    \"OTHER C\":[]\n",
        "}\n",
        "\n",
        "json_files = {\n",
        "    \"people_new\": json.load( open( \"Data/people_new.json\" ) ),\n",
        "    \"institutes_new\": json.load( open( \"Data/institutes_new.json\" ) ),\n",
        "    \"people_stats\": { year: json.load( open( \"Data/people_stats_{}1231.json\".format( year ) ) ) for year in yearlist.value }\n",
        "}\n",
        "\n",
        "institute_list = np.array( [ list( institute.values() ) for institute in json_files[ \"institutes_new\" ] ] )\n",
        "\n",
        "id_info = {}\n",
        "for person in json_files[ \"people_new\" ]:\n",
        "  id_info[ str( person[ \"cmsId\" ] ) ] = { \n",
        "    \"BIRTHYEAR\": person[ \"birthYear\" ],\n",
        "    \"GENDER\": person[ \"gender\" ]   \n",
        "  }\n",
        "\n",
        "data = {\n",
        "    year: {} for year in yearlist.value\n",
        "}\n",
        "\n",
        "for year in yearlist.value:\n",
        "  for person in json_files[ \"people_stats\" ][ year ]:\n",
        "    data[ year ][ str( person[ \"cms_id\" ] ) ] = {\n",
        "        \"ACTIVITY\": person[ \"activity_cms\" ],\n",
        "        \"INSTITUTE\": person[ \"inst_code\" ],\n",
        "        \"AUTHOR\": person[ \"is_author\" ],\n",
        "        \"STATUS\": person[ \"status_cms\" ],\n",
        "        \"GENDER\": id_info[ str( person[ \"cms_id\" ] ) ][ \"GENDER\" ],\n",
        "        \"BIRTHYEAR\": id_info[ str( person[ \"cms_id\" ] ) ][ \"GENDER\" ]\n",
        "    }\n",
        "\n",
        "  print( \"Adding regions for {}\".format( year ) )\n",
        "  for cms_id in data[ year ]:\n",
        "    this_index = np.argwhere( institute_list[:,0] == data[ year ][ cms_id ][ \"INSTITUTE\" ] )[0,0]\n",
        "    this_country = institute_list[ this_index, 1 ].upper()\n",
        "    if data[ year ][ cms_id ][ \"INSTITUTE\" ].upper() in [ \"CERN\", \"CERN-BASED\" ]:\n",
        "      this_country = \"CERN\"\n",
        "    has_region = False\n",
        "    for region in region_key.keys():\n",
        "      if this_country in region_key[ region ]:\n",
        "        data[ year ][ cms_id ][ \"REGION\" ] = region\n",
        "        has_region = True\n",
        "        continue\n",
        "    if has_region == False:\n",
        "      data[ year ][ cms_id ][ \"REGION\" ] = \"OTHER C\"\n",
        "      if this_country not in region_key[\"OTHER C\"]: \n",
        "        print( \">> Adding {} to Other C\".format( this_country ) )\n",
        "        region_key[\"OTHER C\"].append( this_country )"
      ],
      "execution_count": 7,
      "outputs": [
        {
          "output_type": "stream",
          "text": [
            "Adding regions for 2015\n",
            ">> Adding ZZ to Other C\n",
            ">> Adding SINGAPORE to Other C\n",
            ">> Adding SLOVAK REPUBLIC to Other C\n",
            ">> Adding CZECH REPUBLIC to Other C\n",
            ">> Adding NETHERLANDS to Other C\n",
            ">> Adding CANADA to Other C\n",
            ">> Adding PHILIPPINES to Other C\n",
            ">> Adding ROMANIA to Other C\n",
            ">> Adding JAPAN to Other C\n",
            ">> Adding NORWAY to Other C\n",
            ">> Adding TUNISIA to Other C\n",
            "Adding regions for 2016\n",
            "Adding regions for 2017\n",
            "Adding regions for 2018\n",
            "Adding regions for 2019\n",
            "Adding regions for 2020\n",
            ">> Adding JORDAN to Other C\n"
          ],
          "name": "stdout"
        }
      ]
    },
    {
      "cell_type": "code",
      "metadata": {
        "colab": {
          "base_uri": "https://localhost:8080/"
        },
        "id": "WysdJPggRV56",
        "outputId": "e6badb05-5fd3-41e0-a9d2-bd35233e11a2"
      },
      "source": [
        "len( data[ \"2015\" ] )"
      ],
      "execution_count": 24,
      "outputs": [
        {
          "output_type": "execute_result",
          "data": {
            "text/plain": [
              "11428"
            ]
          },
          "metadata": {
            "tags": []
          },
          "execution_count": 24
        }
      ]
    },
    {
      "cell_type": "code",
      "metadata": {
        "colab": {
          "base_uri": "https://localhost:8080/",
          "height": 111,
          "referenced_widgets": [
            "e4ceee93b5a745468eddfa22bb5a1c97",
            "5e9e0f14575f48409ed6dd3b9ead9989",
            "6452dd7d626a449397aafdb712244728"
          ]
        },
        "id": "jZ5OhIGjW_Ps",
        "cellView": "form",
        "outputId": "e0fa33cf-f00d-4fef-91fc-bcd93b9866c6"
      },
      "source": [
        "#@markdown Choose a CMS Status to report\n",
        "\n",
        "status_options = []\n",
        "\n",
        "for year in yearlist.value:\n",
        "  for person in json_files[ \"people_stats\" ][ year ]:\n",
        "    if person[ \"status_cms\" ] not in status_options:\n",
        "      if person[ \"status_cms\" ] != None and person[ \"status_cms\" ] != \"\":\n",
        "        status_options.append( person[ \"status_cms\" ] )\n",
        "\n",
        "status = widgets.SelectMultiple( options = sorted( status_options ), value = [ \"CMS\", \"CMSAFFILIATE\", \"CMSASSOC\", \"CMSEMERITUS\", \"CMSEXTENDED\" ] )\n",
        "status"
      ],
      "execution_count": 8,
      "outputs": [
        {
          "output_type": "display_data",
          "data": {
            "application/vnd.jupyter.widget-view+json": {
              "model_id": "e4ceee93b5a745468eddfa22bb5a1c97",
              "version_minor": 0,
              "version_major": 2
            },
            "text/plain": [
              "SelectMultiple(index=(1, 3, 4, 5, 6), options=('CERN', 'CMS', 'CMS iCMSfor9981_01/01/2019-Author:True', 'CMSAF…"
            ]
          },
          "metadata": {
            "tags": []
          }
        }
      ]
    },
    {
      "cell_type": "code",
      "metadata": {
        "colab": {
          "base_uri": "https://localhost:8080/",
          "height": 111,
          "referenced_widgets": [
            "9707efab37664b57b0c3554e8cf639fa",
            "e8ccf19ce04d4e358fbd4600396fc0f3",
            "3da5e5b720784e7eb085e0a5f52acbe6"
          ]
        },
        "id": "wVKWwM7uYbtx",
        "cellView": "form",
        "outputId": "af13395a-c8eb-4f4b-9fd2-d37a474bb0c9"
      },
      "source": [
        "#@markdown Select authorship status to report:\n",
        "author_legend = {\n",
        "    \"AUTHORS\": [ True ],\n",
        "    \"ALL MEMBERS\": [ True, False, None ],\n",
        "    \"NON-AUTHORS\": [ False ],\n",
        "    \"REPORTED MEMBERS\": [ True, False ],\n",
        "    \"UNREPORTED MEMBERS\": [ None ],\n",
        "    \"AUTHORS and UNREPORTED\": [ True, None ],\n",
        "    \"NON-AUTHORS and UNREPORTED\": [ False, None ]\n",
        "}\n",
        "author = widgets.Select( options = author_legend.keys(), value = \"AUTHORS\" )\n",
        "author"
      ],
      "execution_count": 18,
      "outputs": [
        {
          "output_type": "display_data",
          "data": {
            "application/vnd.jupyter.widget-view+json": {
              "model_id": "9707efab37664b57b0c3554e8cf639fa",
              "version_minor": 0,
              "version_major": 2
            },
            "text/plain": [
              "Select(options=('AUTHORS', 'ALL MEMBERS', 'NON-AUTHORS', 'REPORTED MEMBERS', 'UNREPORTED MEMBERS', 'AUTHORS an…"
            ]
          },
          "metadata": {
            "tags": []
          }
        }
      ]
    },
    {
      "cell_type": "code",
      "metadata": {
        "colab": {
          "base_uri": "https://localhost:8080/",
          "height": 111,
          "referenced_widgets": [
            "b80ac4ed634b40dda7738e4bcafaa137",
            "d74e2d783e3e44d4a8121cb45576398a",
            "2cd796010baa4305bad50c4bb92eb09d"
          ]
        },
        "cellView": "form",
        "id": "_yG-e5lYaIEM",
        "outputId": "9e3d6f0e-3b12-4320-b3ee-f0c48e3b0e80"
      },
      "source": [
        "#@markdown Select regions to report\n",
        "regions = widgets.SelectMultiple( options = region_key.keys() )\n",
        "regions "
      ],
      "execution_count": 13,
      "outputs": [
        {
          "output_type": "display_data",
          "data": {
            "application/vnd.jupyter.widget-view+json": {
              "model_id": "b80ac4ed634b40dda7738e4bcafaa137",
              "version_minor": 0,
              "version_major": 2
            },
            "text/plain": [
              "SelectMultiple(options=('FRANCE', 'GERMANY', 'ITALY', 'SWITZERLAND', 'UNITED KINGDOM', 'USCMS', 'CERN', 'RDMS'…"
            ]
          },
          "metadata": {
            "tags": []
          }
        }
      ]
    },
    {
      "cell_type": "code",
      "metadata": {
        "colab": {
          "base_uri": "https://localhost:8080/"
        },
        "id": "_F40ogOGaLq7",
        "cellView": "form",
        "outputId": "1975d8d1-3ee8-41d6-9f24-66d65eddb976"
      },
      "source": [
        "#@markdown Count the genders for each region\n",
        "\n",
        "count_region = {\n",
        "    year: {\n",
        "        category: {\n",
        "            region: 0 for region in regions.value\n",
        "        } for category in [ \"MALE\", \"FEMALE\", \"TOTAL\", \"FRACTION_F\", \"FRACTION_M\" ]\n",
        "    } for year in yearlist.value\n",
        "}\n",
        "\n",
        "count_cms = {\n",
        "    year: {\n",
        "        category: 0 for category in [ \"MALE\", \"FEMALE\", \"TOTAL\", \"FRACTION_F\", \"FRACTION_M\" ]\n",
        "    } for year in yearlist.value\n",
        "}\n",
        "\n",
        "for year in yearlist.value:\n",
        "  print( \"Counting for {}...\".format( year ) )\n",
        "  for cmsID in data[ year ]:\n",
        "    if data[ year ][ cmsID ][ \"AUTHOR\" ] in author_legend[ author.value ] and data[ year ][ cmsID ][ \"STATUS\" ] in status.value:\n",
        "      for region in regions.value:\n",
        "        if data[ year ][ cmsID ][ \"REGION\" ] == region:\n",
        "          if data[ year ][ cmsID ][ \"GENDER\" ] == \"M\": count_region[ year ][ \"MALE\" ][ region ] += 1\n",
        "          elif data[ year ][ cmsID ][ \"GENDER\" ] == \"F\": count_region[ year ][ \"FEMALE\" ][ region ] += 1\n",
        "          count_region[ year ][ \"TOTAL\" ][ region ] += 1\n",
        "      if data[ year ][ cmsID ][ \"GENDER\" ] == \"M\": count_cms[ year ][ \"MALE\" ] += 1\n",
        "      elif data[ year ][ cmsID ][ \"GENDER\" ] == \"F\": count_cms[ year ][ \"FEMALE\" ] += 1\n",
        "      count_cms[ year ][ \"TOTAL\" ] += 1\n",
        "\n",
        "  for region in regions.value:\n",
        "    if count_region[ year ][ \"TOTAL\" ][ region ] > 0:\n",
        "      count_region[ year ][ \"FRACTION_F\" ][ region ] = float( count_region[ year ][ \"FEMALE\"][ region ] ) / float( count_region[ year ][ \"TOTAL\"][ region ] )\n",
        "      count_region[ year ][ \"FRACTION_M\" ][ region ] = float( count_region[ year ][ \"MALE\"][ region ] ) / float( count_region[ year ][ \"TOTAL\"][ region ] )\n",
        "    else:\n",
        "      print( \">> {} has no entries\".format( region ) )\n",
        "\n",
        "  count_cms[ year ][ \"FRACTION_F\" ] = float( count_cms[ year ][ \"FEMALE\" ] ) / float( count_cms[ year ][ \"TOTAL\" ] )\n",
        "  count_cms[ year ][ \"FRACTION_M\" ] = float( count_cms[ year ][ \"MALE\" ] ) / float(  count_cms[ year ][ \"TOTAL\" ] )\n",
        "  print( \"[OK] Male: {} / Female: {} / Total: {}\".format( \n",
        "      count_cms[ year ][ \"MALE\" ], count_cms[ year ][ \"FEMALE\" ], count_cms[ year ][ \"TOTAL\" ]\n",
        "  ) )"
      ],
      "execution_count": 45,
      "outputs": [
        {
          "output_type": "stream",
          "text": [
            "Counting for 2015...\n",
            "[OK] Male: 4188 / Female: 908 / Total: 5098\n",
            "Counting for 2016...\n",
            "[OK] Male: 4308 / Female: 979 / Total: 5288\n",
            "Counting for 2017...\n",
            "[OK] Male: 4397 / Female: 1026 / Total: 5424\n",
            "Counting for 2018...\n",
            "[OK] Male: 4519 / Female: 1081 / Total: 5601\n",
            "Counting for 2019...\n",
            "[OK] Male: 4504 / Female: 1113 / Total: 5618\n",
            "Counting for 2020...\n",
            "[OK] Male: 4328 / Female: 1080 / Total: 5409\n"
          ],
          "name": "stdout"
        }
      ]
    },
    {
      "cell_type": "code",
      "metadata": {
        "colab": {
          "base_uri": "https://localhost:8080/",
          "height": 701
        },
        "id": "9U_ETnK4kmcd",
        "cellView": "form",
        "outputId": "506d138b-3756-486f-9443-ae5f7a0df770"
      },
      "source": [
        "#@markdown ### Plot the Gender Counts by Region per Year\n",
        "\n",
        "width = 0.8 / len( yearlist.value )\n",
        "x = np.arange( len( regions.value ) )\n",
        "\n",
        "plt.figure( figsize = (1.5 * len(x) , 10) )\n",
        "ax = plt.subplot(111)\n",
        "\n",
        "for i, year in enumerate( list( yearlist.value ) ):\n",
        "    ax.bar( x + width * i, list( count_region[ year ][ \"FEMALE\" ].values() )[-len(x):], width,\n",
        "           color = \"lightgreen\", zorder=3 )\n",
        "    ax.bar( x + width * i, list( count_region[ year ][ \"MALE\" ].values() )[-len(x):], width,\n",
        "           bottom = list( count_region[ year ][ \"FEMALE\" ].values() )[-len(x):],\n",
        "           color = \"dodgerblue\", zorder=3 )\n",
        "\n",
        "    \n",
        "ax.set_title( \"Yearly CMS {} Gender Counts by Region from {} to {}\".format( \n",
        "    author.value, yearlist.value[0], yearlist.value[-1]\n",
        " ), fontsize = 20 )\n",
        "ax.set_ylabel( \"Count\", y = 1.0, ha = \"right\", fontsize = 14 )\n",
        "ax.set_xticks( x )\n",
        "ax.set_xticklabels( regions.value[-len(x):], fontsize = 14, rotation = 45 )\n",
        "\n",
        "custom_legend = [\n",
        "  Line2D( [0], [0], color = \"lightgreen\", lw = 5 ),\n",
        "  Line2D( [0], [0], color = \"dodgerblue\", lw = 5 )\n",
        "]\n",
        "ax.legend( custom_legend, [ \"Women\", \"Men\" ], loc = 2 )\n",
        "\n",
        "ax.set_facecolor(\"white\")\n",
        "ax.grid( b=True, which=\"major\", axis=\"y\", color = [0.7,0.7,0.7], \n",
        "        linestyle = \":\", linewidth = 1, zorder=0)\n",
        "\n",
        "if not os.path.exists( os.getcwd() + \"/Plots/ \") != True: os.makedirs( os.getcwd() + \"/Plots/\" )\n",
        "plt.savefig( \"./Plots/Gender by Region {} {}-{}.png\".format( author.value, yearlist.value[0], yearlist.value[-1] ) )\n",
        "plt.show()"
      ],
      "execution_count": 46,
      "outputs": [
        {
          "output_type": "display_data",
          "data": {
            "image/png": "[encoded data removed]",
            "text/plain": [
              "<Figure size 1296x720 with 1 Axes>"
            ]
          },
          "metadata": {
            "tags": [],
            "needs_background": "light"
          }
        }
      ]
    },
    {
      "cell_type": "code",
      "metadata": {
        "colab": {
          "base_uri": "https://localhost:8080/",
          "height": 701
        },
        "id": "57ueIxS6lBRd",
        "cellView": "form",
        "outputId": "7f54d97d-a3e4-41c5-8ef4-454b262fe078"
      },
      "source": [
        "#@markdown ### Plot the Gender Counts by Region per Year\n",
        "\n",
        "width = 0.8 / len( yearlist.value )\n",
        "x = np.arange( len( regions.value ) + 1 )\n",
        "\n",
        "plt.figure( figsize = (1.5 * len(x) , 10) )\n",
        "ax = plt.subplot(111)\n",
        "\n",
        "cmap = plt.get_cmap(\"Paired\")\n",
        "\n",
        "for i, year in enumerate( list( yearlist.value ) ):\n",
        "  count_region[ year ][ \"FRACTION_F\" ][ \"CMS\" ] = count_cms[ year ][ \"FRACTION_F\" ]\n",
        "  ax.bar( x + width * i, list( count_region[ year ][ \"FRACTION_F\" ].values() )[-len(x):], width,\n",
        "      color = cmap.colors[i], zorder=3, label = year )\n",
        "    \n",
        "ax.set_title( \"Yearly CMS {} Female Ratio by Region from {} to {}\".format( \n",
        "    author.value, yearlist.value[0], yearlist.value[-1]\n",
        " ), fontsize = 20 )\n",
        "ax.set_ylabel( \"Ratio\", y = 1.0, ha = \"right\", fontsize = 14 )\n",
        "ax.set_ylim( 0, 0.4 )\n",
        "ax.set_xticks( x )\n",
        "ax.set_xticklabels( list( regions.value[-len(x):] ) + [ \"CMS\" ], fontsize = 14, rotation = 45 )\n",
        "ax.legend( loc = 2 )\n",
        "\n",
        "ax.set_facecolor(\"white\")\n",
        "ax.grid( b=True, which=\"major\", axis=\"y\", color = [0.7,0.7,0.7], \n",
        "        linestyle = \":\", linewidth = 1, zorder=0)\n",
        "\n",
        "if not os.path.exists( os.getcwd() + \"/Plots/ \") != True: os.makedirs( os.getcwd() + \"/Plots/\" )\n",
        "plt.savefig( \"./Plots/Gender Ratio by Region {} {}-{}.png\".format( author.value, yearlist.value[0], yearlist.value[-1] ) )\n",
        "plt.show()"
      ],
      "execution_count": 47,
      "outputs": [
        {
          "output_type": "display_data",
          "data": {
            "image/png": "[encoded data removed]",
            "text/plain": [
              "<Figure size 1404x720 with 1 Axes>"
            ]
          },
          "metadata": {
            "tags": [],
            "needs_background": "light"
          }
        }
      ]
    }
  ]
}