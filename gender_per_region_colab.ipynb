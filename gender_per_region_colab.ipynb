{
  "nbformat": 4,
  "nbformat_minor": 0,
  "metadata": {
    "colab": {
      "name": "gender_per_region_colab.ipynb",
      "provenance": []
    },
    "kernelspec": {
      "name": "python3",
      "display_name": "Python 3"
    },
    "language_info": {
      "name": "python"
    },
    "widgets": {
      "application/vnd.jupyter.widget-state+json": {
        "c221bd56862740569315422315f712e2": {
          "model_module": "@jupyter-widgets/controls",
          "model_name": "SelectMultipleModel",
          "state": {
            "_options_labels": [
              "2015",
              "2016",
              "2017",
              "2018",
              "2019",
              "2020"
            ],
            "_view_name": "SelectMultipleView",
            "style": "IPY_MODEL_f0be0138ff734121aac58db377093caf",
            "rows": 5,
            "_dom_classes": [],
            "description": "",
            "_model_name": "SelectMultipleModel",
            "index": [
              0,
              1,
              2,
              3,
              4,
              5
            ],
            "_view_module": "@jupyter-widgets/controls",
            "_model_module_version": "1.5.0",
            "_view_count": null,
            "disabled": false,
            "_view_module_version": "1.5.0",
            "description_tooltip": null,
            "_model_module": "@jupyter-widgets/controls",
            "layout": "IPY_MODEL_14c3d9db85824c8688f9d989f7a8b096"
          }
        },
        "f0be0138ff734121aac58db377093caf": {
          "model_module": "@jupyter-widgets/controls",
          "model_name": "DescriptionStyleModel",
          "state": {
            "_view_name": "StyleView",
            "_model_name": "DescriptionStyleModel",
            "description_width": "",
            "_view_module": "@jupyter-widgets/base",
            "_model_module_version": "1.5.0",
            "_view_count": null,
            "_view_module_version": "1.2.0",
            "_model_module": "@jupyter-widgets/controls"
          }
        },
        "14c3d9db85824c8688f9d989f7a8b096": {
          "model_module": "@jupyter-widgets/base",
          "model_name": "LayoutModel",
          "state": {
            "_view_name": "LayoutView",
            "grid_template_rows": null,
            "right": null,
            "justify_content": null,
            "_view_module": "@jupyter-widgets/base",
            "overflow": null,
            "_model_module_version": "1.2.0",
            "_view_count": null,
            "flex_flow": null,
            "width": null,
            "min_width": null,
            "border": null,
            "align_items": null,
            "bottom": null,
            "_model_module": "@jupyter-widgets/base",
            "top": null,
            "grid_column": null,
            "overflow_y": null,
            "overflow_x": null,
            "grid_auto_flow": null,
            "grid_area": null,
            "grid_template_columns": null,
            "flex": null,
            "_model_name": "LayoutModel",
            "justify_items": null,
            "grid_row": null,
            "max_height": null,
            "align_content": null,
            "visibility": null,
            "align_self": null,
            "height": null,
            "min_height": null,
            "padding": null,
            "grid_auto_rows": null,
            "grid_gap": null,
            "max_width": null,
            "order": null,
            "_view_module_version": "1.2.0",
            "grid_template_areas": null,
            "object_position": null,
            "object_fit": null,
            "grid_auto_columns": null,
            "margin": null,
            "display": null,
            "left": null
          }
        },
        "62e4070573634862a0bdaf63d7830241": {
          "model_module": "@jupyter-widgets/controls",
          "model_name": "SelectMultipleModel",
          "state": {
            "_options_labels": [
              "CERN",
              "CMS",
              "CMS iCMSfor9981_01/01/2019-Author:True",
              "CMSAFFILIATE",
              "CMSASSOC",
              "CMSEMERITUS",
              "CMSEXTENDED",
              "CMSVO",
              "DECEASED",
              "EXMEMBER",
              "NOSHOW",
              "NOTCMS",
              "NOTNAME",
              "RELATED"
            ],
            "_view_name": "SelectMultipleView",
            "style": "IPY_MODEL_fd233b519d4d42db8aa2f8aa1e9f5302",
            "rows": 5,
            "_dom_classes": [],
            "description": "",
            "_model_name": "SelectMultipleModel",
            "index": [
              1,
              3,
              4,
              5,
              6
            ],
            "_view_module": "@jupyter-widgets/controls",
            "_model_module_version": "1.5.0",
            "_view_count": null,
            "disabled": false,
            "_view_module_version": "1.5.0",
            "description_tooltip": null,
            "_model_module": "@jupyter-widgets/controls",
            "layout": "IPY_MODEL_ed4d53d0b84e4b7fba5875f2bcc346e8"
          }
        },
        "fd233b519d4d42db8aa2f8aa1e9f5302": {
          "model_module": "@jupyter-widgets/controls",
          "model_name": "DescriptionStyleModel",
          "state": {
            "_view_name": "StyleView",
            "_model_name": "DescriptionStyleModel",
            "description_width": "",
            "_view_module": "@jupyter-widgets/base",
            "_model_module_version": "1.5.0",
            "_view_count": null,
            "_view_module_version": "1.2.0",
            "_model_module": "@jupyter-widgets/controls"
          }
        },
        "ed4d53d0b84e4b7fba5875f2bcc346e8": {
          "model_module": "@jupyter-widgets/base",
          "model_name": "LayoutModel",
          "state": {
            "_view_name": "LayoutView",
            "grid_template_rows": null,
            "right": null,
            "justify_content": null,
            "_view_module": "@jupyter-widgets/base",
            "overflow": null,
            "_model_module_version": "1.2.0",
            "_view_count": null,
            "flex_flow": null,
            "width": null,
            "min_width": null,
            "border": null,
            "align_items": null,
            "bottom": null,
            "_model_module": "@jupyter-widgets/base",
            "top": null,
            "grid_column": null,
            "overflow_y": null,
            "overflow_x": null,
            "grid_auto_flow": null,
            "grid_area": null,
            "grid_template_columns": null,
            "flex": null,
            "_model_name": "LayoutModel",
            "justify_items": null,
            "grid_row": null,
            "max_height": null,
            "align_content": null,
            "visibility": null,
            "align_self": null,
            "height": null,
            "min_height": null,
            "padding": null,
            "grid_auto_rows": null,
            "grid_gap": null,
            "max_width": null,
            "order": null,
            "_view_module_version": "1.2.0",
            "grid_template_areas": null,
            "object_position": null,
            "object_fit": null,
            "grid_auto_columns": null,
            "margin": null,
            "display": null,
            "left": null
          }
        },
        "17635caadfee4fd8a57a65bddd221f5e": {
          "model_module": "@jupyter-widgets/controls",
          "model_name": "SelectModel",
          "state": {
            "_options_labels": [
              "AUTHORS",
              "ALL MEMBERS",
              "NON-AUTHORS",
              "REPORTED MEMBERS",
              "UNREPORTED MEMBERS",
              "AUTHORS and UNREPORTED",
              "NON-AUTHORS and UNREPORTED"
            ],
            "_view_name": "SelectView",
            "style": "IPY_MODEL_da6368fe4f9547b888a9e406df74f279",
            "rows": 5,
            "_dom_classes": [],
            "description": "",
            "_model_name": "SelectModel",
            "index": 1,
            "_view_module": "@jupyter-widgets/controls",
            "_model_module_version": "1.5.0",
            "_view_count": null,
            "disabled": false,
            "_view_module_version": "1.5.0",
            "description_tooltip": null,
            "_model_module": "@jupyter-widgets/controls",
            "layout": "IPY_MODEL_92d525792047456a9beb3b9189a5e423"
          }
        },
        "da6368fe4f9547b888a9e406df74f279": {
          "model_module": "@jupyter-widgets/controls",
          "model_name": "DescriptionStyleModel",
          "state": {
            "_view_name": "StyleView",
            "_model_name": "DescriptionStyleModel",
            "description_width": "",
            "_view_module": "@jupyter-widgets/base",
            "_model_module_version": "1.5.0",
            "_view_count": null,
            "_view_module_version": "1.2.0",
            "_model_module": "@jupyter-widgets/controls"
          }
        },
        "92d525792047456a9beb3b9189a5e423": {
          "model_module": "@jupyter-widgets/base",
          "model_name": "LayoutModel",
          "state": {
            "_view_name": "LayoutView",
            "grid_template_rows": null,
            "right": null,
            "justify_content": null,
            "_view_module": "@jupyter-widgets/base",
            "overflow": null,
            "_model_module_version": "1.2.0",
            "_view_count": null,
            "flex_flow": null,
            "width": null,
            "min_width": null,
            "border": null,
            "align_items": null,
            "bottom": null,
            "_model_module": "@jupyter-widgets/base",
            "top": null,
            "grid_column": null,
            "overflow_y": null,
            "overflow_x": null,
            "grid_auto_flow": null,
            "grid_area": null,
            "grid_template_columns": null,
            "flex": null,
            "_model_name": "LayoutModel",
            "justify_items": null,
            "grid_row": null,
            "max_height": null,
            "align_content": null,
            "visibility": null,
            "align_self": null,
            "height": null,
            "min_height": null,
            "padding": null,
            "grid_auto_rows": null,
            "grid_gap": null,
            "max_width": null,
            "order": null,
            "_view_module_version": "1.2.0",
            "grid_template_areas": null,
            "object_position": null,
            "object_fit": null,
            "grid_auto_columns": null,
            "margin": null,
            "display": null,
            "left": null
          }
        },
        "bc7073b68fc04e53920446862a423018": {
          "model_module": "@jupyter-widgets/controls",
          "model_name": "SelectMultipleModel",
          "state": {
            "_options_labels": [
              "FRANCE",
              "GERMANY",
              "ITALY",
              "SWITZERLAND",
              "UNITED KINGDOM",
              "USCMS",
              "CERN",
              "RDMS",
              "CERN OTHER",
              "OTHER A",
              "OTHER B",
              "OTHER C"
            ],
            "_view_name": "SelectMultipleView",
            "style": "IPY_MODEL_21e3055197b14c17a9ab803c998245ce",
            "rows": 5,
            "_dom_classes": [],
            "description": "",
            "_model_name": "SelectMultipleModel",
            "index": [
              0,
              1,
              2,
              3,
              4,
              5,
              6,
              7,
              8,
              9,
              10,
              11
            ],
            "_view_module": "@jupyter-widgets/controls",
            "_model_module_version": "1.5.0",
            "_view_count": null,
            "disabled": false,
            "_view_module_version": "1.5.0",
            "description_tooltip": null,
            "_model_module": "@jupyter-widgets/controls",
            "layout": "IPY_MODEL_4cdfc0462b0b48fdaefa9be6c20d115a"
          }
        },
        "21e3055197b14c17a9ab803c998245ce": {
          "model_module": "@jupyter-widgets/controls",
          "model_name": "DescriptionStyleModel",
          "state": {
            "_view_name": "StyleView",
            "_model_name": "DescriptionStyleModel",
            "description_width": "",
            "_view_module": "@jupyter-widgets/base",
            "_model_module_version": "1.5.0",
            "_view_count": null,
            "_view_module_version": "1.2.0",
            "_model_module": "@jupyter-widgets/controls"
          }
        },
        "4cdfc0462b0b48fdaefa9be6c20d115a": {
          "model_module": "@jupyter-widgets/base",
          "model_name": "LayoutModel",
          "state": {
            "_view_name": "LayoutView",
            "grid_template_rows": null,
            "right": null,
            "justify_content": null,
            "_view_module": "@jupyter-widgets/base",
            "overflow": null,
            "_model_module_version": "1.2.0",
            "_view_count": null,
            "flex_flow": null,
            "width": null,
            "min_width": null,
            "border": null,
            "align_items": null,
            "bottom": null,
            "_model_module": "@jupyter-widgets/base",
            "top": null,
            "grid_column": null,
            "overflow_y": null,
            "overflow_x": null,
            "grid_auto_flow": null,
            "grid_area": null,
            "grid_template_columns": null,
            "flex": null,
            "_model_name": "LayoutModel",
            "justify_items": null,
            "grid_row": null,
            "max_height": null,
            "align_content": null,
            "visibility": null,
            "align_self": null,
            "height": null,
            "min_height": null,
            "padding": null,
            "grid_auto_rows": null,
            "grid_gap": null,
            "max_width": null,
            "order": null,
            "_view_module_version": "1.2.0",
            "grid_template_areas": null,
            "object_position": null,
            "object_fit": null,
            "grid_auto_columns": null,
            "margin": null,
            "display": null,
            "left": null
          }
        }
      }
    }
  },
  "cells": [
    {
      "cell_type": "code",
      "metadata": {
        "colab": {
          "base_uri": "https://localhost:8080/"
        },
        "cellView": "form",
        "id": "yB87sZhuWUQS",
        "outputId": "1525402e-fbb6-4882-d536-8aea0b0b847b"
      },
      "source": [
        "#@markdown #USCMS Diveristy Data: Gender Count per Region\n",
        "#@markdown Count gender per region for various years\n",
        "\n",
        "#@markdown ### Import `python` libraries\n",
        "\n",
        "import os, json\n",
        "import numpy as np\n",
        "import pandas as pd\n",
        "from scipy import stats\n",
        "import matplotlib.pyplot as plt\n",
        "from matplotlib.colors import ListedColormap\n",
        "from matplotlib.lines import Line2D\n",
        "import ipywidgets as widgets\n",
        "\n",
        "from google.colab import drive\n",
        "drive.mount( '/content/drive' )\n",
        "\n",
        "%cd /content/drive/My Drive/Physics Research/CMS/Analysis/USCMS-diversity-analysis-main/"
      ],
      "execution_count": 72,
      "outputs": [
        {
          "output_type": "stream",
          "text": [
            "Drive already mounted at /content/drive; to attempt to forcibly remount, call drive.mount(\"/content/drive\", force_remount=True).\n",
            "/content/drive/My Drive/Physics Research/CMS/Analysis/USCMS-diversity-analysis-main\n"
          ],
          "name": "stdout"
        }
      ]
    },
    {
      "cell_type": "code",
      "metadata": {
        "colab": {
          "base_uri": "https://localhost:8080/",
          "height": 111,
          "referenced_widgets": [
            "c221bd56862740569315422315f712e2",
            "f0be0138ff734121aac58db377093caf",
            "14c3d9db85824c8688f9d989f7a8b096"
          ]
        },
        "cellView": "form",
        "id": "EtPtVGyWWzlI",
        "outputId": "d38b499e-9ed8-4e69-c15a-0e799fd417e3"
      },
      "source": [
        "#@markdown ### Select and Load in the Relevant `json` Files\n",
        "#@markdown Choose the years to consolidate\n",
        "people_stats = [ option for option in os.listdir( \"./Data/\" ) if \"people_stats\" in option ]\n",
        "work = [ option for option in os.listdir( \"./Data/\" ) if \"work\" in option ]\n",
        "people_stats_years = [ name.split(\".\")[0].split(\"_\")[2][:4] for name in people_stats ]\n",
        "work_years = [ name.split(\".\")[0].split(\"_\")[1][:4] for name in work ]\n",
        "valid_years = list( set(people_stats_years).intersection(work_years) )\n",
        "yearlist = widgets.SelectMultiple( options = sorted(valid_years) )\n",
        "yearlist"
      ],
      "execution_count": 2,
      "outputs": [
        {
          "output_type": "display_data",
          "data": {
            "application/vnd.jupyter.widget-view+json": {
              "model_id": "c221bd56862740569315422315f712e2",
              "version_minor": 0,
              "version_major": 2
            },
            "text/plain": [
              "SelectMultiple(options=('2015', '2016', '2017', '2018', '2019', '2020'), value=())"
            ]
          },
          "metadata": {
            "tags": []
          }
        }
      ]
    },
    {
      "cell_type": "code",
      "metadata": {
        "colab": {
          "base_uri": "https://localhost:8080/"
        },
        "cellView": "form",
        "id": "sJKvF0ygW3V9",
        "outputId": "11b0c1ef-10d5-426e-dd53-f4b4a0199a42"
      },
      "source": [
        "#@markdown Load in the `json` files\n",
        "region_key = {\n",
        "    \"FRANCE\": [\"FRANCE\"],\n",
        "    \"GERMANY\": [\"GERMANY\"],\n",
        "    \"ITALY\": [\"ITALY\"],\n",
        "    \"SWITZERLAND\": [\"SWITZERLAND\"],\n",
        "    \"UNITED KINGDOM\": [\"UNITED KINGDOM\"],\n",
        "    \"USCMS\": [\"USA\"],\n",
        "    \"CERN\":[\"CERN\",\"CERN-BASED\"],\n",
        "    \"RDMS\":[\"RUSSIA\",\"ARMENIA\",\"BELARUS\",\"GEORGIA\",\"UZBEKISTAN\"],\n",
        "    \"CERN OTHER\":[\"AUSTRIA\",\"BELGIUM\",\"BULGARIA\",\"FINLAND\",\"GREECE\",\"HUNGARY\",\"POLAND\",\"PORTUGAL\",\"SERBIA\",\"SPAIN\"],\n",
        "    \"OTHER A\":[\"CHINA\",\"INDIA\",\"IRAN\",\"KOREA\",\"MALAYSIA\",\"NEW ZEALAND\",\"PAKISTAN\",\"SRI LANKA\",\"TAIWAN\",\"THAILAND\"],\n",
        "    \"OTHER B\":[\"BAHRAIN\",\"BRAZIL\",\"COLOMBIA\",\"CROATIA\",\"CYPRUS\",\"ECUADOR\",\"EGYPT\",\"ESTONIA\",\"IRELAND\",\"KUWAIT\",\"LEBANON\",\"LATVIA\",\"LITHUANIA\",\"MEXICO\",\"MONTENEGRO\",\"OMAN\",\"QATAR\",\"SAUDI ARABIA\",\"TURKEY\",\"UKRAINE\"],\n",
        "    \"OTHER C\":[]\n",
        "}\n",
        "\n",
        "json_files = {\n",
        "    \"people_new\": json.load( open( \"Data/people_new.json\" ) ),\n",
        "    \"institutes_new\": json.load( open( \"Data/institutes_new.json\" ) ),\n",
        "    \"people_stats\": { year: json.load( open( \"Data/people_stats_{}1231.json\".format( year ) ) ) for year in yearlist.value }\n",
        "}\n",
        "\n",
        "institute_list = np.array( [ list( institute.values() ) for institute in json_files[ \"institutes_new\" ] ] )\n",
        "\n",
        "id_info = {}\n",
        "for person in json_files[ \"people_new\" ]:\n",
        "  id_info[ str( person[ \"cmsId\" ] ) ] = { \n",
        "    \"BIRTHYEAR\": person[ \"birthYear\" ],\n",
        "    \"GENDER\": person[ \"gender\" ]   \n",
        "  }\n",
        "\n",
        "data = {\n",
        "    year: {} for year in yearlist.value\n",
        "}\n",
        "\n",
        "for year in yearlist.value:\n",
        "  for person in json_files[ \"people_stats\" ][ year ]:\n",
        "    data[ year ][ str( person[ \"cms_id\" ] ) ] = {\n",
        "        \"ACTIVITY\": person[ \"activity_cms\" ],\n",
        "        \"INSTITUTE\": person[ \"inst_code\" ],\n",
        "        \"AUTHOR\": person[ \"is_author\" ],\n",
        "        \"STATUS\": person[ \"status_cms\" ],\n",
        "        \"GENDER\": id_info[ str( person[ \"cms_id\" ] ) ][ \"GENDER\" ],\n",
        "        \"BIRTHYEAR\": id_info[ str( person[ \"cms_id\" ] ) ][ \"GENDER\" ]\n",
        "    }\n",
        "\n",
        "  print( \"Adding regions for {}\".format( year ) )\n",
        "  for cms_id in data[ year ]:\n",
        "    this_index = np.argwhere( institute_list[:,0] == data[ year ][ cms_id ][ \"INSTITUTE\" ] )[0,0]\n",
        "    this_country = institute_list[ this_index, 1 ].upper()\n",
        "    if data[ year ][ cms_id ][ \"INSTITUTE\" ].upper() in [ \"CERN\", \"CERN-BASED\" ]:\n",
        "      this_country = \"CERN\"\n",
        "    has_region = False\n",
        "    for region in region_key.keys():\n",
        "      if this_country in region_key[ region ]:\n",
        "        data[ year ][ cms_id ][ \"REGION\" ] = region\n",
        "        has_region = True\n",
        "        continue\n",
        "    if has_region == False:\n",
        "      data[ year ][ cms_id ][ \"REGION\" ] = \"OTHER C\"\n",
        "      if this_country not in region_key[\"OTHER C\"]: \n",
        "        print( \">> Adding {} to Other C\".format( this_country ) )\n",
        "        region_key[\"OTHER C\"].append( this_country )"
      ],
      "execution_count": 65,
      "outputs": [
        {
          "output_type": "stream",
          "text": [
            "Adding regions for 2015\n",
            ">> Adding ZZ to Other C\n",
            ">> Adding SINGAPORE to Other C\n",
            ">> Adding SLOVAK REPUBLIC to Other C\n",
            ">> Adding CZECH REPUBLIC to Other C\n",
            ">> Adding NETHERLANDS to Other C\n",
            ">> Adding CANADA to Other C\n",
            ">> Adding PHILIPPINES to Other C\n",
            ">> Adding ROMANIA to Other C\n",
            ">> Adding JAPAN to Other C\n",
            ">> Adding NORWAY to Other C\n",
            ">> Adding TUNISIA to Other C\n",
            "Adding regions for 2016\n",
            "Adding regions for 2017\n",
            "Adding regions for 2018\n",
            "Adding regions for 2019\n",
            "Adding regions for 2020\n",
            ">> Adding JORDAN to Other C\n"
          ],
          "name": "stdout"
        }
      ]
    },
    {
      "cell_type": "code",
      "metadata": {
        "colab": {
          "base_uri": "https://localhost:8080/",
          "height": 111,
          "referenced_widgets": [
            "62e4070573634862a0bdaf63d7830241",
            "fd233b519d4d42db8aa2f8aa1e9f5302",
            "ed4d53d0b84e4b7fba5875f2bcc346e8"
          ]
        },
        "cellView": "form",
        "id": "jZ5OhIGjW_Ps",
        "outputId": "b96bfbd7-f76e-4e1a-e2f3-9c9eb018ec55"
      },
      "source": [
        "#@markdown Choose a CMS Status to report\n",
        "\n",
        "status_options = []\n",
        "\n",
        "for year in yearlist.value:\n",
        "  for person in json_files[ \"people_stats\" ][ year ]:\n",
        "    if person[ \"status_cms\" ] not in status_options:\n",
        "      if person[ \"status_cms\" ] != None and person[ \"status_cms\" ] != \"\":\n",
        "        status_options.append( person[ \"status_cms\" ] )\n",
        "\n",
        "status = widgets.SelectMultiple( options = sorted( status_options ), value = [ \"CMS\", \"CMSAFFILIATE\", \"CMSASSOC\", \"CMSEMERITUS\", \"CMSEXTENDED\" ] )\n",
        "status"
      ],
      "execution_count": 30,
      "outputs": [
        {
          "output_type": "display_data",
          "data": {
            "application/vnd.jupyter.widget-view+json": {
              "model_id": "62e4070573634862a0bdaf63d7830241",
              "version_minor": 0,
              "version_major": 2
            },
            "text/plain": [
              "SelectMultiple(index=(1, 3, 4, 5, 6), options=('CERN', 'CMS', 'CMS iCMSfor9981_01/01/2019-Author:True', 'CMSAF…"
            ]
          },
          "metadata": {
            "tags": []
          }
        }
      ]
    },
    {
      "cell_type": "code",
      "metadata": {
        "colab": {
          "base_uri": "https://localhost:8080/",
          "height": 111,
          "referenced_widgets": [
            "17635caadfee4fd8a57a65bddd221f5e",
            "da6368fe4f9547b888a9e406df74f279",
            "92d525792047456a9beb3b9189a5e423"
          ]
        },
        "cellView": "form",
        "id": "wVKWwM7uYbtx",
        "outputId": "4b57945d-8d62-4c6c-bdf9-65a0f8409e50"
      },
      "source": [
        "#@markdown Select authorship status to report:\n",
        "author_legend = {\n",
        "    \"AUTHORS\": [ True ],\n",
        "    \"ALL MEMBERS\": [ True, False, None ],\n",
        "    \"NON-AUTHORS\": [ False ],\n",
        "    \"REPORTED MEMBERS\": [ True, False ],\n",
        "    \"UNREPORTED MEMBERS\": [ None ],\n",
        "    \"AUTHORS and UNREPORTED\": [ True, None ],\n",
        "    \"NON-AUTHORS and UNREPORTED\": [ False, None ]\n",
        "}\n",
        "author = widgets.Select( options = author_legend.keys(), value = \"AUTHORS\" )\n",
        "author"
      ],
      "execution_count": 31,
      "outputs": [
        {
          "output_type": "display_data",
          "data": {
            "application/vnd.jupyter.widget-view+json": {
              "model_id": "17635caadfee4fd8a57a65bddd221f5e",
              "version_minor": 0,
              "version_major": 2
            },
            "text/plain": [
              "Select(options=('AUTHORS', 'ALL MEMBERS', 'NON-AUTHORS', 'REPORTED MEMBERS', 'UNREPORTED MEMBERS', 'AUTHORS an…"
            ]
          },
          "metadata": {
            "tags": []
          }
        }
      ]
    },
    {
      "cell_type": "code",
      "metadata": {
        "colab": {
          "base_uri": "https://localhost:8080/",
          "height": 111,
          "referenced_widgets": [
            "bc7073b68fc04e53920446862a423018",
            "21e3055197b14c17a9ab803c998245ce",
            "4cdfc0462b0b48fdaefa9be6c20d115a"
          ]
        },
        "cellView": "form",
        "id": "_yG-e5lYaIEM",
        "outputId": "1092e5c4-a28d-4e3d-bb09-339a7efa4d82"
      },
      "source": [
        "#@markdown Select regions to report\n",
        "regions = widgets.SelectMultiple( options = region_key.keys() )\n",
        "regions "
      ],
      "execution_count": 32,
      "outputs": [
        {
          "output_type": "display_data",
          "data": {
            "application/vnd.jupyter.widget-view+json": {
              "model_id": "bc7073b68fc04e53920446862a423018",
              "version_minor": 0,
              "version_major": 2
            },
            "text/plain": [
              "SelectMultiple(options=('FRANCE', 'GERMANY', 'ITALY', 'SWITZERLAND', 'UNITED KINGDOM', 'USCMS', 'CERN', 'RDMS'…"
            ]
          },
          "metadata": {
            "tags": []
          }
        }
      ]
    },
    {
      "cell_type": "code",
      "metadata": {
        "colab": {
          "base_uri": "https://localhost:8080/"
        },
        "cellView": "form",
        "id": "_F40ogOGaLq7",
        "outputId": "4041d232-d8fc-4240-87eb-f1c2e5d9cd19"
      },
      "source": [
        "#@markdown Count the genders for each region\n",
        "\n",
        "count_region = {\n",
        "    year: {\n",
        "        category: {\n",
        "            region: 0 for region in regions.value\n",
        "        } for category in [ \"MALE\", \"FEMALE\", \"TOTAL\", \"FRACTION_F\", \"FRACTION_M\" ]\n",
        "    } for year in yearlist.value\n",
        "}\n",
        "\n",
        "count_cms = {\n",
        "    year: {\n",
        "        category: 0 for category in [ \"MALE\", \"FEMALE\", \"TOTAL\", \"FRACTION_F\", \"FRACTION_M\" ]\n",
        "    } for year in yearlist.value\n",
        "}\n",
        "\n",
        "for year in yearlist.value:\n",
        "  print( \"Counting for {}...\".format( year ) )\n",
        "  for cmsID in data[ year ]:\n",
        "    if data[ year ][ cmsID ][ \"AUTHOR\" ] in author_legend[ author.value ]:\n",
        "      for region in regions.value:\n",
        "        if data[ year ][ cmsID ][ \"REGION\" ] == region:\n",
        "          if data[ year ][ cmsID ][ \"GENDER\" ] == \"M\": count_region[ year ][ \"MALE\" ][ region ] += 1\n",
        "          elif data[ year ][ cmsID ][ \"GENDER\" ] == \"F\": count_region[ year ][ \"FEMALE\" ][ region ] += 1\n",
        "          count_region[ year ][ \"TOTAL\" ][ region ] += 1\n",
        "      if data[ year ][ cmsID ][ \"GENDER\" ] == \"M\": count_cms[ year ][ \"MALE\" ] += 1\n",
        "      elif data[ year ][ cmsID ][ \"GENDER\" ] == \"F\": count_cms[ year ][ \"FEMALE\" ] += 1\n",
        "      count_cms[ year ][ \"TOTAL\" ] += 1\n",
        "\n",
        "  for region in regions.value:\n",
        "    if count_region[ year ][ \"TOTAL\" ][ region ] > 0:\n",
        "      count_region[ year ][ \"FRACTION_F\" ][ region ] = float( count_region[ year ][ \"FEMALE\"][ region ] ) / float( count_region[ year ][ \"TOTAL\"][ region ] )\n",
        "      count_region[ year ][ \"FRACTION_M\" ][ region ] = float( count_region[ year ][ \"MALE\"][ region ] ) / float( count_region[ year ][ \"TOTAL\"][ region ] )\n",
        "    else:\n",
        "      print( \">> {} has no entries\".format( region ) )\n",
        "\n",
        "  count_cms[ year ][ \"FRACTION_F\" ] = float( count_cms[ year ][ \"FEMALE\" ] ) / float( count_cms[ year ][ \"TOTAL\" ] )\n",
        "  count_cms[ year ][ \"FRACTION_M\" ] = float( count_cms[ year ][ \"MALE\" ] ) / float(  count_cms[ year ][ \"TOTAL\" ] )\n",
        "  print( \"[OK] Male: {} / Female: {} / Total: {}\".format( \n",
        "      count_cms[ year ][ \"MALE\" ], count_cms[ year ][ \"FEMALE\" ], count_cms[ year ][ \"TOTAL\" ]\n",
        "  ) )"
      ],
      "execution_count": 113,
      "outputs": [
        {
          "output_type": "stream",
          "text": [
            "Counting for 2015...\n",
            "[OK] Male: 8994 / Female: 1985 / Total: 11428\n",
            "Counting for 2016...\n",
            "[OK] Male: 9567 / Female: 2171 / Total: 12187\n",
            "Counting for 2017...\n",
            "[OK] Male: 10140 / Female: 2381 / Total: 12970\n",
            "Counting for 2018...\n",
            "[OK] Male: 10720 / Female: 2588 / Total: 13757\n",
            "Counting for 2019...\n",
            "[OK] Male: 11228 / Female: 2762 / Total: 14439\n",
            "Counting for 2020...\n",
            "[OK] Male: 11605 / Female: 2899 / Total: 14953\n"
          ],
          "name": "stdout"
        }
      ]
    },
    {
      "cell_type": "code",
      "metadata": {
        "colab": {
          "base_uri": "https://localhost:8080/",
          "height": 701
        },
        "cellView": "form",
        "id": "9U_ETnK4kmcd",
        "outputId": "43926e3f-8879-4c05-d5a2-6213723e9247"
      },
      "source": [
        "#@markdown ### Plot the Gender Counts by Region per Year\n",
        "\n",
        "width = 0.8 / len( yearlist.value )\n",
        "x = np.arange( len( regions.value ) )\n",
        "\n",
        "plt.figure( figsize = (1.5 * len(x) , 10) )\n",
        "ax = plt.subplot(111)\n",
        "\n",
        "for i, year in enumerate( list( yearlist.value ) ):\n",
        "    ax.bar( x + width * i, list( count_region[ year ][ \"FEMALE\" ].values() )[-len(x):], width,\n",
        "           color = \"lightgreen\", zorder=3 )\n",
        "    ax.bar( x + width * i, list( count_region[ year ][ \"MALE\" ].values() )[-len(x):], width,\n",
        "           bottom = list( count_region[ year ][ \"FEMALE\" ].values() )[-len(x):],\n",
        "           color = \"dodgerblue\", zorder=3 )\n",
        "\n",
        "    \n",
        "ax.set_title( \"Yearly CMS {} Gender Counts by Region from {} to {}\".format( \n",
        "    author.value, yearlist.value[0], yearlist.value[-1]\n",
        " ), fontsize = 20 )\n",
        "ax.set_ylabel( \"Count\", y = 1.0, ha = \"right\", fontsize = 14 )\n",
        "ax.set_xticks( x )\n",
        "ax.set_xticklabels( regions.value[-len(x):], fontsize = 14, rotation = 45 )\n",
        "\n",
        "custom_legend = [\n",
        "  Line2D( [0], [0], color = \"lightgreen\", lw = 5 ),\n",
        "  Line2D( [0], [0], color = \"dodgerblue\", lw = 5 )\n",
        "]\n",
        "ax.legend( custom_legend, [ \"Women\", \"Men\" ], loc = 2 )\n",
        "\n",
        "ax.set_facecolor(\"white\")\n",
        "ax.grid( b=True, which=\"major\", axis=\"y\", color = [0.7,0.7,0.7], \n",
        "        linestyle = \":\", linewidth = 1, zorder=0)\n",
        "plt.show()"
      ],
      "execution_count": 114,
      "outputs": [
        {
          "output_type": "display_data",
          "data": {
            "image/png": "[encoded data removed]",
            "text/plain": [
              "<Figure size 1296x720 with 1 Axes>"
            ]
          },
          "metadata": {
            "tags": [],
            "needs_background": "light"
          }
        }
      ]
    },
    {
      "cell_type": "code",
      "metadata": {
        "colab": {
          "base_uri": "https://localhost:8080/",
          "height": 701
        },
        "cellView": "form",
        "id": "57ueIxS6lBRd",
        "outputId": "810b7b35-373a-4d74-cbf2-cd599b30e0bd"
      },
      "source": [
        "#@markdown ### Plot the Gender Counts by Region per Year\n",
        "\n",
        "width = 0.8 / len( yearlist.value )\n",
        "x = np.arange( len( regions.value ) + 1 )\n",
        "\n",
        "plt.figure( figsize = (1.5 * len(x) , 10) )\n",
        "ax = plt.subplot(111)\n",
        "\n",
        "cmap = plt.get_cmap(\"Paired\")\n",
        "\n",
        "for i, year in enumerate( list( yearlist.value ) ):\n",
        "  count_region[ year ][ \"FRACTION_F\" ][ \"CMS\" ] = count_cms[ year ][ \"FRACTION_F\" ]\n",
        "  ax.bar( x + width * i, list( count_region[ year ][ \"FRACTION_F\" ].values() )[-len(x):], width,\n",
        "      color = cmap.colors[i], zorder=3, label = year )\n",
        "    \n",
        "ax.set_title( \"Yearly CMS {} Female Ratio by Region from {} to {}\".format( \n",
        "    author.value, yearlist.value[0], yearlist.value[-1]\n",
        " ), fontsize = 20 )\n",
        "ax.set_ylabel( \"Ratio\", y = 1.0, ha = \"right\", fontsize = 14 )\n",
        "ax.set_ylim( 0, 0.4 )\n",
        "ax.set_xticks( x )\n",
        "ax.set_xticklabels( list( regions.value[-len(x):] ) + [ \"CMS\" ], fontsize = 14, rotation = 45 )\n",
        "ax.legend( loc = 2 )\n",
        "\n",
        "ax.set_facecolor(\"white\")\n",
        "ax.grid( b=True, which=\"major\", axis=\"y\", color = [0.7,0.7,0.7], \n",
        "        linestyle = \":\", linewidth = 1, zorder=0)\n",
        "plt.show()"
      ],
      "execution_count": 115,
      "outputs": [
        {
          "output_type": "display_data",
          "data": {
            "image/png": "[encoded data removed]",
            "text/plain": [
              "<Figure size 1404x720 with 1 Axes>"
            ]
          },
          "metadata": {
            "tags": [],
            "needs_background": "light"
          }
        }
      ]
    }
  ]
}