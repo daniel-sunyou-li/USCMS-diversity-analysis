{
 "cells": [
  {
   "cell_type": "markdown",
   "id": "wooden-generation",
   "metadata": {},
   "source": [
    "# USCMS Diversity Data: `json` Consolidation\n",
    "Combine various `json` files (`work_*.json`,`people_stats_*.json`,`people_new.json`) together that contain information on individuals:\n",
    "* CMS ID \n",
    "* Gender\n",
    "* Institution\n",
    "* CMS Activity (Role)\n",
    "* Project\n",
    "* Author Status  \n",
    "\n",
    "### Import Pythonic Libraries"
   ]
  },
  {
   "cell_type": "code",
   "execution_count": 1,
   "id": "primary-classification",
   "metadata": {},
   "outputs": [],
   "source": [
    "import os, json\n",
    "import numpy as np\n",
    "import pandas as pd\n",
    "import seaborn as sns\n",
    "from scipy import stats\n",
    "import matplotlib.pyplot as plt\n",
    "import ipywidgets as widgets"
   ]
  },
  {
   "cell_type": "markdown",
   "id": "particular-theme",
   "metadata": {},
   "source": [
    "### Select and Load in the Relevant `json` Files\n",
    "Choose the years to consolidate"
   ]
  },
  {
   "cell_type": "code",
   "execution_count": 2,
   "id": "understood-peeing",
   "metadata": {},
   "outputs": [
    {
     "data": {
      "application/vnd.jupyter.widget-view+json": {
       "model_id": "8be321e5bcc643a3b9b00529b47d3c69",
       "version_major": 2,
       "version_minor": 0
      },
      "text/plain": [
       "SelectMultiple(options=('2015', '2016', '2017', '2018', '2019', '2020'), value=())"
      ]
     },
     "metadata": {},
     "output_type": "display_data"
    }
   ],
   "source": [
    "people_stats = [ option for option in os.listdir( \"./Data/\" ) if \"people_stats\" in option ]\n",
    "work = [ option for option in os.listdir( \"./Data/\" ) if \"work\" in option ]\n",
    "people_stats_years = [ name.split(\".\")[0].split(\"_\")[2][:4] for name in people_stats ]\n",
    "work_years = [ name.split(\".\")[0].split(\"_\")[1][:4] for name in work ]\n",
    "valid_years = list( set(people_stats_years).intersection(work_years) )\n",
    "yearlist = widgets.SelectMultiple( options = sorted(valid_years) )\n",
    "yearlist"
   ]
  },
  {
   "cell_type": "markdown",
   "id": "standard-lawyer",
   "metadata": {},
   "source": [
    "Load in the `json` files"
   ]
  },
  {
   "cell_type": "code",
   "execution_count": 56,
   "id": "nearby-eugene",
   "metadata": {},
   "outputs": [],
   "source": [
    "json_files = {\n",
    "    \"people_new\": json.load( open( \"Data/people_new.json\" ) ),\n",
    "    \"institutes_new\": json.load( open( \"Data/institutes_new.json\" ) ),\n",
    "    \"people_stats\": { year: json.load( open( \"Data/people_stats_{}1231.json\".format( year ) ) ) for year in yearlist.value },\n",
    "    \"work\": { year: json.load( open( \"Data/work_{}1231.json\".format( year ) ) ) for year in yearlist.value }\n",
    "}"
   ]
  },
  {
   "cell_type": "markdown",
   "id": "fallen-helena",
   "metadata": {},
   "source": [
    "Structure a single `dict` to track individuals per year.  The structure of the `dict` will be by layers:\n",
    "1. Year\n",
    "2. CMS ID\n",
    "3. Gender, Author, Activity, Institute, Project  \n",
    "\n",
    "Begin by structuring the individual `json` files by `YEAR` and `CMSID`, and then the relevant information as listed in bullet point 3.\n",
    "\n",
    "Start with `people_new.json` to associate `CMSID` to `GENDER`:"
   ]
  },
  {
   "cell_type": "code",
   "execution_count": 57,
   "id": "built-float",
   "metadata": {},
   "outputs": [
    {
     "name": "stdout",
     "output_type": "stream",
     "text": [
      ">> GENDER OPTIONS: ['', None, 'F', 'M']\n"
     ]
    }
   ],
   "source": [
    "people_new = {}\n",
    "people_new_values = { \"GENDER\": [] }\n",
    "\n",
    "for person in json_files[ \"people_new\" ]:\n",
    "    people_new[ str( person[ \"cmsId\" ] ) ] = { \"GENDER\": person[ \"gender\" ] }\n",
    "    people_new_values[ \"GENDER\" ].append( person[ \"gender\" ] )\n",
    "    \n",
    "print( \">> GENDER OPTIONS: {}\".format( list( set( people_new_values[ \"GENDER\" ] ) ) ) )"
   ]
  },
  {
   "cell_type": "markdown",
   "id": "visible-tactics",
   "metadata": {},
   "source": [
    "Use `work_*.json` to associate `CMSID` to `PROJECT`:"
   ]
  },
  {
   "cell_type": "code",
   "execution_count": 58,
   "id": "abroad-notice",
   "metadata": {},
   "outputs": [
    {
     "name": "stdout",
     "output_type": "stream",
     "text": [
      ">> 2015 PROJECT OPTIONS: ['BRIL', 'CT-PPS', 'DAQ', 'ECAL', 'GENERAL', 'HCAL', 'L1 TRIGGER', 'MUON-CSC', 'MUON-DT', 'MUON-RPC', 'OFFLINE AND COMPUTING', 'PPD', 'RUN COORDINATION', 'TRACKER', 'TRIGGER COORDINATION', 'UPGRADE']\n",
      ">> 2016 PROJECT OPTIONS: ['BRIL', 'CT-PPS', 'DAQ', 'ECAL', 'GENERAL', 'HCAL', 'HGCAL', 'L1 TRIGGER', 'MUON', 'OFFLINE AND COMPUTING', 'PPD', 'RUN COORDINATION', 'TRACKER', 'TRIGGER COORDINATION', 'UPGRADE']\n",
      ">> 2017 PROJECT OPTIONS: ['BRIL', 'CT-PPS', 'DAQ', 'ECAL', 'GENERAL', 'HCAL', 'L1 TRIGGER', 'MUON', 'OFFLINE AND COMPUTING', 'PPD', 'RUN COORDINATION', 'TRACKER', 'TRIGGER COORDINATION', 'UPGRADE']\n",
      ">> 2018 PROJECT OPTIONS: ['BRIL', 'DAQ', 'ECAL', 'GENERAL', 'HCAL', 'HGCAL (CE)', 'L1 TRIGGER', 'MUON', 'OFFLINE AND COMPUTING', 'PPD', 'PPS', 'RUN COORDINATION', 'TRACKER', 'TRIGGER COORDINATION', 'UPGRADE']\n",
      ">> 2019 PROJECT OPTIONS: ['BRIL', 'DAQ', 'ECAL', 'HCAL', 'HGCAL (CE)', 'L1 TRIGGER', 'MTD', 'MUON', 'OFFLINE SOFTWARE AND COMPUTING', 'PPD', 'PPS', 'RUN COORDINATION', 'TRACKER', 'TRIGGER COORDINATION', 'UPGRADE']\n",
      ">> 2020 PROJECT OPTIONS: ['BRIL', 'DAQ', 'ECAL', 'GENERAL', 'HCAL', 'HGCAL (CE)', 'L1 TRIGGER', 'MTD', 'MUON', 'OFFLINE SOFTWARE AND COMPUTING', 'PPD', 'PPS', 'RUN COORDINATION', 'TRACKER', 'TRIGGER COORDINATION']\n"
     ]
    }
   ],
   "source": [
    "work = { year: {} for year in yearlist.value }\n",
    "work_values = { year: { \"PROJECT\": [] } for year in yearlist.value }\n",
    "\n",
    "for year in yearlist.value:\n",
    "    work[ year ] = {}\n",
    "    for institute in json_files[ \"work\" ][ year ]:\n",
    "        for person in json_files[ \"work\" ][ year ][ institute ].keys():\n",
    "            if person not in list( work[ year ].keys() ):\n",
    "                work[ year ][ person ] = [ project.upper() for project in list( json_files[ \"work\" ][ year ][ institute ][ person ].keys() ) ]\n",
    "            else:\n",
    "                for project in list( json_files[ \"work\" ][ year ][ institute ][ person ].keys() ):\n",
    "                    work[ year ][ person ].append( project.upper() )\n",
    "            for project in list( json_files[ \"work\" ][ year ][ institute ][ person ].keys() ):\n",
    "                work_values[ year ][ \"PROJECT\" ].append( project.upper() )\n",
    "        \n",
    "    print( \">> {} PROJECT OPTIONS: {}\".format( year, sorted( list( set( work_values[ year ][ \"PROJECT\" ] ) ) ) ) )\n"
   ]
  },
  {
   "cell_type": "code",
   "execution_count": 59,
   "id": "antique-stations",
   "metadata": {
    "scrolled": false
   },
   "outputs": [
    {
     "name": "stdout",
     "output_type": "stream",
     "text": [
      ">> 2015-2020 PROJECT OPTIONS:\n",
      "  - BRIL\n",
      "  - CT-PPS\n",
      "  - DAQ\n",
      "  - ECAL\n",
      "  - GENERAL\n",
      "  - HCAL\n",
      "  - HGCAL\n",
      "  - HGCAL (CE)\n",
      "  - L1 TRIGGER\n",
      "  - MTD\n",
      "  - MUON\n",
      "  - MUON-CSC\n",
      "  - MUON-DT\n",
      "  - MUON-RPC\n",
      "  - OFFLINE AND COMPUTING\n",
      "  - OFFLINE SOFTWARE AND COMPUTING\n",
      "  - PPD\n",
      "  - PPS\n",
      "  - RUN COORDINATION\n",
      "  - TRACKER\n",
      "  - TRIGGER COORDINATION\n",
      "  - UPGRADE\n"
     ]
    }
   ],
   "source": [
    "project_options = []\n",
    "for year in yearlist.value:\n",
    "    for project in list( set( work_values[ year ][ \"PROJECT\" ] ) ):\n",
    "        if project not in project_options: project_options.append( project )\n",
    "print( \">> {}-{} PROJECT OPTIONS:\".format( yearlist.value[0], yearlist.value[-1] ) )\n",
    "for project in sorted( project_options ):\n",
    "    print( \"  - {}\".format( project ) )"
   ]
  },
  {
   "cell_type": "markdown",
   "id": "subjective-chase",
   "metadata": {},
   "source": [
    "Use `people_stats_*.json` to associate `CMSID` and `ACTIVITY`, `INSTITUTE`, `AUTHOR`:"
   ]
  },
  {
   "cell_type": "code",
   "execution_count": 60,
   "id": "impaired-stations",
   "metadata": {},
   "outputs": [
    {
     "name": "stdout",
     "output_type": "stream",
     "text": [
      ">> 2015 ACTIVITY OPTIONS: ['Administrative', 'Doctoral Student', 'Engineer', 'Engineer Electronics', 'Engineer Mechanical', 'Engineer Software', 'Non-Doctoral Student', 'Other', 'Physicist', 'Technician', 'Theoretical Physicist']\n",
      ">> 2016 ACTIVITY OPTIONS: ['Administrative', 'Doctoral Student', 'Engineer', 'Engineer Electronics', 'Engineer Mechanical', 'Engineer Software', 'Non-Doctoral Student', 'Other', 'Physicist', 'Technician', 'Theoretical Physicist']\n",
      ">> 2017 ACTIVITY OPTIONS: ['Administrative', 'Doctoral Student', 'Engineer', 'Engineer Electronics', 'Engineer Mechanical', 'Engineer Software', 'Non-Doctoral Student', 'Other', 'Physicist', 'Technician', 'Theoretical Physicist']\n",
      ">> 2018 ACTIVITY OPTIONS: ['Administrative', 'Doctoral Student', 'Engineer', 'Engineer Electronics', 'Engineer Mechanical', 'Engineer Software', 'Non-Doctoral Student', 'Other', 'Physicist', 'Technician', 'Theoretical Physicist']\n",
      ">> 2019 ACTIVITY OPTIONS: ['Administrative', 'Doctoral Student', 'Engineer', 'Engineer Electronics', 'Engineer Mechanical', 'Engineer Software', 'Non-Doctoral Student', 'Other', 'Physicist', 'Technician', 'Theoretical Physicist']\n",
      ">> 2020 ACTIVITY OPTIONS: ['Administrative', 'Doctoral Student', 'Engineer', 'Engineer Electronics', 'Engineer Mechanical', 'Engineer Software', 'Non-Doctoral Student', 'Other', 'Physicist', 'Technician', 'Theoretical Physicist']\n"
     ]
    }
   ],
   "source": [
    "people_stats = { year: {} for year in yearlist.value }\n",
    "people_stats_values = { year: {\n",
    "    \"ACTIVITY\":  [],\n",
    "    \"INSTITUTE\": [],\n",
    "    \"AUTHOR\": []\n",
    "} for year in yearlist.value }\n",
    "\n",
    "for year in yearlist.value:\n",
    "    people_stats[ year ] = {}\n",
    "    for person in json_files[ \"people_stats\" ][ year ]:\n",
    "        people_stats[ year ][ str( person[ \"cms_id\" ] ) ] = {\n",
    "            \"ACTIVITY\":  person[ \"activity_cms\" ] if person[ \"activity_cms\" ] is not None else \"Other\",\n",
    "            \"INSTITUTE\": person[ \"inst_code\" ],\n",
    "            \"AUTHOR\":    person[ \"is_author\" ]\n",
    "        }\n",
    "        if person[ \"activity_cms\" ] is None: people_stats_values[ year ][ \"ACTIVITY\" ].append( \"Other\" )\n",
    "        else: people_stats_values[ year ][ \"ACTIVITY\" ].append( person[ \"activity_cms\" ] )\n",
    "        people_stats_values[ year ][ \"INSTITUTE\" ].append( person[ \"inst_code\" ] )\n",
    "        people_stats_values[ year ][ \"AUTHOR\" ].append( person[ \"is_author\" ] )\n",
    "\n",
    "    print( \">> {} ACTIVITY OPTIONS: {}\".format( year, sorted( set( people_stats_values[ year ][ \"ACTIVITY\" ] ) ) ) )"
   ]
  },
  {
   "cell_type": "code",
   "execution_count": 61,
   "id": "partial-french",
   "metadata": {},
   "outputs": [
    {
     "name": "stdout",
     "output_type": "stream",
     "text": [
      ">> 2015-2020 ACTIVITY OPTIONS:\n",
      "  - Administrative\n",
      "  - Doctoral Student\n",
      "  - Engineer\n",
      "  - Engineer Electronics\n",
      "  - Engineer Mechanical\n",
      "  - Engineer Software\n",
      "  - Non-Doctoral Student\n",
      "  - Other\n",
      "  - Physicist\n",
      "  - Technician\n",
      "  - Theoretical Physicist\n"
     ]
    }
   ],
   "source": [
    "activity_options = []\n",
    "for year in yearlist.value:\n",
    "    for activity in list( set( people_stats_values[ year ][ \"ACTIVITY\" ] ) ):\n",
    "        if activity not in activity_options: activity_options.append( activity )\n",
    "print( \">> {}-{} ACTIVITY OPTIONS:\".format( yearlist.value[0], yearlist.value[-1] ) )\n",
    "for activity in sorted( activity_options ):\n",
    "    print( \"  - {}\".format( activity ) )"
   ]
  },
  {
   "cell_type": "markdown",
   "id": "dramatic-disclaimer",
   "metadata": {},
   "source": [
    "### `json` File Statistics\n",
    "List the possible options for each of the categories and provide some basic plots on the distributions of the options.  \n",
    "\n",
    "Plot the genders of all existing and past CMS members."
   ]
  },
  {
   "cell_type": "code",
   "execution_count": 62,
   "id": "mathematical-richardson",
   "metadata": {},
   "outputs": [
    {
     "data": {
      "image/png": "[encoded data removed]",
      "text/plain": [
       "<Figure size 432x432 with 1 Axes>"
      ]
     },
     "metadata": {
      "needs_background": "light"
     },
     "output_type": "display_data"
    }
   ],
   "source": [
    "gender_keys = [ \"MALE\", \"FEMALE\", \"NONE\" ]\n",
    "gender_plot = { key: 0 for key in gender_keys }\n",
    "for gender in people_new_values[ \"GENDER\" ]:\n",
    "    if gender is None or gender == \"\":\n",
    "        gender_plot[ \"NONE\" ] += 1\n",
    "    elif gender.upper() == \"F\":\n",
    "        gender_plot[ \"FEMALE\" ] += 1\n",
    "    elif gender.upper() == \"M\":\n",
    "        gender_plot[ \"MALE\" ] += 1\n",
    "\n",
    "plt.figure( figsize = (6,6) )\n",
    "plt.bar( list( gender_plot.keys() ), list( gender_plot.values() ) )\n",
    "plt.title( \"CMS All Gender Count\", fontsize = 16 )\n",
    "plt.ylabel( \"Count\", y = 1.0, ha = \"right\" )\n",
    "plt.xlabel( \"GENDER\" )\n",
    "plt.show()"
   ]
  },
  {
   "cell_type": "markdown",
   "id": "enormous-export",
   "metadata": {},
   "source": [
    "Plot the number of members within each project grouped by year.  First, choose a project to view:"
   ]
  },
  {
   "cell_type": "code",
   "execution_count": 63,
   "id": "adequate-hypothesis",
   "metadata": {},
   "outputs": [
    {
     "data": {
      "application/vnd.jupyter.widget-view+json": {
       "model_id": "1672d16485834429bb6a39c8513bff83",
       "version_major": 2,
       "version_minor": 0
      },
      "text/plain": [
       "Dropdown(options=('UPGRADE', 'TRACKER', 'MUON-DT', 'OFFLINE AND COMPUTING', 'MUON-CSC', 'GENERAL', 'L1 TRIGGER…"
      ]
     },
     "metadata": {},
     "output_type": "display_data"
    }
   ],
   "source": [
    "project_choice = widgets.Dropdown( options = project_options )\n",
    "project_choice"
   ]
  },
  {
   "cell_type": "code",
   "execution_count": 65,
   "id": "formed-syndrome",
   "metadata": {},
   "outputs": [
    {
     "data": {
      "image/png": "[encoded data removed]",
      "text/plain": [
       "<Figure size 432x432 with 1 Axes>"
      ]
     },
     "metadata": {
      "needs_background": "light"
     },
     "output_type": "display_data"
    }
   ],
   "source": [
    "project_plot = { year: 0 for year in yearlist.value }\n",
    "for year in yearlist.value:\n",
    "    for project in work_values[ year ][ \"PROJECT\" ]:\n",
    "        if project == project_choice.value:\n",
    "            project_plot[ year ] += 1\n",
    "        \n",
    "plt.figure( figsize = (6,6) )\n",
    "\n",
    "plt.bar( list( project_plot.keys() ), list( project_plot.values() ) )\n",
    "plt.title( \"CMS Members in {} for {} to {}\".format( project_choice.value, yearlist.value[0], yearlist.value[-1] ) )\n",
    "plt.ylabel( \"Count\", y = 1.0, ha = \"right\" )\n",
    "plt.xlabel( \"YEAR\" )\n",
    "plt.show()"
   ]
  },
  {
   "cell_type": "markdown",
   "id": "comprehensive-fetish",
   "metadata": {},
   "source": [
    "Plot the number of members based on `ACTIVITY` grouped by year. First, choose an activity to view:"
   ]
  },
  {
   "cell_type": "code",
   "execution_count": 66,
   "id": "ceramic-making",
   "metadata": {},
   "outputs": [
    {
     "data": {
      "application/vnd.jupyter.widget-view+json": {
       "model_id": "90b92344372f4e288dc2e6094180fddf",
       "version_major": 2,
       "version_minor": 0
      },
      "text/plain": [
       "Dropdown(options=('Non-Doctoral Student', 'Theoretical Physicist', 'Engineer Electronics', 'Administrative', '…"
      ]
     },
     "metadata": {},
     "output_type": "display_data"
    }
   ],
   "source": [
    "activity_choice = widgets.Dropdown( options = activity_options )\n",
    "activity_choice"
   ]
  },
  {
   "cell_type": "code",
   "execution_count": 67,
   "id": "immune-happiness",
   "metadata": {},
   "outputs": [
    {
     "data": {
      "image/png": "[encoded data removed]",
      "text/plain": [
       "<Figure size 432x432 with 1 Axes>"
      ]
     },
     "metadata": {
      "needs_background": "light"
     },
     "output_type": "display_data"
    }
   ],
   "source": [
    "activity_plot = { year: 0 for year in yearlist.value }\n",
    "for year in yearlist.value:\n",
    "    for activity in people_stats_values[ year ][ \"ACTIVITY\" ]:\n",
    "        if activity == activity_choice.value:\n",
    "            activity_plot[ year ] += 1\n",
    "        \n",
    "plt.figure( figsize = (6,6) )\n",
    "\n",
    "plt.bar( list( activity_plot.keys() ), list( activity_plot.values() ) )\n",
    "plt.title( \"CMS Members in {} for {} to {}\".format( activity_choice.value, yearlist.value[0], yearlist.value[-1] ) )\n",
    "plt.ylabel( \"Count\", y = 1.0, ha = \"right\" )\n",
    "plt.xlabel( \"YEAR\" )\n",
    "plt.show()"
   ]
  },
  {
   "cell_type": "markdown",
   "id": "early-creation",
   "metadata": {},
   "source": [
    "### Format and Produce New `json` File\n",
    "Compile the new `dict`"
   ]
  },
  {
   "cell_type": "code",
   "execution_count": 68,
   "id": "standard-engineer",
   "metadata": {},
   "outputs": [],
   "source": [
    "combined_json = { year: {} for year in yearlist.value }\n",
    "\n",
    "for year in yearlist.value:\n",
    "    for ID in sorted( list( set( people_stats[ year ].keys() ).intersection( set( work[ year ].keys() ) ) ) ):\n",
    "        combined_json[ year ][ str(ID) ] = {}\n",
    "        combined_json[ year ][ str(ID) ][ \"GENDER\" ] = people_new[ str(ID) ][ \"GENDER\" ]\n",
    "        if str(ID) in work[ year ].keys():\n",
    "            combined_json[ year ][ str(ID) ][ \"PROJECT\" ] = work[ year ][ str(ID) ]\n",
    "        else:\n",
    "            combined_json[ year ][ str(ID) ][ \"PROJECT\" ] = [ \"OTHER\" ]\n",
    "        if str(ID) in people_stats[ year ].keys():\n",
    "            combined_json[ year ][ str(ID) ][ \"ACTIVITY\" ]  = people_stats[ year ][ str(ID) ][ \"ACTIVITY\" ]\n",
    "            combined_json[ year ][ str(ID) ][ \"INSTITUTE\" ] = people_stats[ year ][ str(ID) ][ \"INSTITUTE\" ]\n",
    "            combined_json[ year ][ str(ID) ][ \"AUTHOR\" ]    = people_stats[ year ][ str(ID) ][ \"AUTHOR\" ]\n",
    "        else:\n",
    "            combined_json[ year ][ str(ID) ][ \"ACTIVITY\" ]  = \"OTHER\"\n",
    "            combined_json[ year ][ str(ID) ][ \"INSTITUTE\" ] = \"OTHER\"\n",
    "            combined_json[ year ][ str(ID) ][ \"AUTHOR\" ]    = None"
   ]
  },
  {
   "cell_type": "markdown",
   "id": "fifteen-warrant",
   "metadata": {},
   "source": [
    "Dump the `json` file"
   ]
  },
  {
   "cell_type": "code",
   "execution_count": 69,
   "id": "educational-contest",
   "metadata": {},
   "outputs": [],
   "source": [
    "with open( \"json_analysis.json\", \"w\" ) as outfile:\n",
    "    json.dump( combined_json, outfile, indent = 2 )"
   ]
  },
  {
   "cell_type": "code",
   "execution_count": null,
   "id": "superb-prophet",
   "metadata": {},
   "outputs": [],
   "source": []
  }
 ],
 "metadata": {
  "kernelspec": {
   "display_name": "Python 3",
   "language": "python",
   "name": "python3"
  },
  "language_info": {
   "codemirror_mode": {
    "name": "ipython",
    "version": 3
   },
   "file_extension": ".py",
   "mimetype": "text/x-python",
   "name": "python",
   "nbconvert_exporter": "python",
   "pygments_lexer": "ipython3",
   "version": "3.8.6"
  }
 },
 "nbformat": 4,
 "nbformat_minor": 5
}
