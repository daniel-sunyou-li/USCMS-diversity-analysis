{
  "nbformat": 4,
  "nbformat_minor": 0,
  "metadata": {
    "colab": {
      "name": "cms_statistics_colab.ipynb",
      "provenance": []
    },
    "kernelspec": {
      "name": "python3",
      "display_name": "Python 3"
    },
    "language_info": {
      "name": "python"
    },
    "widgets": {
      "application/vnd.jupyter.widget-state+json": {
        "8fa9fe35e72744cc84baa5adfa76e146": {
          "model_module": "@jupyter-widgets/controls",
          "model_name": "SelectMultipleModel",
          "state": {
            "_options_labels": [
              "2015",
              "2016",
              "2017",
              "2018",
              "2019",
              "2020"
            ],
            "_view_name": "SelectMultipleView",
            "style": "IPY_MODEL_1db1d5c9183c4c589f9fb463cfc42a81",
            "rows": 5,
            "_dom_classes": [],
            "description": "",
            "_model_name": "SelectMultipleModel",
            "index": [
              0,
              1,
              2,
              3,
              4,
              5
            ],
            "_view_module": "@jupyter-widgets/controls",
            "_model_module_version": "1.5.0",
            "_view_count": null,
            "disabled": false,
            "_view_module_version": "1.5.0",
            "description_tooltip": null,
            "_model_module": "@jupyter-widgets/controls",
            "layout": "IPY_MODEL_230f66c8d03d4bdca4932b79976e5eec"
          }
        },
        "1db1d5c9183c4c589f9fb463cfc42a81": {
          "model_module": "@jupyter-widgets/controls",
          "model_name": "DescriptionStyleModel",
          "state": {
            "_view_name": "StyleView",
            "_model_name": "DescriptionStyleModel",
            "description_width": "",
            "_view_module": "@jupyter-widgets/base",
            "_model_module_version": "1.5.0",
            "_view_count": null,
            "_view_module_version": "1.2.0",
            "_model_module": "@jupyter-widgets/controls"
          }
        },
        "230f66c8d03d4bdca4932b79976e5eec": {
          "model_module": "@jupyter-widgets/base",
          "model_name": "LayoutModel",
          "state": {
            "_view_name": "LayoutView",
            "grid_template_rows": null,
            "right": null,
            "justify_content": null,
            "_view_module": "@jupyter-widgets/base",
            "overflow": null,
            "_model_module_version": "1.2.0",
            "_view_count": null,
            "flex_flow": null,
            "width": null,
            "min_width": null,
            "border": null,
            "align_items": null,
            "bottom": null,
            "_model_module": "@jupyter-widgets/base",
            "top": null,
            "grid_column": null,
            "overflow_y": null,
            "overflow_x": null,
            "grid_auto_flow": null,
            "grid_area": null,
            "grid_template_columns": null,
            "flex": null,
            "_model_name": "LayoutModel",
            "justify_items": null,
            "grid_row": null,
            "max_height": null,
            "align_content": null,
            "visibility": null,
            "align_self": null,
            "height": null,
            "min_height": null,
            "padding": null,
            "grid_auto_rows": null,
            "grid_gap": null,
            "max_width": null,
            "order": null,
            "_view_module_version": "1.2.0",
            "grid_template_areas": null,
            "object_position": null,
            "object_fit": null,
            "grid_auto_columns": null,
            "margin": null,
            "display": null,
            "left": null
          }
        },
        "b95bbae7eda04593aed737492d6367a2": {
          "model_module": "@jupyter-widgets/controls",
          "model_name": "SelectMultipleModel",
          "state": {
            "_options_labels": [
              "True",
              "False",
              "None"
            ],
            "_view_name": "SelectMultipleView",
            "style": "IPY_MODEL_11242b29879545ceb13729b0e08ea042",
            "rows": 5,
            "_dom_classes": [],
            "description": "",
            "_model_name": "SelectMultipleModel",
            "index": [
              0
            ],
            "_view_module": "@jupyter-widgets/controls",
            "_model_module_version": "1.5.0",
            "_view_count": null,
            "disabled": false,
            "_view_module_version": "1.5.0",
            "description_tooltip": null,
            "_model_module": "@jupyter-widgets/controls",
            "layout": "IPY_MODEL_e083a4b836f145f99cf3761b8997fec5"
          }
        },
        "11242b29879545ceb13729b0e08ea042": {
          "model_module": "@jupyter-widgets/controls",
          "model_name": "DescriptionStyleModel",
          "state": {
            "_view_name": "StyleView",
            "_model_name": "DescriptionStyleModel",
            "description_width": "",
            "_view_module": "@jupyter-widgets/base",
            "_model_module_version": "1.5.0",
            "_view_count": null,
            "_view_module_version": "1.2.0",
            "_model_module": "@jupyter-widgets/controls"
          }
        },
        "e083a4b836f145f99cf3761b8997fec5": {
          "model_module": "@jupyter-widgets/base",
          "model_name": "LayoutModel",
          "state": {
            "_view_name": "LayoutView",
            "grid_template_rows": null,
            "right": null,
            "justify_content": null,
            "_view_module": "@jupyter-widgets/base",
            "overflow": null,
            "_model_module_version": "1.2.0",
            "_view_count": null,
            "flex_flow": null,
            "width": null,
            "min_width": null,
            "border": null,
            "align_items": null,
            "bottom": null,
            "_model_module": "@jupyter-widgets/base",
            "top": null,
            "grid_column": null,
            "overflow_y": null,
            "overflow_x": null,
            "grid_auto_flow": null,
            "grid_area": null,
            "grid_template_columns": null,
            "flex": null,
            "_model_name": "LayoutModel",
            "justify_items": null,
            "grid_row": null,
            "max_height": null,
            "align_content": null,
            "visibility": null,
            "align_self": null,
            "height": null,
            "min_height": null,
            "padding": null,
            "grid_auto_rows": null,
            "grid_gap": null,
            "max_width": null,
            "order": null,
            "_view_module_version": "1.2.0",
            "grid_template_areas": null,
            "object_position": null,
            "object_fit": null,
            "grid_auto_columns": null,
            "margin": null,
            "display": null,
            "left": null
          }
        },
        "34313827705f414985527d7d466ca41f": {
          "model_module": "@jupyter-widgets/controls",
          "model_name": "SelectMultipleModel",
          "state": {
            "_options_labels": [
              "ECAL",
              "OFFLINE AND COMPUTING",
              "HCAL",
              "TRACKER",
              "L1 TRIGGER",
              "MUON-RPC",
              "UPGRADE",
              "TRIGGER COORDINATION",
              "PPD",
              "MUON-CSC",
              "CT-PPS",
              "BRIL",
              "MUON-DT",
              "GENERAL",
              "DAQ",
              "RUN COORDINATION",
              "MUON",
              "HGCAL",
              "HGCAL (CE)",
              "PPS",
              "OFFLINE SOFTWARE AND COMPUTING",
              "MTD"
            ],
            "_view_name": "SelectMultipleView",
            "style": "IPY_MODEL_e2951d4cf8dd47efb23c29dfdc7eeafd",
            "rows": 5,
            "_dom_classes": [],
            "description": "",
            "_model_name": "SelectMultipleModel",
            "index": [
              21
            ],
            "_view_module": "@jupyter-widgets/controls",
            "_model_module_version": "1.5.0",
            "_view_count": null,
            "disabled": false,
            "_view_module_version": "1.5.0",
            "description_tooltip": null,
            "_model_module": "@jupyter-widgets/controls",
            "layout": "IPY_MODEL_3adaa595e6764c02b00f0b1fc495bd22"
          }
        },
        "e2951d4cf8dd47efb23c29dfdc7eeafd": {
          "model_module": "@jupyter-widgets/controls",
          "model_name": "DescriptionStyleModel",
          "state": {
            "_view_name": "StyleView",
            "_model_name": "DescriptionStyleModel",
            "description_width": "",
            "_view_module": "@jupyter-widgets/base",
            "_model_module_version": "1.5.0",
            "_view_count": null,
            "_view_module_version": "1.2.0",
            "_model_module": "@jupyter-widgets/controls"
          }
        },
        "3adaa595e6764c02b00f0b1fc495bd22": {
          "model_module": "@jupyter-widgets/base",
          "model_name": "LayoutModel",
          "state": {
            "_view_name": "LayoutView",
            "grid_template_rows": null,
            "right": null,
            "justify_content": null,
            "_view_module": "@jupyter-widgets/base",
            "overflow": null,
            "_model_module_version": "1.2.0",
            "_view_count": null,
            "flex_flow": null,
            "width": null,
            "min_width": null,
            "border": null,
            "align_items": null,
            "bottom": null,
            "_model_module": "@jupyter-widgets/base",
            "top": null,
            "grid_column": null,
            "overflow_y": null,
            "overflow_x": null,
            "grid_auto_flow": null,
            "grid_area": null,
            "grid_template_columns": null,
            "flex": null,
            "_model_name": "LayoutModel",
            "justify_items": null,
            "grid_row": null,
            "max_height": null,
            "align_content": null,
            "visibility": null,
            "align_self": null,
            "height": null,
            "min_height": null,
            "padding": null,
            "grid_auto_rows": null,
            "grid_gap": null,
            "max_width": null,
            "order": null,
            "_view_module_version": "1.2.0",
            "grid_template_areas": null,
            "object_position": null,
            "object_fit": null,
            "grid_auto_columns": null,
            "margin": null,
            "display": null,
            "left": null
          }
        },
        "c06b656cf84e46b5a1de2ff44dbe858e": {
          "model_module": "@jupyter-widgets/controls",
          "model_name": "SelectMultipleModel",
          "state": {
            "_options_labels": [
              "DOCTORAL STUDENT",
              "PHYSICIST",
              "ENGINEER",
              "ENGINEER ELECTRONICS",
              "NON-DOCTORAL STUDENT",
              "ENGINEER SOFTWARE",
              "TECHNICIAN",
              "ENGINEER MECHANICAL",
              "ADMINISTRATIVE",
              "THEORETICAL PHYSICIST",
              "OTHER"
            ],
            "_view_name": "SelectMultipleView",
            "style": "IPY_MODEL_ff19cfefe0e546368f34c688702d4ad3",
            "rows": 5,
            "_dom_classes": [],
            "description": "",
            "_model_name": "SelectMultipleModel",
            "index": [
              0,
              1
            ],
            "_view_module": "@jupyter-widgets/controls",
            "_model_module_version": "1.5.0",
            "_view_count": null,
            "disabled": false,
            "_view_module_version": "1.5.0",
            "description_tooltip": null,
            "_model_module": "@jupyter-widgets/controls",
            "layout": "IPY_MODEL_206bcdefeb5e4455b93b5f609c3387f2"
          }
        },
        "ff19cfefe0e546368f34c688702d4ad3": {
          "model_module": "@jupyter-widgets/controls",
          "model_name": "DescriptionStyleModel",
          "state": {
            "_view_name": "StyleView",
            "_model_name": "DescriptionStyleModel",
            "description_width": "",
            "_view_module": "@jupyter-widgets/base",
            "_model_module_version": "1.5.0",
            "_view_count": null,
            "_view_module_version": "1.2.0",
            "_model_module": "@jupyter-widgets/controls"
          }
        },
        "206bcdefeb5e4455b93b5f609c3387f2": {
          "model_module": "@jupyter-widgets/base",
          "model_name": "LayoutModel",
          "state": {
            "_view_name": "LayoutView",
            "grid_template_rows": null,
            "right": null,
            "justify_content": null,
            "_view_module": "@jupyter-widgets/base",
            "overflow": null,
            "_model_module_version": "1.2.0",
            "_view_count": null,
            "flex_flow": null,
            "width": null,
            "min_width": null,
            "border": null,
            "align_items": null,
            "bottom": null,
            "_model_module": "@jupyter-widgets/base",
            "top": null,
            "grid_column": null,
            "overflow_y": null,
            "overflow_x": null,
            "grid_auto_flow": null,
            "grid_area": null,
            "grid_template_columns": null,
            "flex": null,
            "_model_name": "LayoutModel",
            "justify_items": null,
            "grid_row": null,
            "max_height": null,
            "align_content": null,
            "visibility": null,
            "align_self": null,
            "height": null,
            "min_height": null,
            "padding": null,
            "grid_auto_rows": null,
            "grid_gap": null,
            "max_width": null,
            "order": null,
            "_view_module_version": "1.2.0",
            "grid_template_areas": null,
            "object_position": null,
            "object_fit": null,
            "grid_auto_columns": null,
            "margin": null,
            "display": null,
            "left": null
          }
        },
        "d1286083a0f44130b8730056c29c5b38": {
          "model_module": "@jupyter-widgets/controls",
          "model_name": "SelectMultipleModel",
          "state": {
            "_options_labels": [
              "Armenia",
              "Australia",
              "Austria",
              "Bahrain",
              "Belarus",
              "Belgium",
              "Brazil",
              "Bulgaria",
              "Canada",
              "China",
              "Colombia",
              "Croatia",
              "Cyprus",
              "Czech Republic",
              "Ecuador",
              "Egypt",
              "Estonia",
              "Finland",
              "France",
              "Georgia",
              "Germany",
              "Greece",
              "Hungary",
              "India",
              "Iran",
              "Ireland",
              "Italy",
              "Japan",
              "Jordan",
              "Korea",
              "Kuwait",
              "Latvia",
              "Lebanon",
              "Lithuania",
              "Malaysia",
              "Mexico",
              "Montenegro",
              "Netherlands",
              "New Zealand",
              "Norway",
              "Oman",
              "Pakistan",
              "Philippines",
              "Poland",
              "Portugal",
              "Qatar",
              "Romania",
              "Russia",
              "Saudi Arabia",
              "Serbia",
              "Singapore",
              "Slovak Republic",
              "Spain",
              "Sri Lanka",
              "Switzerland",
              "Taiwan",
              "Thailand",
              "Tunisia",
              "Turkey",
              "USA",
              "Ukraine",
              "United Arab Emirates",
              "United Kingdom",
              "Uzbekistan",
              "ZZ"
            ],
            "_view_name": "SelectMultipleView",
            "style": "IPY_MODEL_870538f40a54497cb4b5298bc64bad2d",
            "rows": 5,
            "_dom_classes": [],
            "description": "",
            "_model_name": "SelectMultipleModel",
            "index": [],
            "_view_module": "@jupyter-widgets/controls",
            "_model_module_version": "1.5.0",
            "_view_count": null,
            "disabled": false,
            "_view_module_version": "1.5.0",
            "description_tooltip": null,
            "_model_module": "@jupyter-widgets/controls",
            "layout": "IPY_MODEL_50f01cac4b3647d6bd2ad9d22ca734ca"
          }
        },
        "870538f40a54497cb4b5298bc64bad2d": {
          "model_module": "@jupyter-widgets/controls",
          "model_name": "DescriptionStyleModel",
          "state": {
            "_view_name": "StyleView",
            "_model_name": "DescriptionStyleModel",
            "description_width": "",
            "_view_module": "@jupyter-widgets/base",
            "_model_module_version": "1.5.0",
            "_view_count": null,
            "_view_module_version": "1.2.0",
            "_model_module": "@jupyter-widgets/controls"
          }
        },
        "50f01cac4b3647d6bd2ad9d22ca734ca": {
          "model_module": "@jupyter-widgets/base",
          "model_name": "LayoutModel",
          "state": {
            "_view_name": "LayoutView",
            "grid_template_rows": null,
            "right": null,
            "justify_content": null,
            "_view_module": "@jupyter-widgets/base",
            "overflow": null,
            "_model_module_version": "1.2.0",
            "_view_count": null,
            "flex_flow": null,
            "width": null,
            "min_width": null,
            "border": null,
            "align_items": null,
            "bottom": null,
            "_model_module": "@jupyter-widgets/base",
            "top": null,
            "grid_column": null,
            "overflow_y": null,
            "overflow_x": null,
            "grid_auto_flow": null,
            "grid_area": null,
            "grid_template_columns": null,
            "flex": null,
            "_model_name": "LayoutModel",
            "justify_items": null,
            "grid_row": null,
            "max_height": null,
            "align_content": null,
            "visibility": null,
            "align_self": null,
            "height": null,
            "min_height": null,
            "padding": null,
            "grid_auto_rows": null,
            "grid_gap": null,
            "max_width": null,
            "order": null,
            "_view_module_version": "1.2.0",
            "grid_template_areas": null,
            "object_position": null,
            "object_fit": null,
            "grid_auto_columns": null,
            "margin": null,
            "display": null,
            "left": null
          }
        }
      }
    }
  },
  "cells": [
    {
      "cell_type": "code",
      "metadata": {
        "colab": {
          "base_uri": "https://localhost:8080/"
        },
        "cellView": "form",
        "id": "3WCJcmdvSjBI",
        "outputId": "b68cb376-8c34-47e0-dbd4-f587db98bf11"
      },
      "source": [
        "#@markdown #CMS Diversity Data: Statistics Analysis\n",
        "#@markdown ###Comparing the USCMS to the full CMS collaboration\n",
        "#@markdown This notebook will visualize and report the diversity statistics for \n",
        "#@markdown the specified country(s) relative to the full CMS collaboration.  The\n",
        "#@markdown statistics can be filtered by year, gender, role, activity and authorship.\n",
        "#@markdown ### Import `python` libraries\n",
        "\n",
        "import os, json\n",
        "import numpy as np\n",
        "import pandas as pd\n",
        "import matplotlib.pyplot as plt\n",
        "from matplotlib.colors import ListedColormap\n",
        "from matplotlib.lines import Line2D\n",
        "import ipywidgets as widgets\n",
        "from scipy import stats\n",
        "\n",
        "from google.colab import drive\n",
        "drive.mount( '/content/drive' )\n",
        "\n",
        "%cd /content/drive/My Drive/Colab Notebooks/USCMS-diversity-analysis-main/USCMS-diversity-analysis-main"
      ],
      "execution_count": null,
      "outputs": [
        {
          "output_type": "stream",
          "text": [
            "Drive already mounted at /content/drive; to attempt to forcibly remount, call drive.mount(\"/content/drive\", force_remount=True).\n",
            "/content/drive/My Drive/Colab Notebooks/USCMS-diversity-analysis-main/USCMS-diversity-analysis-main\n"
          ],
          "name": "stdout"
        }
      ]
    },
    {
      "cell_type": "code",
      "metadata": {
        "id": "OkahOEmYT7_r",
        "cellView": "form",
        "colab": {
          "base_uri": "https://localhost:8080/"
        },
        "outputId": "91ca6e59-095f-4b38-a362-b6bae413c994"
      },
      "source": [
        "#@markdown Import the `json` data file `json_analysis.json`.  This file is created\n",
        "#@markdown from `combine_json_colab.ipynb` which should be run before this notebook.\n",
        "#@markdown Display the available years in the `json` file.\n",
        "\n",
        "with open( \"Data/json_analysis.json\" ) as json_file:\n",
        "    data = json.load( json_file )\n",
        "print( \">> json_analysis.json contains years: {}\".format( list( data.keys() ) ) )"
      ],
      "execution_count": 3,
      "outputs": [
        {
          "output_type": "stream",
          "text": [
            ">> json_analysis.json contains years: ['2015', '2016', '2017', '2018', '2019', '2020']\n"
          ],
          "name": "stdout"
        }
      ]
    },
    {
      "cell_type": "code",
      "metadata": {
        "colab": {
          "base_uri": "https://localhost:8080/"
        },
        "cellView": "form",
        "id": "gCVBcB5udnH9",
        "outputId": "2e0996fe-d708-40b9-bdda-95971d2d52c5"
      },
      "source": [
        "#@markdown Distinguish between the USCMS institutes and full CMS Collaboration \n",
        "#@markdown institutes into separate datasets.\n",
        "with open( \"Data/institutes_new.json\" ) as json_file:\n",
        "    institutes = json.load( json_file )\n",
        "\n",
        "us_institutes = [ institute[\"code\"] for institute in institutes if institute[\"country\"].lower() == \"usa\" ]\n",
        "    \n",
        "print( \">> Number of CMS institutions: {}\".format( len(institutes) ) )\n",
        "print( \">> Number of USCMS institutions: {}\".format( len(us_institutes) ) )"
      ],
      "execution_count": 4,
      "outputs": [
        {
          "output_type": "stream",
          "text": [
            ">> Number of CMS institutions: 536\n",
            ">> Number of USCMS institutions: 80\n"
          ],
          "name": "stdout"
        }
      ]
    },
    {
      "cell_type": "code",
      "metadata": {
        "cellView": "form",
        "id": "YKK3sGTQdu1x"
      },
      "source": [
        "#@markdown ### Select the filters\n",
        "#@markdown Selet the project, activities, authorship status adn years to report on.\n",
        "options = {\n",
        "    \"PROJECT\": [],\n",
        "    \"ACTIVITY\": [],\n",
        "    \"COUNTRY\": list( set( [ institute[\"country\"] for institute in institutes ] ) ),\n",
        "    \"AUTHOR\": [],\n",
        "    \"YEARS\": []\n",
        "}\n",
        "\n",
        "for year in list( data.keys() ):\n",
        "    options[ \"YEARS\" ].append( year )\n",
        "    for cms_id in data[ year ]:\n",
        "        for project in data[ year ][ cms_id ][ \"PROJECT\" ]:\n",
        "            if project not in options[ \"PROJECT\" ]: options[ \"PROJECT\" ].append( project.upper() )\n",
        "        if data[ year ][ cms_id ][ \"ACTIVITY\" ].upper() not in options[ \"ACTIVITY\" ]: options[ \"ACTIVITY\" ].append( data[ year ][ cms_id ][ \"ACTIVITY\" ].upper() )\n",
        "        if data[ year ][ cms_id ][ \"AUTHOR\" ]   not in options[ \"AUTHOR\" ]:   options[ \"AUTHOR\" ].append( data[ year ][ cms_id ][ \"AUTHOR\" ] )"
      ],
      "execution_count": 5,
      "outputs": []
    },
    {
      "cell_type": "code",
      "metadata": {
        "colab": {
          "base_uri": "https://localhost:8080/",
          "height": 111,
          "referenced_widgets": [
            "8fa9fe35e72744cc84baa5adfa76e146",
            "1db1d5c9183c4c589f9fb463cfc42a81",
            "230f66c8d03d4bdca4932b79976e5eec"
          ]
        },
        "cellView": "form",
        "id": "Sw7cvCzrd-op",
        "outputId": "0f33f921-a390-408e-e30e-1347cb31d5d6"
      },
      "source": [
        "#@markdown Select years to report:\n",
        "years = widgets.SelectMultiple( options = options[ \"YEARS\" ], value = [ options[ \"YEARS\"][-1] ] )\n",
        "years"
      ],
      "execution_count": 6,
      "outputs": [
        {
          "output_type": "display_data",
          "data": {
            "application/vnd.jupyter.widget-view+json": {
              "model_id": "8fa9fe35e72744cc84baa5adfa76e146",
              "version_minor": 0,
              "version_major": 2
            },
            "text/plain": [
              "SelectMultiple(index=(5,), options=('2015', '2016', '2017', '2018', '2019', '2020'), value=('2020',))"
            ]
          },
          "metadata": {
            "tags": []
          }
        }
      ]
    },
    {
      "cell_type": "code",
      "metadata": {
        "colab": {
          "base_uri": "https://localhost:8080/",
          "height": 111,
          "referenced_widgets": [
            "b95bbae7eda04593aed737492d6367a2",
            "11242b29879545ceb13729b0e08ea042",
            "e083a4b836f145f99cf3761b8997fec5"
          ]
        },
        "cellView": "form",
        "id": "ZicCk_9seL_x",
        "outputId": "16dd2ef2-5b65-4703-d1c2-8c3efaa3f5de"
      },
      "source": [
        "#@markdown Select authorship status to report:\n",
        "author_legend = {\n",
        "    \"AUTHORS\": [ True ],\n",
        "    \"ALL MEMBERS\": [ True, False, None ],\n",
        "    \"NON-AUTHORS:\": [ False ],\n",
        "    \"REPORTED MEMBERS\": [ True, False ],\n",
        "    \"UNREPORTED MEMBERS\": [ None ],\n",
        "    \"AUTHORS and UNREPORTED\": [ True, None ],\n",
        "    \"NON-AUTHORS and UNREPORTED\": [ False, None ]\n",
        "}\n",
        "author = widgets.SelectMultiple( options = options[ \"AUTHOR\" ], value = [ True ] )\n",
        "author"
      ],
      "execution_count": 7,
      "outputs": [
        {
          "output_type": "display_data",
          "data": {
            "application/vnd.jupyter.widget-view+json": {
              "model_id": "b95bbae7eda04593aed737492d6367a2",
              "version_minor": 0,
              "version_major": 2
            },
            "text/plain": [
              "SelectMultiple(index=(0,), options=(True, False, None), value=(True,))"
            ]
          },
          "metadata": {
            "tags": []
          }
        }
      ]
    },
    {
      "cell_type": "code",
      "metadata": {
        "colab": {
          "base_uri": "https://localhost:8080/",
          "height": 111,
          "referenced_widgets": [
            "34313827705f414985527d7d466ca41f",
            "e2951d4cf8dd47efb23c29dfdc7eeafd",
            "3adaa595e6764c02b00f0b1fc495bd22"
          ]
        },
        "cellView": "form",
        "id": "sSkL6l4qeJex",
        "outputId": "1d068a3d-64c4-486b-fbd5-21076ec3a703"
      },
      "source": [
        "#@markdown Select project(s) to report:\n",
        "projects = widgets.SelectMultiple( options = options[ \"PROJECT\" ] )\n",
        "projects"
      ],
      "execution_count": 8,
      "outputs": [
        {
          "output_type": "display_data",
          "data": {
            "application/vnd.jupyter.widget-view+json": {
              "model_id": "34313827705f414985527d7d466ca41f",
              "version_minor": 0,
              "version_major": 2
            },
            "text/plain": [
              "SelectMultiple(options=('ECAL', 'OFFLINE AND COMPUTING', 'HCAL', 'TRACKER', 'L1 TRIGGER', 'MUON-RPC', 'UPGRADE…"
            ]
          },
          "metadata": {
            "tags": []
          }
        }
      ]
    },
    {
      "cell_type": "code",
      "metadata": {
        "colab": {
          "base_uri": "https://localhost:8080/",
          "height": 111,
          "referenced_widgets": [
            "c06b656cf84e46b5a1de2ff44dbe858e",
            "ff19cfefe0e546368f34c688702d4ad3",
            "206bcdefeb5e4455b93b5f609c3387f2"
          ]
        },
        "cellView": "form",
        "id": "-KK-AKzKedOS",
        "outputId": "737d2db3-a54c-49a6-e90a-21c43479017e"
      },
      "source": [
        "#@markdown Select activity(s) to report:\n",
        "activities = widgets.SelectMultiple( options = options[ \"ACTIVITY\" ], value = [ \"DOCTORAL STUDENT\", \"PHYSICIST\" ] )\n",
        "activities"
      ],
      "execution_count": 9,
      "outputs": [
        {
          "output_type": "display_data",
          "data": {
            "application/vnd.jupyter.widget-view+json": {
              "model_id": "c06b656cf84e46b5a1de2ff44dbe858e",
              "version_minor": 0,
              "version_major": 2
            },
            "text/plain": [
              "SelectMultiple(index=(0, 1), options=('DOCTORAL STUDENT', 'PHYSICIST', 'ENGINEER', 'ENGINEER ELECTRONICS', 'NO…"
            ]
          },
          "metadata": {
            "tags": []
          }
        }
      ]
    },
    {
      "cell_type": "code",
      "metadata": {
        "colab": {
          "base_uri": "https://localhost:8080/",
          "height": 111,
          "referenced_widgets": [
            "d1286083a0f44130b8730056c29c5b38",
            "870538f40a54497cb4b5298bc64bad2d",
            "50f01cac4b3647d6bd2ad9d22ca734ca"
          ]
        },
        "cellView": "form",
        "id": "wpUPLCqEej2B",
        "outputId": "9d4c3efe-e331-4ca6-f890-d0e70b533e89"
      },
      "source": [
        "#@markdown Select country(s) to report (in addition to USCMS):\n",
        "countries = widgets.SelectMultiple( options = sorted( options[ \"COUNTRY\" ] ) )\n",
        "countries"
      ],
      "execution_count": 27,
      "outputs": [
        {
          "output_type": "display_data",
          "data": {
            "application/vnd.jupyter.widget-view+json": {
              "model_id": "d1286083a0f44130b8730056c29c5b38",
              "version_minor": 0,
              "version_major": 2
            },
            "text/plain": [
              "SelectMultiple(options=('Armenia', 'Australia', 'Austria', 'Bahrain', 'Belarus', 'Belgium', 'Brazil', 'Bulgari…"
            ]
          },
          "metadata": {
            "tags": []
          }
        }
      ]
    },
    {
      "cell_type": "code",
      "metadata": {
        "cellView": "form",
        "id": "jUCwOwetetqK"
      },
      "source": [
        "#@markdown ### Obtain the filtered statistics\n",
        "institute_list = np.array( [ list( institute.values() ) for institute in institutes  ] )\n",
        "\n",
        "countries_label = \"\"\n",
        "for country in countries.value:\n",
        "  if country == countries.value[-1]:\n",
        "    countries_label += country\n",
        "  else:\n",
        "    countries_label += country + \", \"\n",
        "\n",
        "if countries_label == \"\":\n",
        "  countries_label = \"NONE\"\n",
        "\n",
        "count = {\n",
        "    str( year ): {\n",
        "        \"MALE\": {\n",
        "            countries_label: 0,\n",
        "            \"USCMS\": 0,\n",
        "            \"CMS\": 0\n",
        "        },\n",
        "        \"FEMALE\": {\n",
        "            countries_label: 0,\n",
        "            \"USCMS\": 0,\n",
        "            \"CMS\": 0\n",
        "        },\n",
        "        \"NONE\": {\n",
        "            countries_label: 0,\n",
        "            \"USCMS\": 0,\n",
        "            \"CMS\": 0\n",
        "        }\n",
        "    } for year in years.value\n",
        "}\n",
        "\n",
        "for year in years.value:\n",
        "    for cms_id in data[ year ]:\n",
        "        this_index = np.argwhere( institute_list[:,0] == data[ year ][ cms_id ][ \"INSTITUTE\" ] )[0,0]\n",
        "        this_country = institute_list[ this_index, 1 ]\n",
        "        if data[ year ][ cms_id ][ \"AUTHOR\" ] in list( author.value ):\n",
        "            if data[ year ][ cms_id ][ \"ACTIVITY\" ].upper() in list( activities.value ):\n",
        "                for project in data[ year ][ cms_id ][ \"PROJECT\" ]:\n",
        "                    if project.upper() in list( projects.value ):\n",
        "                        if data[ year ][ cms_id ][ \"GENDER\" ] == \"F\":\n",
        "                            count[ year ][ \"FEMALE\" ][ \"CMS\" ] += 1\n",
        "                            if this_country.upper() in list( countries.value ):\n",
        "                                count[ year ][ \"FEMALE\" ][ countries_label ] += 1\n",
        "                            if this_country.upper() == \"USA\":\n",
        "                                count[ year ][ \"FEMALE\" ][ \"USCMS\" ] += 1\n",
        "                        if data[ year ][ cms_id ][ \"GENDER\" ] == \"M\":\n",
        "                            count[ year ][ \"MALE\" ][ \"CMS\" ] += 1\n",
        "                            if this_country.upper() in list( countries.value ):\n",
        "                                count[ year ][ \"MALE\" ][ countries_label ] += 1\n",
        "                            if this_country.upper() == \"USA\":\n",
        "                                count[ year ][ \"MALE\" ][ \"USCMS\" ] += 1\n",
        "                        if data[ year ][ cms_id ][ \"GENDER\" ] == None:\n",
        "                            count[ year ][ \"NONE\" ][ \"CMS\" ] += 1\n",
        "                            if this_country.upper() in list( countries.value ):\n",
        "                                count[ year ][ \"NONE\" ][ countries_label ] += 1\n",
        "                            if this_country.upper() == \"USA\":\n",
        "                                count[ year ][ \"NONE\" ][ \"USCMS\" ] += 1"
      ],
      "execution_count": 36,
      "outputs": []
    },
    {
      "cell_type": "code",
      "metadata": {
        "colab": {
          "base_uri": "https://localhost:8080/"
        },
        "cellView": "form",
        "id": "YuOdB9dejDiL",
        "outputId": "7de0701b-9bac-47d9-d04e-021b3af74747"
      },
      "source": [
        "#@markdown ### Report the filtered statistics:\n",
        "print( \"For the following parameters...\")\n",
        "print( \">> Selected years:\" )\n",
        "print( \"   o {}\".format( list( years.value ) ) )\n",
        "print( \">> Selected authorship status:\" )\n",
        "print( \"   o {}\".format( [ str(key) for key in author_legend if list( author.value ) == author_legend[ key ] ] ) )\n",
        "print( \">> Selected projects:\" )\n",
        "print( \"   o {}\".format( list( projects.value ) ) )\n",
        "print( \">> Selected activities:\" )\n",
        "print( \"   o {}\".format( list( activities.value ) ) )\n",
        "print( \">> Seleted countries:\" )\n",
        "print( \"   o {}\".format( list( countries.value ) ) )\n",
        "print( \"\\n\\n\")\n",
        "\n",
        "for year in years.value:\n",
        "    cms_total = count[ year ][ \"MALE\" ][ \"CMS\" ] + count[ year ][ \"FEMALE\" ][ \"CMS\" ] + count[ year ][ \"NONE\" ][ \"CMS\" ]\n",
        "    usa_total = count[ year ][ \"MALE\" ][ \"USCMS\" ] + count[ year ][ \"FEMALE\" ][ \"USCMS\" ] + count[ year ][ \"NONE\" ][ \"USCMS\" ]\n",
        "    country_total = count[ year ][ \"MALE\" ][ countries_label ] + count[ year ][ \"FEMALE\" ][ countries_label ] + count[ year ][ \"NONE\" ][ countries_label ]\n",
        "    if cms_total != 0: \n",
        "        print( \">> Year: {}\".format( year ) )\n",
        "        print( \"   o CMS Female: {} / {} ({:.2f}%)\".format(\n",
        "            count[ year ][ \"FEMALE\" ][ \"CMS\" ],\n",
        "            cms_total,\n",
        "            100. * float( count[ year ][ \"FEMALE\" ][ \"CMS\" ] ) / float( cms_total ) \n",
        "        ) )\n",
        "        print( \"   o CMS Male: {} / {} ({:.2f}%)\".format(\n",
        "            count[ year ][ \"MALE\" ][ \"CMS\" ],\n",
        "            cms_total,\n",
        "            100. * float( count[ year ][ \"MALE\" ][ \"CMS\" ] ) / float( cms_total ) \n",
        "        ) )\n",
        "    else: \n",
        "        print( \"[ERR] No CMS individuals were found in this category for {}...\".format( year ) )\n",
        "    if usa_total != 0: \n",
        "        print( \"   o USCMS Female: {} / {} ({:.2f}%)\".format(\n",
        "            count[ year ][ \"FEMALE\" ][ \"USCMS\" ],\n",
        "            usa_total,\n",
        "            100. * float( count[ year ][ \"FEMALE\" ][ \"USCMS\" ] ) / float( usa_total ) \n",
        "        ) )\n",
        "        print( \"   o USCMS Male: {} / {} ({:.2f}%)\".format(\n",
        "            count[ year ][ \"MALE\" ][ \"USCMS\" ],\n",
        "            usa_total,\n",
        "            100. * float( count[ year ][ \"MALE\" ][ \"USCMS\" ] ) / float( usa_total ) \n",
        "        ) )\n",
        "    else: \n",
        "        print( \"[ERR] No USCMS individuals were found in this category for {}...\".format( year ) )\n",
        "    if country_total != 0:\n",
        "        print( \"   o COUNTRIES Female: {} / {} ({:.2f}%)\".format(\n",
        "            count[ year ][ \"FEMALE\" ][ countries_label ],\n",
        "            country_total,\n",
        "            100. * float( count[ year ][ \"FEMALE\" ][ countries_label ] ) / float( country_total ) \n",
        "        ) )\n",
        "        print( \"   o COUNTRIES Male: {} / {} ({:.2f}%)\".format(\n",
        "            count[ year ][ \"MALE\" ][ \"CMS\" ],\n",
        "            country_total,\n",
        "            100. * float( count[ year ][ \"MALE\" ][ countries_label ] ) / float( country_total ) \n",
        "        ) )\n",
        "    else:\n",
        "        print( \"[ERR] No COUNTRIES individuals were found in this category for {}...\".format( year ) )"
      ],
      "execution_count": 34,
      "outputs": [
        {
          "output_type": "stream",
          "text": [
            "For the following parameters...\n",
            ">> Selected years:\n",
            "   o ['2015', '2016', '2017', '2018', '2019', '2020']\n",
            ">> Selected authorship status:\n",
            "   o ['AUTHORS']\n",
            ">> Selected projects:\n",
            "   o ['MTD']\n",
            ">> Selected activities:\n",
            "   o ['DOCTORAL STUDENT', 'PHYSICIST']\n",
            ">> Seleted countries:\n",
            "   o []\n",
            "\n",
            "\n",
            "\n",
            "[ERR] No CMS individuals were found in this category for 2015...\n",
            "[ERR] No USCMS individuals were found in this category for 2015...\n",
            "[ERR] No COUNTRIES individuals were found in this category for 2015...\n",
            "[ERR] No CMS individuals were found in this category for 2016...\n",
            "[ERR] No USCMS individuals were found in this category for 2016...\n",
            "[ERR] No COUNTRIES individuals were found in this category for 2016...\n",
            "[ERR] No CMS individuals were found in this category for 2017...\n",
            "[ERR] No USCMS individuals were found in this category for 2017...\n",
            "[ERR] No COUNTRIES individuals were found in this category for 2017...\n",
            "[ERR] No CMS individuals were found in this category for 2018...\n",
            "[ERR] No USCMS individuals were found in this category for 2018...\n",
            "[ERR] No COUNTRIES individuals were found in this category for 2018...\n",
            ">> Year: 2019\n",
            "   o CMS Female: 13 / 53 (24.53%)\n",
            "   o CMS Male: 40 / 53 (75.47%)\n",
            "   o USCMS Female: 7 / 27 (25.93%)\n",
            "   o USCMS Male: 20 / 27 (74.07%)\n",
            "[ERR] No COUNTRIES individuals were found in this category for 2019...\n",
            ">> Year: 2020\n",
            "   o CMS Female: 24 / 76 (31.58%)\n",
            "   o CMS Male: 52 / 76 (68.42%)\n",
            "   o USCMS Female: 13 / 40 (32.50%)\n",
            "   o USCMS Male: 27 / 40 (67.50%)\n",
            "[ERR] No COUNTRIES individuals were found in this category for 2020...\n"
          ],
          "name": "stdout"
        }
      ]
    },
    {
      "cell_type": "code",
      "metadata": {
        "colab": {
          "base_uri": "https://localhost:8080/",
          "height": 391
        },
        "cellView": "form",
        "id": "3IpSxRu4kIFC",
        "outputId": "1e20d4e8-f7b2-4291-acde-9384a9698f4b"
      },
      "source": [
        "#@markdown ### Visualize the filtered statistics by year\n",
        "\n",
        "width = 0.9 / len( years.value )\n",
        "if countries_label == \"NONE\":\n",
        "  x = np.arange( 2 )\n",
        "else: \n",
        "  x = np.arange( 3 )\n",
        "\n",
        "plt.figure( figsize = (6 * len(x) ,6) )\n",
        "ax = plt.subplot(111)\n",
        "\n",
        "for i, year in enumerate( list( years.value ) ):\n",
        "    ax.bar( x + width * i, list( count[ year ][ \"FEMALE\" ].values() )[-len(x):], width,\n",
        "           color = \"lightgreen\", zorder=3 )\n",
        "    ax.bar( x + width * i, list( count[ year ][ \"MALE\" ].values() )[-len(x):], width,\n",
        "           bottom = list( count[ year ][ \"FEMALE\" ].values() )[-len(x):],\n",
        "           color = \"dodgerblue\", zorder=3 )\n",
        "\n",
        "    \n",
        "ax.set_title( \"{} to {} Gender Count for {} {} in {} working on {}\".format( \n",
        "    years.value[0], years.value[-1],\n",
        "    [ str(key) for key in author_legend if list( author.value ) == author_legend[ key ] ][0], \n",
        "    list(activities.value), list(countries.value) + [\"USCMS\"], list(projects.value)\n",
        "), fontsize = 8 )\n",
        "ax.set_ylabel( \"Count\", y = 1.0, ha = \"right\", fontsize = 14 )\n",
        "ax.set_xticks( x )\n",
        "ax.set_xticklabels( [ countries_label, \"USCMS\", \"CMS\" ][-len(x):], fontsize = 14 )\n",
        "\n",
        "custom_legend = [\n",
        "  Line2D( [0], [0], color = \"lightgreen\", lw = 5 ),\n",
        "  Line2D( [0], [0], color = \"dodgerblue\", lw = 5 )\n",
        "]\n",
        "ax.legend( custom_legend, [ \"Women\", \"Men\" ], loc = 2 )\n",
        "\n",
        "ax.set_facecolor(\"white\")\n",
        "ax.grid( b=True, which=\"major\", axis=\"y\", color = [0.7,0.7,0.7], \n",
        "        linestyle = \":\", linewidth = 1, zorder=0)\n",
        "plt.show()"
      ],
      "execution_count": 46,
      "outputs": [
        {
          "output_type": "display_data",
          "data": {
            "image/png": "[encoded data removed]",
            "text/plain": [
              "<Figure size 864x432 with 1 Axes>"
            ]
          },
          "metadata": {
            "tags": [],
            "needs_background": "light"
          }
        }
      ]
    },
    {
      "cell_type": "code",
      "metadata": {
        "id": "1w2Txv7sl0vy"
      },
      "source": [
        ""
      ],
      "execution_count": null,
      "outputs": []
    }
  ]
}