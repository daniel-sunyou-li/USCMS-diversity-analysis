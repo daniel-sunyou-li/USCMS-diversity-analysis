{
 "cells": [
  {
   "cell_type": "markdown",
   "id": "robust-challenge",
   "metadata": {},
   "source": [
    "# CMS Diversity Analysis:\n",
    "### Comparing the USCMS to the full CMS Collaboration\n",
    "\n",
    "This notebook will visualize and report the diversity statistics for the USCMS institutions relative to the full CMS Collaboration.  The statistics can be filtered by year, gender, role, activity and authorship. The visualization will further separate the filtered group of individuals by institute.\n",
    "\n",
    "### Import `python` libraries"
   ]
  },
  {
   "cell_type": "code",
   "execution_count": 1,
   "id": "ideal-ambassador",
   "metadata": {},
   "outputs": [],
   "source": [
    "import os, json\n",
    "import numpy as np\n",
    "import pandas as pd\n",
    "import matplotlib.pyplot as plt\n",
    "from matplotlib.colors import ListedColormap\n",
    "from matplotlib.lines import Line2D\n",
    "import ipywidgets as widgets\n",
    "from scipy import stats"
   ]
  },
  {
   "cell_type": "markdown",
   "id": "recent-atlantic",
   "metadata": {},
   "source": [
    "Import the `json` data file `json_analysis.json`.  This file is created from `combine_json.ipynb` which should be run before this notebook.  Display the available years in the `json` file."
   ]
  },
  {
   "cell_type": "code",
   "execution_count": 2,
   "id": "dated-weight",
   "metadata": {},
   "outputs": [
    {
     "name": "stdout",
     "output_type": "stream",
     "text": [
      ">> json_analysis.json contains years: ['2015', '2016', '2017', '2018', '2019', '2020']\n"
     ]
    }
   ],
   "source": [
    "with open( \"Data/json_analysis.json\" ) as json_file:\n",
    "    data = json.load( json_file )\n",
    "print( \">> json_analysis.json contains years: {}\".format( list( data.keys() ) ) )"
   ]
  },
  {
   "cell_type": "markdown",
   "id": "increased-hands",
   "metadata": {},
   "source": [
    "Distinguish between the USCMS institutes and full CMS Collaboration institutes into separate datasets."
   ]
  },
  {
   "cell_type": "code",
   "execution_count": 3,
   "id": "designing-algeria",
   "metadata": {},
   "outputs": [
    {
     "name": "stdout",
     "output_type": "stream",
     "text": [
      ">> Number of CMS institutions: 536\n",
      ">> Number of USCMS institutions: 80\n"
     ]
    }
   ],
   "source": [
    "with open( \"Data/institutes_new.json\" ) as json_file:\n",
    "    institutes = json.load( json_file )\n",
    "\n",
    "us_institutes = [ institute[\"code\"] for institute in institutes if institute[\"country\"].lower() == \"usa\" ]\n",
    "    \n",
    "print( \">> Number of CMS institutions: {}\".format( len(institutes) ) )\n",
    "print( \">> Number of USCMS institutions: {}\".format( len(us_institutes) ) )"
   ]
  },
  {
   "cell_type": "markdown",
   "id": "pleased-duration",
   "metadata": {},
   "source": [
    "## Select the filters\n",
    "Select the project, activities authorship status and years to report on.  "
   ]
  },
  {
   "cell_type": "code",
   "execution_count": 4,
   "id": "damaged-depression",
   "metadata": {
    "scrolled": true
   },
   "outputs": [],
   "source": [
    "options = {\n",
    "    \"PROJECT\": [],\n",
    "    \"ACTIVITY\": [],\n",
    "    \"COUNTRY\": list( set( [ institute[\"country\"] for institute in institutes ] ) ),\n",
    "    \"AUTHOR\": [],\n",
    "    \"YEARS\": []\n",
    "}\n",
    "\n",
    "for year in list( data.keys() ):\n",
    "    options[ \"YEARS\" ].append( year )\n",
    "    for cms_id in data[ year ]:\n",
    "        for project in data[ year ][ cms_id ][ \"PROJECT\" ]:\n",
    "            if project not in options[ \"PROJECT\" ]: options[ \"PROJECT\" ].append( project.upper() )\n",
    "        if data[ year ][ cms_id ][ \"ACTIVITY\" ].upper() not in options[ \"ACTIVITY\" ]: options[ \"ACTIVITY\" ].append( data[ year ][ cms_id ][ \"ACTIVITY\" ].upper() )\n",
    "        if data[ year ][ cms_id ][ \"AUTHOR\" ]   not in options[ \"AUTHOR\" ]:   options[ \"AUTHOR\" ].append( data[ year ][ cms_id ][ \"AUTHOR\" ] )"
   ]
  },
  {
   "cell_type": "markdown",
   "id": "optical-closure",
   "metadata": {},
   "source": [
    "Select years to report:"
   ]
  },
  {
   "cell_type": "code",
   "execution_count": 5,
   "id": "passing-sampling",
   "metadata": {},
   "outputs": [
    {
     "data": {
      "application/vnd.jupyter.widget-view+json": {
       "model_id": "dbf26da01af143aeae2a7e2281a9598d",
       "version_major": 2,
       "version_minor": 0
      },
      "text/plain": [
       "SelectMultiple(index=(5,), options=('2015', '2016', '2017', '2018', '2019', '2020'), value=('2020',))"
      ]
     },
     "metadata": {},
     "output_type": "display_data"
    }
   ],
   "source": [
    "years = widgets.SelectMultiple( options = options[ \"YEARS\" ], value = [ options[ \"YEARS\"][-1] ] )\n",
    "years"
   ]
  },
  {
   "cell_type": "markdown",
   "id": "regular-terrain",
   "metadata": {},
   "source": [
    "Select authorship status to report:"
   ]
  },
  {
   "cell_type": "code",
   "execution_count": 6,
   "id": "extended-bangkok",
   "metadata": {},
   "outputs": [
    {
     "data": {
      "application/vnd.jupyter.widget-view+json": {
       "model_id": "cf3afe6c32a8452e9d6261323b5b0bdc",
       "version_major": 2,
       "version_minor": 0
      },
      "text/plain": [
       "SelectMultiple(index=(0,), options=(True, False, None), value=(True,))"
      ]
     },
     "metadata": {},
     "output_type": "display_data"
    }
   ],
   "source": [
    "author_legend = {\n",
    "    \"AUTHORS\": [ True ],\n",
    "    \"ALL MEMBERS\": [ True, False, None ],\n",
    "    \"NON-AUTHORS:\": [ False ],\n",
    "    \"REPORTED MEMBERS\": [ True, False ],\n",
    "    \"UNREPORTED MEMBERS\": [ None ],\n",
    "    \"AUTHORS and UNREPORTED\": [ True, None ],\n",
    "    \"NON-AUTHORS and UNREPORTED\": [ False, None ]\n",
    "}\n",
    "author = widgets.SelectMultiple( options = options[ \"AUTHOR\" ], value = [ True ] )\n",
    "author"
   ]
  },
  {
   "cell_type": "markdown",
   "id": "modified-funeral",
   "metadata": {},
   "source": [
    "Select project(s) to report:"
   ]
  },
  {
   "cell_type": "code",
   "execution_count": 7,
   "id": "royal-patient",
   "metadata": {},
   "outputs": [
    {
     "data": {
      "application/vnd.jupyter.widget-view+json": {
       "model_id": "0e46872fbe9042f1a66eebac7bf1df23",
       "version_major": 2,
       "version_minor": 0
      },
      "text/plain": [
       "SelectMultiple(options=('ECAL', 'OFFLINE AND COMPUTING', 'HCAL', 'TRACKER', 'L1 TRIGGER', 'MUON-RPC', 'UPGRADE…"
      ]
     },
     "metadata": {},
     "output_type": "display_data"
    }
   ],
   "source": [
    "projects = widgets.SelectMultiple( options = options[ \"PROJECT\" ] )\n",
    "projects"
   ]
  },
  {
   "cell_type": "markdown",
   "id": "rapid-louisiana",
   "metadata": {},
   "source": [
    "Select activity(s) to report:"
   ]
  },
  {
   "cell_type": "code",
   "execution_count": 8,
   "id": "respected-training",
   "metadata": {},
   "outputs": [
    {
     "data": {
      "application/vnd.jupyter.widget-view+json": {
       "model_id": "497d2105947744f99dda5ea7e2ffe945",
       "version_major": 2,
       "version_minor": 0
      },
      "text/plain": [
       "SelectMultiple(index=(0, 1), options=('DOCTORAL STUDENT', 'PHYSICIST', 'ENGINEER', 'ENGINEER ELECTRONICS', 'NO…"
      ]
     },
     "metadata": {},
     "output_type": "display_data"
    }
   ],
   "source": [
    "activities = widgets.SelectMultiple( options = options[ \"ACTIVITY\" ], value = [ \"DOCTORAL STUDENT\", \"PHYSICIST\" ] )\n",
    "activities"
   ]
  },
  {
   "cell_type": "markdown",
   "id": "bronze-engine",
   "metadata": {},
   "source": [
    "Select country(s) to report (default = `USA`):"
   ]
  },
  {
   "cell_type": "code",
   "execution_count": 9,
   "id": "parliamentary-coupon",
   "metadata": {},
   "outputs": [
    {
     "data": {
      "application/vnd.jupyter.widget-view+json": {
       "model_id": "8c741f00416d49c78a7f7760a3bd920b",
       "version_major": 2,
       "version_minor": 0
      },
      "text/plain": [
       "SelectMultiple(index=(59,), options=('Armenia', 'Australia', 'Austria', 'Bahrain', 'Belarus', 'Belgium', 'Braz…"
      ]
     },
     "metadata": {},
     "output_type": "display_data"
    }
   ],
   "source": [
    "countries = widgets.SelectMultiple( options = sorted( options[ \"COUNTRY\" ] ), value = [\"USA\"] )\n",
    "countries"
   ]
  },
  {
   "cell_type": "markdown",
   "id": "durable-input",
   "metadata": {},
   "source": [
    "## Obtain the filtered statistics"
   ]
  },
  {
   "cell_type": "code",
   "execution_count": 68,
   "id": "uniform-month",
   "metadata": {},
   "outputs": [],
   "source": [
    "institute_list = np.array( [ list( institute.values() ) for institute in institutes  ] )\n",
    "\n",
    "count = {\n",
    "    str( year ): {\n",
    "        \"MALE\": {\n",
    "            \"COUNTRIES\": 0,\n",
    "            \"CMS\": 0\n",
    "        },\n",
    "        \"FEMALE\": {\n",
    "            \"COUNTRIES\": 0,\n",
    "            \"CMS\": 0\n",
    "        },\n",
    "        \"NONE\": {\n",
    "            \"COUNTRIES\": 0,\n",
    "            \"CMS\": 0\n",
    "        }\n",
    "    } for year in years.value\n",
    "}\n",
    "\n",
    "for year in years.value:\n",
    "    for cms_id in data[ year ]:\n",
    "        this_index = np.argwhere( institute_list[:,0] == data[ year ][ cms_id ][ \"INSTITUTE\" ] )[0,0]\n",
    "        this_country = institute_list[ this_index, 1 ]\n",
    "        if data[ year ][ cms_id ][ \"AUTHOR\" ] in list( author.value ):\n",
    "            if data[ year ][ cms_id ][ \"ACTIVITY\" ].upper() in list( activities.value ):\n",
    "                for project in data[ year ][ cms_id ][ \"PROJECT\" ]:\n",
    "                    if project.upper() in list( projects.value ):\n",
    "                        if data[ year ][ cms_id ][ \"GENDER\" ] == \"F\":\n",
    "                            count[ year ][ \"FEMALE\" ][ \"CMS\" ] += 1\n",
    "                            if this_country.upper() in list( countries.value ):\n",
    "                                count[ year ][ \"FEMALE\" ][ \"COUNTRIES\" ] += 1\n",
    "                        if data[ year ][ cms_id ][ \"GENDER\" ] == \"M\":\n",
    "                            count[ year ][ \"MALE\" ][ \"CMS\" ] += 1\n",
    "                            if this_country.upper() in list( countries.value ):\n",
    "                                count[ year ][ \"MALE\" ][ \"COUNTRIES\" ] += 1\n",
    "                        if data[ year ][ cms_id ][ \"GENDER\" ] == None:\n",
    "                            count[ year ][ \"NONE\" ][ \"CMS\" ] += 1\n",
    "                            if this_country.upper() in list( countries.value ):\n",
    "                                count[ year ][ \"NONE\" ][ \"COUNTRIES\" ] += 1"
   ]
  },
  {
   "cell_type": "code",
   "execution_count": 72,
   "id": "civic-crest",
   "metadata": {},
   "outputs": [
    {
     "name": "stdout",
     "output_type": "stream",
     "text": [
      "For the following parameters...\n",
      ">> Selected years:\n",
      "   o ['2017', '2018', '2019', '2020']\n",
      ">> Selected authorship status:\n",
      "   o ['AUTHORS']\n",
      ">> Selected projects:\n",
      "   o ['MTD']\n",
      ">> Selected activities:\n",
      "   o ['DOCTORAL STUDENT', 'PHYSICIST']\n",
      ">> Seleted countries:\n",
      "   o ['USA']\n",
      "\n",
      "\n",
      "\n",
      "[ERR] No CMS individuals were found in this category for 2017...\n",
      "[ERR] No COUNTRIES individuals were found in this category for 2017...\n",
      "[ERR] No CMS individuals were found in this category for 2018...\n",
      "[ERR] No COUNTRIES individuals were found in this category for 2018...\n",
      ">> Year: 2019\n",
      "   o CMS Female: 13 / 76 (24.53%)\n",
      "   o CMS Male: 40 / 76 (75.47%)\n",
      "   o COUNTRIES Female: 7 / 76 (25.93%)\n",
      "   o COUNTRIES Male: 40 / 76 (74.07%)\n",
      ">> Year: 2020\n",
      "   o CMS Female: 24 / 76 (31.58%)\n",
      "   o CMS Male: 52 / 76 (68.42%)\n",
      "   o COUNTRIES Female: 13 / 76 (32.50%)\n",
      "   o COUNTRIES Male: 52 / 76 (67.50%)\n"
     ]
    }
   ],
   "source": [
    "print( \"For the following parameters...\")\n",
    "print( \">> Selected years:\" )\n",
    "print( \"   o {}\".format( list( years.value ) ) )\n",
    "print( \">> Selected authorship status:\" )\n",
    "print( \"   o {}\".format( [ str(key) for key in author_legend if list( author.value ) == author_legend[ key ] ] ) )\n",
    "print( \">> Selected projects:\" )\n",
    "print( \"   o {}\".format( list( projects.value ) ) )\n",
    "print( \">> Selected activities:\" )\n",
    "print( \"   o {}\".format( list( activities.value ) ) )\n",
    "print( \">> Seleted countries:\" )\n",
    "print( \"   o {}\".format( list( countries.value ) ) )\n",
    "print( \"\\n\\n\")\n",
    "\n",
    "for year in years.value:\n",
    "    cms_total = count[ year ][ \"MALE\" ][ \"CMS\" ] + count[ year ][ \"FEMALE\" ][ \"CMS\" ] + count[ year ][ \"NONE\" ][ \"CMS\" ]\n",
    "    country_total = count[ year ][ \"MALE\" ][ \"COUNTRIES\" ] + count[ year ][ \"FEMALE\" ][ \"COUNTRIES\" ] + count[ year ][ \"NONE\" ][ \"COUNTRIES\" ]\n",
    "    if cms_total != 0: \n",
    "        print( \">> Year: {}\".format( year ) )\n",
    "        print( \"   o CMS Female: {} / {} ({:.2f}%)\".format(\n",
    "            count[ year ][ \"FEMALE\" ][ \"CMS\" ],\n",
    "            this_total,\n",
    "            100. * float( count[ year ][ \"FEMALE\" ][ \"CMS\" ] ) / float( cms_total ) \n",
    "        ) )\n",
    "        print( \"   o CMS Male: {} / {} ({:.2f}%)\".format(\n",
    "            count[ year ][ \"MALE\" ][ \"CMS\" ],\n",
    "            this_total,\n",
    "            100. * float( count[ year ][ \"MALE\" ][ \"CMS\" ] ) / float( cms_total ) \n",
    "        ) )\n",
    "    else: \n",
    "        print( \"[ERR] No CMS individuals were found in this category for {}...\".format( year ) )\n",
    "    if country_total != 0:\n",
    "        print( \"   o COUNTRIES Female: {} / {} ({:.2f}%)\".format(\n",
    "            count[ year ][ \"FEMALE\" ][ \"COUNTRIES\" ],\n",
    "            this_total,\n",
    "            100. * float( count[ year ][ \"FEMALE\" ][ \"COUNTRIES\" ] ) / float( country_total ) \n",
    "        ) )\n",
    "        print( \"   o COUNTRIES Male: {} / {} ({:.2f}%)\".format(\n",
    "            count[ year ][ \"MALE\" ][ \"CMS\" ],\n",
    "            this_total,\n",
    "            100. * float( count[ year ][ \"MALE\" ][ \"COUNTRIES\" ] ) / float( country_total ) \n",
    "        ) )\n",
    "    else:\n",
    "        print( \"[ERR] No COUNTRIES individuals were found in this category for {}...\".format( year ) )"
   ]
  },
  {
   "cell_type": "markdown",
   "id": "irish-wealth",
   "metadata": {},
   "source": [
    "## Visualize the filtered statistics by year"
   ]
  },
  {
   "cell_type": "code",
   "execution_count": 113,
   "id": "pregnant-terrorist",
   "metadata": {},
   "outputs": [
    {
     "data": {
      "image/png": "[encoded data removed]",
      "text/plain": [
       "<Figure size 864x432 with 1 Axes>"
      ]
     },
     "metadata": {
      "needs_background": "light"
     },
     "output_type": "display_data"
    }
   ],
   "source": [
    "width = 0.9 / len( years.value )\n",
    "x = np.arange( 2 )\n",
    "\n",
    "plt.figure( figsize = (12,6) )\n",
    "ax = plt.subplot(111)\n",
    "\n",
    "for i, year in enumerate( list( years.value ) ):\n",
    "    ax.bar( x + width * i, list( count[ year ][ \"FEMALE\" ].values() ), width, color = \"lightgreen\" )\n",
    "    ax.bar( x + width * i, list( count[ year ][ \"MALE\" ].values() ), width, bottom = list( count[ year ][ \"FEMALE\" ].values() ), color = \"dodgerblue\" )\n",
    "\n",
    "    \n",
    "ax.set_title( \"{} to {} Gender Count for {} {} in {} working on {}\".format( \n",
    "    years.value[0], years.value[-1],\n",
    "    [ str(key) for key in author_legend if list( author.value ) == author_legend[ key ] ][0], \n",
    "    list(activities.value), list(countries.value), list(projects.value)\n",
    "), fontsize = 8 )\n",
    "ax.set_ylabel( \"Count\", y = 1.0, ha = \"right\", fontsize = 14 )\n",
    "ax.set_xticks( x + 0.35 )\n",
    "ax.set_xticklabels( [ \"COUNTRIES\", \"CMS\" ], fontsize = 14 )\n",
    "\n",
    "custom_legend = [\n",
    "  Line2D( [0], [0], color = \"lightgreen\", lw = 5 ),\n",
    "  Line2D( [0], [0], color = \"dodgerblue\", lw = 5 )\n",
    "]\n",
    "ax.legend( custom_legend, [ \"Women\", \"Men\" ], loc = 2 )\n",
    "\n",
    "ax.set_facecolor(\"white\")\n",
    "ax.grid( b=True, which=\"major\", axis=\"y\", color = [0.7,0.7,0.7], linestyle = \":\", linewidth = 1)\n",
    "plt.show()"
   ]
  },
  {
   "cell_type": "code",
   "execution_count": null,
   "id": "short-parks",
   "metadata": {},
   "outputs": [],
   "source": []
  }
 ],
 "metadata": {
  "kernelspec": {
   "display_name": "Python 3",
   "language": "python",
   "name": "python3"
  },
  "language_info": {
   "codemirror_mode": {
    "name": "ipython",
    "version": 3
   },
   "file_extension": ".py",
   "mimetype": "text/x-python",
   "name": "python",
   "nbconvert_exporter": "python",
   "pygments_lexer": "ipython3",
   "version": "3.8.6"
  }
 },
 "nbformat": 4,
 "nbformat_minor": 5
}
